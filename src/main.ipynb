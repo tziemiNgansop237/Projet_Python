{
 "cells": [
  {
   "cell_type": "markdown",
   "metadata": {},
   "source": [
    "Ce notebook permet l'exécuter l'ensemble des notebooks  "
   ]
  },
  {
   "cell_type": "code",
   "execution_count": 35,
   "metadata": {},
   "outputs": [],
   "source": [
    "import nbformat\n",
    "from nbconvert.preprocessors import ExecutePreprocessor\n",
    "import time\n",
    "\n",
    "def execute_notebook(notebook_filename):\n",
    "    # Charger le notebook à exécuter\n",
    "    with open(notebook_filename) as f:\n",
    "        notebook_content = nbformat.read(f, as_version=4)\n",
    "\n",
    "    # Créer un exécuteur pour le notebook\n",
    "    ep = ExecutePreprocessor(timeout=600, kernel_name='python3')\n",
    "\n",
    "    # Exécuter le notebook\n",
    "    try:\n",
    "        start_time = time.time()  # Démarre un chronomètre\n",
    "        ep.preprocess(notebook_content, {'metadata': {'path': './'}})\n",
    "        execution_time = time.time() - start_time  # Calcul du temps d'exécution\n",
    "        print(f\"Exécution du notebook '{notebook_filename}' terminée avec succès en {execution_time:.2f} secondes.\")\n",
    "    except Exception as e:\n",
    "        print(f\"Erreur lors de l'exécution du notebook '{notebook_filename}' : {e}\")\n",
    "\n"
   ]
  },
  {
   "cell_type": "code",
   "execution_count": 36,
   "metadata": {},
   "outputs": [
    {
     "name": "stdout",
     "output_type": "stream",
     "text": [
      "Exécution du notebook 'Preparation_donnees.ipynb' terminée avec succès en 11.57 secondes.\n"
     ]
    }
   ],
   "source": [
    "# Exécuter du notebook pour la préparation des données\n",
    "execute_notebook('Preparation_donnees.ipynb')"
   ]
  },
  {
   "cell_type": "code",
   "execution_count": null,
   "metadata": {},
   "outputs": [],
   "source": [
    "# Exécution du notebook pour l'analyse des données\n",
    "execute_notebook('analyse_des_donnees.ipynb')"
   ]
  },
  {
   "cell_type": "markdown",
   "metadata": {},
   "source": [
    "NB: Bien que l'exécution via le fichier 'main.ipynb' du notebook 'analyse_des_donnees.ipynb' semble ne pas marcher, ce dernier fonctionne très bien quand on l'exécute directement sans passer par 'main'."
   ]
  },
  {
   "cell_type": "code",
   "execution_count": 38,
   "metadata": {},
   "outputs": [
    {
     "name": "stdout",
     "output_type": "stream",
     "text": [
      "Exécution du notebook 'Modélisation.ipynb' terminée avec succès en 8.48 secondes.\n"
     ]
    }
   ],
   "source": [
    "# Exécution du notebook pour la modélisation\n",
    "execute_notebook('Modélisation.ipynb')"
   ]
  }
 ],
 "metadata": {
  "kernelspec": {
   "display_name": "base",
   "language": "python",
   "name": "python3"
  },
  "language_info": {
   "codemirror_mode": {
    "name": "ipython",
    "version": 3
   },
   "file_extension": ".py",
   "mimetype": "text/x-python",
   "name": "python",
   "nbconvert_exporter": "python",
   "pygments_lexer": "ipython3",
   "version": "3.12.7"
  }
 },
 "nbformat": 4,
 "nbformat_minor": 2
}
