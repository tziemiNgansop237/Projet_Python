{
 "cells": [
  {
   "cell_type": "markdown",
   "metadata": {},
   "source": [
    "tout dabord , nous allons importer les données depuis le site de la banque mondiale à partir de leur API"
   ]
  },
  {
   "cell_type": "code",
   "execution_count": null,
   "metadata": {},
   "outputs": [],
   "source": [
    "print(\"welcome alex and elise. time to get started\")\n",
    "!pip install wbdata"
   ]
  },
  {
   "cell_type": "code",
   "execution_count": 3,
   "metadata": {},
   "outputs": [
    {
     "name": "stdout",
     "output_type": "stream",
     "text": [
      "                        Country Country Code  Year         Value\n",
      "0   Africa Eastern and Southern           ZH  2023  1.068604e+12\n",
      "1   Africa Eastern and Southern           ZH  2022  1.041298e+12\n",
      "2   Africa Eastern and Southern           ZH  2021  1.005556e+12\n",
      "3   Africa Eastern and Southern           ZH  2020  9.622785e+11\n",
      "4   Africa Eastern and Southern           ZH  2019  9.897987e+11\n",
      "5   Africa Eastern and Southern           ZH  2018  9.685937e+11\n",
      "6   Africa Eastern and Southern           ZH  2017  9.432971e+11\n",
      "7   Africa Eastern and Southern           ZH  2016  9.189325e+11\n",
      "8   Africa Eastern and Southern           ZH  2015  8.992957e+11\n",
      "9   Africa Eastern and Southern           ZH  2014  8.730045e+11\n",
      "10  Africa Eastern and Southern           ZH  2013  8.395632e+11\n",
      "11  Africa Eastern and Southern           ZH  2012  8.053337e+11\n",
      "12  Africa Eastern and Southern           ZH  2011  7.914345e+11\n",
      "13  Africa Eastern and Southern           ZH  2010  7.604900e+11\n",
      "14  Africa Eastern and Southern           ZH  2009  7.226672e+11\n",
      "15  Africa Eastern and Southern           ZH  2008  7.163608e+11\n",
      "16  Africa Eastern and Southern           ZH  2007  6.863594e+11\n",
      "17  Africa Eastern and Southern           ZH  2006  6.435831e+11\n",
      "18  Africa Eastern and Southern           ZH  2005  6.038634e+11\n",
      "19  Africa Eastern and Southern           ZH  2004  5.687979e+11\n",
      "20  Africa Eastern and Southern           ZH  2003  5.388520e+11\n",
      "21  Africa Eastern and Southern           ZH  2002  5.233432e+11\n",
      "22  Africa Eastern and Southern           ZH  2001  5.039820e+11\n",
      "23  Africa Eastern and Southern           ZH  2000  4.868914e+11\n",
      "24  Africa Eastern and Southern           ZH  1999  4.717034e+11\n",
      "25  Africa Eastern and Southern           ZH  1998  4.594993e+11\n",
      "26  Africa Eastern and Southern           ZH  1997  4.515592e+11\n",
      "27  Africa Eastern and Southern           ZH  1996  4.348657e+11\n",
      "28  Africa Eastern and Southern           ZH  1995  4.123718e+11\n",
      "29  Africa Eastern and Southern           ZH  1994  3.954345e+11\n",
      "30  Africa Eastern and Southern           ZH  1993  3.880651e+11\n",
      "31  Africa Eastern and Southern           ZH  1992  3.903745e+11\n",
      "32  Africa Eastern and Southern           ZH  1991  3.997900e+11\n",
      "33  Africa Eastern and Southern           ZH  1990  4.001610e+11\n",
      "34  Africa Eastern and Southern           ZH  1989  3.994339e+11\n",
      "35  Africa Eastern and Southern           ZH  1988  3.889409e+11\n",
      "36  Africa Eastern and Southern           ZH  1987  3.730051e+11\n",
      "37  Africa Eastern and Southern           ZH  1986  3.587812e+11\n",
      "38  Africa Eastern and Southern           ZH  1985  3.508494e+11\n",
      "39  Africa Eastern and Southern           ZH  1984  3.512553e+11\n",
      "40  Africa Eastern and Southern           ZH  1983  3.398151e+11\n",
      "41  Africa Eastern and Southern           ZH  1982  3.397382e+11\n",
      "42  Africa Eastern and Southern           ZH  1981  3.386559e+11\n",
      "43  Africa Eastern and Southern           ZH  1980  3.255775e+11\n",
      "44  Africa Eastern and Southern           ZH  1979  3.087290e+11\n",
      "45  Africa Eastern and Southern           ZH  1978  2.999811e+11\n",
      "46  Africa Eastern and Southern           ZH  1977  2.954990e+11\n",
      "47  Africa Eastern and Southern           ZH  1976  2.921639e+11\n",
      "48  Africa Eastern and Southern           ZH  1975  2.853852e+11\n",
      "49  Africa Eastern and Southern           ZH  1974  2.813751e+11\n"
     ]
    }
   ],
   "source": [
    "import requests\n",
    "import pandas as pd\n",
    "\n",
    "# Liste des indicateurs avec leurs codes\n",
    "indicators = {\n",
    "    \"GDP (constant 2015 US$)\": \"NY.GDP.MKTP.KD\",\n",
    "    \"Gross Fixed Capital Formation (constant 2015 US$)\": \"NE.GDI.FTOT.KD\",\n",
    "    \"Population ages 15-64, total\": \"SP.POP.1564.TO\",\n",
    "    \"Gross Fixed Capital Formation (% GDP)\": \"NE.GDI.FTOT.ZS\"\n",
    "}\n",
    "\n",
    "# Fonction pour récupérer les données\n",
    "def fetch_data(indicator, country_code='all'):\n",
    "    url = f\"http://api.worldbank.org/v2/country/{country_code}/indicator/{indicator}?format=json\"\n",
    "    response = requests.get(url)\n",
    "    if response.status_code == 200:\n",
    "        return response.json()\n",
    "    else:\n",
    "        return None\n",
    "\n",
    "# Transformer les données en DataFrame avec ajout des codes pays\n",
    "def parse_data(api_response):\n",
    "    records = []\n",
    "    if api_response and len(api_response) > 1:\n",
    "        for entry in api_response[1]:\n",
    "            country = entry.get(\"country\", {}).get(\"value\")  # Nom du pays\n",
    "            country_code = entry.get(\"country\", {}).get(\"id\")  # Code du pays\n",
    "            records.append({\n",
    "                \"Country\": country,\n",
    "                \"Country Code\": country_code,\n",
    "                \"Year\": entry.get(\"date\"),\n",
    "                \"Value\": entry.get(\"value\")\n",
    "            })\n",
    "    return pd.DataFrame(records)\n",
    "\n",
    "# Exemple d'utilisation pour récupérer les données de l'indicateur \"GDP (constant 2015 US$)\"\n",
    "indicator_code = indicators[\"GDP (constant 2015 US$)\"]\n",
    "data = fetch_data(indicator_code)\n",
    "\n",
    "# Création du DataFrame\n",
    "df = parse_data(data)\n",
    "print(df.head(100))  # Afficher les 5 premières lignes du DataFrame\n"
   ]
  },
  {
   "cell_type": "code",
   "execution_count": 4,
   "metadata": {},
   "outputs": [
    {
     "data": {
      "text/plain": [
       "(50, 4)"
      ]
     },
     "execution_count": 4,
     "metadata": {},
     "output_type": "execute_result"
    }
   ],
   "source": [
    "df.shape"
   ]
  }
 ],
 "metadata": {
  "kernelspec": {
   "display_name": "Python 3",
   "language": "python",
   "name": "python3"
  },
  "language_info": {
   "codemirror_mode": {
    "name": "ipython",
    "version": 3
   },
   "file_extension": ".py",
   "mimetype": "text/x-python",
   "name": "python",
   "nbconvert_exporter": "python",
   "pygments_lexer": "ipython3",
   "version": "3.13.1"
  }
 },
 "nbformat": 4,
 "nbformat_minor": 2
}
