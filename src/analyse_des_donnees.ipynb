{
 "cells": [
  {
   "cell_type": "markdown",
   "metadata": {},
   "source": [
    "tout dabord , nous allons importer les données depuis le site de la banque mondiale à partir de leur API"
   ]
  },
  {
   "cell_type": "code",
   "execution_count": null,
   "metadata": {},
   "outputs": [],
   "source": [
    "print(\"welcome alex and elise. time to get started\")\n",
    "!pip install wbdata"
   ]
  },
  {
   "cell_type": "code",
   "execution_count": null,
   "metadata": {},
   "outputs": [],
   "source": [
    "import wbdata\n",
    "import pandas as pd\n",
    "import datetime\n",
    "\n",
    "# Définir les indicateurs que vous voulez récupérer\n",
    "indicators = {\n",
    "    'NY.GDP.MKTP.KD': 'GDP (constant 2015 US$)',\n",
    "    'NE.GDI.FTOT.KD': 'Gross Fixed Capital Formation (constant 2015 US$)',\n",
    "    'SP.POP.1564.TO': 'Population ages 15-64, total',\n",
    "    'NE.GDI.FTOT.ZS': 'Gross Fixed Capital Formation (% GDP)'\n",
    "}\n",
    "\n",
    "\n",
    "# Télécharger les données\n",
    "data = wbdata.get_dataframe(indicators, country= 'all')\n",
    "\n",
    "# Afficher les premières lignes\n",
    "print(data.head())"
   ]
  }
 ],
 "metadata": {
  "kernelspec": {
   "display_name": "Python 3",
   "language": "python",
   "name": "python3"
  },
  "language_info": {
   "codemirror_mode": {
    "name": "ipython",
    "version": 3
   },
   "file_extension": ".py",
   "mimetype": "text/x-python",
   "name": "python",
   "nbconvert_exporter": "python",
   "pygments_lexer": "ipython3",
   "version": "3.13.1"
  }
 },
 "nbformat": 4,
 "nbformat_minor": 2
}
