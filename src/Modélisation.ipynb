{
 "cells": [
  {
   "cell_type": "markdown",
   "metadata": {},
   "source": [
    "<div style=\"border: 2px solid blue; width: 90%; border-radius: 50px; margin: 30px auto;\">\n",
    "<h1 style=\"font-family: 'Georgia', serif; text-align: center; font-size: 30px; color: #3498db;text-shadow: 2px 2px 5px rgba(0, 0, 0, 0.3);\">Modélisation </h1>\n",
    "</div>\n",
    "<br/>\n",
    "<br/>"
   ]
  },
  {
   "cell_type": "markdown",
   "metadata": {},
   "source": [
    "<h1 style=\"font-family: 'Georgia', serif; text-align: center; font-size: 25px; color: #3498db;\">I- <u>Présentation du modèle </u></h1>\n",
    "<br/>\n",
    "<br/>\n",
    "<p style=\"line-height: 1.6; font-family: 'Serial', serif; font-size: 16px;\">\n",
    "Le modèle de croissance économique proposé par Robert Solow (1956) repose sur une fonction de production néoclassique à deux facteurs, le capital physique (K) et le travail (L), avec progrès technologique exogène (A) pour expliquer les différences de revenus entre les pays.\n",
    "</p>\n",
    "<br/>\n",
    "<h2 style=\"font-family: 'Georgia', serif; text-align: center; font-size: 23px; color: #3498db;\">I.1- <u>Fonction de production</u></h2>\n",
    "<br/>\n",
    "<br/>\n",
    "<p style=\"line-height: 1.6; font-family: 'Serial', serif; font-size: 16px;\">\n",
    "Par hypothèse, considérons que la production totale (Y) est décrite par une fonction de production Cobb-Douglas avec des rendements décroissants sur les facteurs de production, capital et travail :\n",
    "\n",
    " <b><h2 style=\"font-family: 'Georgia', serif; text-align: center; font-size: 23px;\"> Y<sub>t</sub> = K<sub>t</sub><sup>α</sup>(A<sub>t</sub>L<sub>t</sub>)<sup>1-α</sup> </h2></b>\n",
    " <ul style=\"line-height: 1.6; font-family: 'Serial', serif; font-size: 16px;\">\n",
    " <li>\n",
    "Y<sub>t</sub> : Produit total à l'instant t\n",
    "</li>\n",
    "<li>\n",
    "K<sub>t</sub> : Stock de capital à l'instant t\n",
    "</li>\n",
    "<li>\n",
    "L<sub>t</sub> : Quantité de travail à l'instant t\n",
    "</li>\n",
    "<li>\n",
    "A<sub>t</sub> : Niveau de technologie (progrès technique exogène).\n",
    "</li>\n",
    "<li>\n",
    "α : Part du capital dans le revenu.\n",
    "</li>\n",
    "</ul>\n",
    "\n",
    "</p>\n",
    "\n",
    "<br/>\n",
    "<br/>\n",
    "<h2 style=\"font-family: 'Georgia', serif; text-align: center; font-size: 23px; color: #3498db;\">I.2- <u>Hypothèses sur la dynamique des facteurs</u> </h2>\n",
    "<br/>\n",
    "<br/>\n",
    "<p style=\"line-height: 1.6; font-family: 'Serial', serif; font-size: 16px;\">\n",
    "-Le capital évolue selon le taux d'épargne s et le taux de dépréciation 𝛿:\n",
    "<h3 style=\"text-align: center\"> K&#x0307;<sub>t</sub> = sY<sub>t</sub> - δK<sub>t</sub></h3>\n",
    " <p style=\"line-height: 1.6; font-family: 'Serial', serif; font-size: 16px;\">\n",
    "-La population L<sub>t</sub> et la technologie A<sub>t</sub> croissent exogènement à des taux constants n et 𝑔 respectivement :\n",
    "<h3></h3>\n",
    "\n",
    "</p>\n",
    "<br/>\n",
    "<br/>\n",
    "<h2 style=\"font-family: 'Georgia', serif; text-align: center; font-size: 23px; color: #3498db;\">I.3- <u>Variables par unité de travail effective</u></h2>\n",
    "<br/>\n",
    "<br/>\n",
    "\n",
    "<p style=\"line-height: 1.6; font-family: 'Serial', serif; font-size: 16px;\">\n",
    "En divisant les termes par A(t)L(t), on exprime les variables en termes d'unités effectives :\n",
    "\n",
    "<b>k<sub>t</sub>=  K<sub>t</sub> / A<sub>t</sub>L<sub>t</sub> </b>: Capital par unité de travail effective.\n",
    "\n",
    "<b> y<sub>t</sub>= Y<sub>t</sub> / A<sub>t</sub>L<sub>t</sub></b> : Production par unité de travail effective.\n",
    "L'équation dynamique de k<sub>t</sub> devient :\n",
    "<h3 style=\"text-align: center\"> k&#x0307;<sub>t</sub> = sy<sub>t</sub> - (n+g+δ)k<sub>t</sub></h3>\n",
    "</p>\n",
    "\n",
    "<br/>\n",
    "<br/>\n",
    "<h2 style=\"font-family: 'Georgia', serif; text-align: center; font-size: 23px; color: #3498db;\">I.4- <u>État stationnaire</u></h2>\n",
    "<br/>\n",
    "<br/>\n",
    "\n",
    "\n",
    "<p style=\"line-height: 1.6; font-family: 'Serial', serif; font-size: 16px;\">\n",
    "À l'état stationnaire , le capital par unité de travail effective, (k*) , est constant et donné par :\n",
    "</p>\n",
    "<h3 style=\"text-align: center\"> k* = (s/(n+g+δ)) <sup>1/(1-α) </sup> </h3>\n",
    " <p style=\"line-height: 1.6; font-family: 'Serial', serif; font-size: 16px;\">\n",
    "La production par tête est alors donnée par: \n",
    "​</p>\n",
    "<h3 style=\"text-align: center\"> Y/L = y* = A(0)e<sup>gt</sup>(s/(n+g+δ)) <sup>α/(1-α)</sup>         (1) </h3 id=\"eq1\"> \n",
    "\n",
    " \n",
    " <br/>\n",
    "<br/>\n",
    "<h2 style=\"font-family: 'Georgia', serif; text-align: center; font-size: 23px; color: #3498db;\">I.5- <u>Spécification empirique pour la régression</u></h2>\n",
    "<br/>\n",
    "<br/>\n",
    "\n",
    "\n",
    "<p style=\"line-height: 1.6; font-family: 'Serial', serif; font-size: 16px;\">\n",
    "En prenant le logarithme, l'équation à l'etat stationnaire : <a href=\"#eq1\">     (1)</a>\n",
    " devient linéaire et s'écrit :\n",
    "<h3 style=\"text-align: center\"> ln(Y/L) = ln(A(0))+ gt + α/(1-α) ln(s) - α/(1-α) ln(n+g+δ) </h3>\n",
    "<br/>\n",
    "</p>\n",
    "Ainsi, le revenu par tête dépend de :\n",
    "<ul style=\"line-height: 1.6; font-family: 'Serial', serif; font-size: 16px;\">\n",
    "<li>𝑠: le taus d'épargne </li>\n",
    "<li>n+g+δ : le Taux de croissance de la population, progrès technique et dépréciation. </li>\n",
    "</ul>\n",
    "La spécification à estimer avec une régression OLS est :\n",
    "\n",
    "<h3 style=\"text-align: center\"> ln(Y/L) = b<sub>0</sub> + b<sub>1</sub>ln(s) + b<sub>2</sub>ln(n+g+δ) + e </h3>\n",
    "\n",
    "<p style=\"line-height: 1.6; font-family: 'Serial', serif; font-size: 16px;\">\n",
    "Avec les coefficients :\n",
    "</p>\n",
    "<h3 style=\"text-align: center\"> b<sub>1</sub> = α/(1-α) , b<sub>2</sub> = -α/(1-α) </h3> <a href=\"#eq1\">    voir (1)</a>\n",
    "\n",
    "\n",
    "​\n",
    "\n",
    "\n",
    "<br>\n",
    "<h1 style=\"font-family: 'Georgia', serif; text-align: center; font-size: 30px; color: #3498db;\">II- <u>Transformation des variables </u></h1>\n",
    "<br/>\n",
    "<br/>\n",
    "\n",
    "<p style=\"line-height: 1.6; font-family: 'Serial', serif; font-size: 16px;\">\n",
    "Pour estimer la spécification empirique du modèle de Solow, nous devons transformer les données brutes en variables prêtes pour la régression. Voici les étapes nécessaires :\n",
    "</p>\n",
    "<br/>\n",
    "<h2 style=\"font-family: 'Georgia', serif; text-align: center; font-size: 23px; color: #3498db;\">II.1- <u>Variables brutes dans la base de donnée</u></h2>\n",
    "<br/>\n",
    "<br/>\n",
    "\n",
    "<p style=\"line-height: 1.6; font-family: 'Serial', serif; font-size: 16px;\">\n",
    "Les variables disponibles dans la base sont :\n",
    "\n",
    "PIB : GDP (constant 2015 US$)  → 𝑌\n",
    "\n",
    "Formation brute de capital fixe : Gross Fixed Capital Formation (constant 2015 US$) → utilisée pour calculer le taux d'épargne (s).\n",
    "\n",
    "Population en âge de travailler : Population ages 15-64 → 𝐿\n",
    "</p>\n",
    "\n",
    "<br/>\n",
    "<h2 style=\"font-family: 'Georgia', serif; text-align: center; font-size: 23px; color: #3498db;\">II.2- <u>Variables nécessaires pour la régression</u></h2>\n",
    "<br/>\n",
    "<br/>\n",
    "\n",
    "<p style=\"line-height: 1.6; font-family: 'Serial', serif; font-size: 16px;\">\n",
    "Nous devons transformer les données brutes pour obtenir les variables suivantes :\n",
    "<ul style=\"line-height: 1.6; font-family: 'Serial', serif; font-size: 16px;\">\n",
    "<li>\n",
    "PIB par tête (𝑌/𝐿) : 𝑌/𝐿\n",
    "</li>\n",
    "\n",
    "<li>\n",
    "Taux d'épargne (s) :\n",
    "Calculé comme le ratio de la formation brute de capital fixe (I) sur le PIB (Y).\n",
    "<h3>𝑠=Formation brute de capital fixe/PIB</h3>\n",
    "</li>\n",
    "​<li>\n",
    "Taux de croissance démographique (n) :\n",
    "Calculé comme la variation relative de la population entre deux années consécutives :\n",
    "<h3>𝑛<sub>t</sub>=(Population(𝑡) − Population(𝑡−1))/Population(𝑡−1)</h3>\n",
    "</li>\n",
    "​\n",
    " \n",
    "<li>Variable combinée (n+g+δ) :\n",
    "g (progrès technique) et δ (dépréciation) sont supposés constants. \n",
    "\n",
    "Une hypothèse classique est <b>g+δ=0.05</b>.\n",
    "n+g+δ=n+0.05</li>\n",
    "</ul>\n",
    "</p>\n",
    "<br/>\n",
    "<br/>\n",
    "<br/>\n"
   ]
  },
  {
   "cell_type": "code",
   "execution_count": 1,
   "metadata": {},
   "outputs": [
    {
     "data": {
      "text/html": [
       "<div>\n",
       "<style scoped>\n",
       "    .dataframe tbody tr th:only-of-type {\n",
       "        vertical-align: middle;\n",
       "    }\n",
       "\n",
       "    .dataframe tbody tr th {\n",
       "        vertical-align: top;\n",
       "    }\n",
       "\n",
       "    .dataframe thead th {\n",
       "        text-align: right;\n",
       "    }\n",
       "</style>\n",
       "<table border=\"1\" class=\"dataframe\">\n",
       "  <thead>\n",
       "    <tr style=\"text-align: right;\">\n",
       "      <th></th>\n",
       "      <th>Country</th>\n",
       "      <th>Country_Code</th>\n",
       "      <th>Year</th>\n",
       "      <th>PIB_par_travailleur</th>\n",
       "      <th>Capital_par_travailleur</th>\n",
       "      <th>Population_travailleur</th>\n",
       "    </tr>\n",
       "  </thead>\n",
       "  <tbody>\n",
       "    <tr>\n",
       "      <th>0</th>\n",
       "      <td>Albania</td>\n",
       "      <td>ALB</td>\n",
       "      <td>2023</td>\n",
       "      <td>8130.753594</td>\n",
       "      <td>2008.989312</td>\n",
       "      <td>1830356</td>\n",
       "    </tr>\n",
       "    <tr>\n",
       "      <th>1</th>\n",
       "      <td>Albania</td>\n",
       "      <td>ALB</td>\n",
       "      <td>2022</td>\n",
       "      <td>7693.634432</td>\n",
       "      <td>1955.422229</td>\n",
       "      <td>1861085</td>\n",
       "    </tr>\n",
       "    <tr>\n",
       "      <th>2</th>\n",
       "      <td>Albania</td>\n",
       "      <td>ALB</td>\n",
       "      <td>2021</td>\n",
       "      <td>7211.368890</td>\n",
       "      <td>1890.602681</td>\n",
       "      <td>1894123</td>\n",
       "    </tr>\n",
       "    <tr>\n",
       "      <th>3</th>\n",
       "      <td>Albania</td>\n",
       "      <td>ALB</td>\n",
       "      <td>2020</td>\n",
       "      <td>6523.372724</td>\n",
       "      <td>1558.771159</td>\n",
       "      <td>1921536</td>\n",
       "    </tr>\n",
       "    <tr>\n",
       "      <th>4</th>\n",
       "      <td>Albania</td>\n",
       "      <td>ALB</td>\n",
       "      <td>2019</td>\n",
       "      <td>6679.059681</td>\n",
       "      <td>1556.807023</td>\n",
       "      <td>1941067</td>\n",
       "    </tr>\n",
       "  </tbody>\n",
       "</table>\n",
       "</div>"
      ],
      "text/plain": [
       "   Country Country_Code  Year  PIB_par_travailleur  Capital_par_travailleur  \\\n",
       "0  Albania          ALB  2023          8130.753594              2008.989312   \n",
       "1  Albania          ALB  2022          7693.634432              1955.422229   \n",
       "2  Albania          ALB  2021          7211.368890              1890.602681   \n",
       "3  Albania          ALB  2020          6523.372724              1558.771159   \n",
       "4  Albania          ALB  2019          6679.059681              1556.807023   \n",
       "\n",
       "   Population_travailleur  \n",
       "0                 1830356  \n",
       "1                 1861085  \n",
       "2                 1894123  \n",
       "3                 1921536  \n",
       "4                 1941067  "
      ]
     },
     "execution_count": 16,
     "metadata": {},
     "output_type": "execute_result"
    }
   ],
   "source": [
    "# Importation nécessaire\n",
    "import Declarations as d \n",
    "\n",
    "# Importation de la base de données obtenue suite au nettoyage\n",
    "data = d.pd.read_csv('./bases/data.csv')\n",
    "data.head()\n"
   ]
  },
  {
   "cell_type": "markdown",
   "metadata": {},
   "source": [
    "<br/>\n",
    "<p style=\"line-height: 1.6; font-family: 'Serial', serif; font-size: 20px;\"> <b>\n",
    "Création de la variable PIB par tête (Y/L)</b>\n",
    "</p>\n",
    "<br/>\n",
    "<br/>"
   ]
  },
  {
   "cell_type": "markdown",
   "metadata": {},
   "source": [
    "\n",
    "<br/>\n",
    "<p style=\"line-height: 1.6; font-family: 'Serial', serif; font-size: 18px;\"> \n",
    "Nous allons considérer dans notre étude le PIB par tête de chaque pays de l'année 2023. Nous supposons que l'économie est à son état stationnaire et considérons l'année 2023 comme année d'étude du modèle de Solow Swan.\n",
    "</p>\n",
    "<br/>\n",
    "\n"
   ]
  },
  {
   "cell_type": "code",
   "execution_count": 2,
   "metadata": {},
   "outputs": [
    {
     "data": {
      "text/html": [
       "<div>\n",
       "<style scoped>\n",
       "    .dataframe tbody tr th:only-of-type {\n",
       "        vertical-align: middle;\n",
       "    }\n",
       "\n",
       "    .dataframe tbody tr th {\n",
       "        vertical-align: top;\n",
       "    }\n",
       "\n",
       "    .dataframe thead th {\n",
       "        text-align: right;\n",
       "    }\n",
       "</style>\n",
       "<table border=\"1\" class=\"dataframe\">\n",
       "  <thead>\n",
       "    <tr style=\"text-align: right;\">\n",
       "      <th></th>\n",
       "      <th>Country</th>\n",
       "      <th>Country_Code</th>\n",
       "      <th>Year</th>\n",
       "      <th>PIB_par_travailleur</th>\n",
       "    </tr>\n",
       "  </thead>\n",
       "  <tbody>\n",
       "    <tr>\n",
       "      <th>0</th>\n",
       "      <td>Albania</td>\n",
       "      <td>ALB</td>\n",
       "      <td>2023</td>\n",
       "      <td>8130.753594</td>\n",
       "    </tr>\n",
       "    <tr>\n",
       "      <th>34</th>\n",
       "      <td>Algeria</td>\n",
       "      <td>DZA</td>\n",
       "      <td>2023</td>\n",
       "      <td>7399.372277</td>\n",
       "    </tr>\n",
       "    <tr>\n",
       "      <th>68</th>\n",
       "      <td>Argentina</td>\n",
       "      <td>ARG</td>\n",
       "      <td>2023</td>\n",
       "      <td>19713.420552</td>\n",
       "    </tr>\n",
       "    <tr>\n",
       "      <th>102</th>\n",
       "      <td>Armenia</td>\n",
       "      <td>ARM</td>\n",
       "      <td>2023</td>\n",
       "      <td>7660.226850</td>\n",
       "    </tr>\n",
       "    <tr>\n",
       "      <th>136</th>\n",
       "      <td>Australia</td>\n",
       "      <td>AUS</td>\n",
       "      <td>2023</td>\n",
       "      <td>95352.263249</td>\n",
       "    </tr>\n",
       "  </tbody>\n",
       "</table>\n",
       "</div>"
      ],
      "text/plain": [
       "       Country Country_Code  Year  PIB_par_travailleur\n",
       "0      Albania          ALB  2023          8130.753594\n",
       "34     Algeria          DZA  2023          7399.372277\n",
       "68   Argentina          ARG  2023         19713.420552\n",
       "102    Armenia          ARM  2023          7660.226850\n",
       "136  Australia          AUS  2023         95352.263249"
      ]
     },
     "execution_count": 2,
     "metadata": {},
     "output_type": "execute_result"
    }
   ],
   "source": [
    "data_pib_2023 = data[data['Year'] == 2023].copy()\n",
    "data_pib_2023 = data_pib_2023[['Country', 'Country_Code', 'Year', 'PIB_par_travailleur']] \n",
    "data_pib_2023.head()"
   ]
  },
  {
   "cell_type": "markdown",
   "metadata": {},
   "source": [
    "\n",
    "<br/>\n",
    "<p style=\"line-height: 1.6; font-family: 'Serial', serif; font-size: 18px;\"> \n",
    "La base pib_par_tete_2023 contient le pib par tête de chaque pays en 2023.</p>\n",
    "<p style=\"line-height: 1.6; font-family: 'Serial', serif; font-size: 18px;\">\n",
    "<b>-Création de la variable taux de croissance:</b>\n",
    "\n",
    "\n",
    "Nous allons calculer les différents taux de croissance sur la période considérée (1990-2023)  et calculer la valeur moyenne pour obtenir le taux de croissance moyen par pays , que nous utiliserons dans notre modèle.\n",
    "\n",
    "</p>\n",
    "<br/>\n",
    "<br/>\n",
    "\n",
    "\n"
   ]
  },
  {
   "cell_type": "code",
   "execution_count": 3,
   "metadata": {},
   "outputs": [
    {
     "data": {
      "text/html": [
       "<div>\n",
       "<style scoped>\n",
       "    .dataframe tbody tr th:only-of-type {\n",
       "        vertical-align: middle;\n",
       "    }\n",
       "\n",
       "    .dataframe tbody tr th {\n",
       "        vertical-align: top;\n",
       "    }\n",
       "\n",
       "    .dataframe thead th {\n",
       "        text-align: right;\n",
       "    }\n",
       "</style>\n",
       "<table border=\"1\" class=\"dataframe\">\n",
       "  <thead>\n",
       "    <tr style=\"text-align: right;\">\n",
       "      <th></th>\n",
       "      <th>Country_Code</th>\n",
       "      <th>Taux_croissance_moyen</th>\n",
       "    </tr>\n",
       "  </thead>\n",
       "  <tbody>\n",
       "    <tr>\n",
       "      <th>0</th>\n",
       "      <td>ALB</td>\n",
       "      <td>-0.003196</td>\n",
       "    </tr>\n",
       "    <tr>\n",
       "      <th>1</th>\n",
       "      <td>ARG</td>\n",
       "      <td>0.012292</td>\n",
       "    </tr>\n",
       "    <tr>\n",
       "      <th>2</th>\n",
       "      <td>ARM</td>\n",
       "      <td>-0.003872</td>\n",
       "    </tr>\n",
       "    <tr>\n",
       "      <th>3</th>\n",
       "      <td>AUS</td>\n",
       "      <td>0.012536</td>\n",
       "    </tr>\n",
       "    <tr>\n",
       "      <th>4</th>\n",
       "      <td>AUT</td>\n",
       "      <td>0.004361</td>\n",
       "    </tr>\n",
       "  </tbody>\n",
       "</table>\n",
       "</div>"
      ],
      "text/plain": [
       "  Country_Code  Taux_croissance_moyen\n",
       "0          ALB              -0.003196\n",
       "1          ARG               0.012292\n",
       "2          ARM              -0.003872\n",
       "3          AUS               0.012536\n",
       "4          AUT               0.004361"
      ]
     },
     "execution_count": 3,
     "metadata": {},
     "output_type": "execute_result"
    }
   ],
   "source": [
    "taux_croissance_moyen = d.calculer_taux_croissance_moyen_par_pays(\n",
    "    data, \n",
    "    year_col='Year', \n",
    "    country_col='Country_Code', \n",
    "    population_col='Population_travailleur'\n",
    ")\n",
    "taux_croissance_moyen.head()"
   ]
  },
  {
   "cell_type": "markdown",
   "metadata": {},
   "source": [
    "\n",
    "<br/>\n",
    "<p style=\"line-height: 1.6; font-family: 'Serial', serif; font-size: 18px;\"> \n",
    "<b> -Création de la variable taux d'epargne: </b>\n",
    "\n",
    "\n",
    "Nous allons procéder de même comme précedemment. C'est-à-dire, calculer le taux d'epargne sur chaque période et prendre ensuite la moyenne pour notre regression.\n",
    "</p>\n",
    "<br/>\n",
    "<br/>"
   ]
  },
  {
   "cell_type": "code",
   "execution_count": 4,
   "metadata": {},
   "outputs": [
    {
     "data": {
      "text/html": [
       "<div>\n",
       "<style scoped>\n",
       "    .dataframe tbody tr th:only-of-type {\n",
       "        vertical-align: middle;\n",
       "    }\n",
       "\n",
       "    .dataframe tbody tr th {\n",
       "        vertical-align: top;\n",
       "    }\n",
       "\n",
       "    .dataframe thead th {\n",
       "        text-align: right;\n",
       "    }\n",
       "</style>\n",
       "<table border=\"1\" class=\"dataframe\">\n",
       "  <thead>\n",
       "    <tr style=\"text-align: right;\">\n",
       "      <th></th>\n",
       "      <th>Country_Code</th>\n",
       "      <th>Taux_croissance_moyen</th>\n",
       "    </tr>\n",
       "  </thead>\n",
       "  <tbody>\n",
       "    <tr>\n",
       "      <th>0</th>\n",
       "      <td>ALB</td>\n",
       "      <td>-0.003196</td>\n",
       "    </tr>\n",
       "    <tr>\n",
       "      <th>1</th>\n",
       "      <td>ARG</td>\n",
       "      <td>0.012292</td>\n",
       "    </tr>\n",
       "    <tr>\n",
       "      <th>2</th>\n",
       "      <td>ARM</td>\n",
       "      <td>-0.003872</td>\n",
       "    </tr>\n",
       "    <tr>\n",
       "      <th>3</th>\n",
       "      <td>AUS</td>\n",
       "      <td>0.012536</td>\n",
       "    </tr>\n",
       "    <tr>\n",
       "      <th>4</th>\n",
       "      <td>AUT</td>\n",
       "      <td>0.004361</td>\n",
       "    </tr>\n",
       "  </tbody>\n",
       "</table>\n",
       "</div>"
      ],
      "text/plain": [
       "  Country_Code  Taux_croissance_moyen\n",
       "0          ALB              -0.003196\n",
       "1          ARG               0.012292\n",
       "2          ARM              -0.003872\n",
       "3          AUS               0.012536\n",
       "4          AUT               0.004361"
      ]
     },
     "execution_count": 19,
     "metadata": {},
     "output_type": "execute_result"
    }
   ],
   "source": [
    "taux_epargne_moyen = d.calculer_taux_epargne_moyen_par_pays(\n",
    "    data, \n",
    "    year_col='Year', \n",
    "    country_col='Country_Code', \n",
    "    capital_travailleur='Capital_par_travailleur', \n",
    "    pib_travailleur='PIB_par_travailleur'\n",
    ")\n",
    "taux_croissance_moyen.head()"
   ]
  },
  {
   "cell_type": "markdown",
   "metadata": {},
   "source": [
    "\n",
    "<br/>\n",
    "<p style=\"line-height: 1.6; font-family: 'Serial', serif; font-size: 18px;\"> \n",
    "Ainsi, nous avons les trois variables néccessaire pour faire la régression. Nous allons à présent fusionner les trois bases de données afin d'obtenir une base prête à utiliser.</p>\n",
    "<br/>\n",
    "<br/>"
   ]
  },
  {
   "cell_type": "code",
   "execution_count": 5,
   "metadata": {},
   "outputs": [
    {
     "data": {
      "text/html": [
       "<div>\n",
       "<style scoped>\n",
       "    .dataframe tbody tr th:only-of-type {\n",
       "        vertical-align: middle;\n",
       "    }\n",
       "\n",
       "    .dataframe tbody tr th {\n",
       "        vertical-align: top;\n",
       "    }\n",
       "\n",
       "    .dataframe thead th {\n",
       "        text-align: right;\n",
       "    }\n",
       "</style>\n",
       "<table border=\"1\" class=\"dataframe\">\n",
       "  <thead>\n",
       "    <tr style=\"text-align: right;\">\n",
       "      <th></th>\n",
       "      <th>Country</th>\n",
       "      <th>Country_Code</th>\n",
       "      <th>Year</th>\n",
       "      <th>PIB_par_travailleur</th>\n",
       "      <th>Taux_croissance_moyen</th>\n",
       "      <th>Taux_epargne_moyen</th>\n",
       "    </tr>\n",
       "  </thead>\n",
       "  <tbody>\n",
       "    <tr>\n",
       "      <th>0</th>\n",
       "      <td>Albania</td>\n",
       "      <td>ALB</td>\n",
       "      <td>2023</td>\n",
       "      <td>8130.753594</td>\n",
       "      <td>-0.003196</td>\n",
       "      <td>0.340192</td>\n",
       "    </tr>\n",
       "    <tr>\n",
       "      <th>1</th>\n",
       "      <td>Algeria</td>\n",
       "      <td>DZA</td>\n",
       "      <td>2023</td>\n",
       "      <td>7399.372277</td>\n",
       "      <td>0.022646</td>\n",
       "      <td>0.316813</td>\n",
       "    </tr>\n",
       "    <tr>\n",
       "      <th>2</th>\n",
       "      <td>Argentina</td>\n",
       "      <td>ARG</td>\n",
       "      <td>2023</td>\n",
       "      <td>19713.420552</td>\n",
       "      <td>0.012292</td>\n",
       "      <td>0.141293</td>\n",
       "    </tr>\n",
       "    <tr>\n",
       "      <th>3</th>\n",
       "      <td>Armenia</td>\n",
       "      <td>ARM</td>\n",
       "      <td>2023</td>\n",
       "      <td>7660.226850</td>\n",
       "      <td>-0.003872</td>\n",
       "      <td>0.271439</td>\n",
       "    </tr>\n",
       "    <tr>\n",
       "      <th>4</th>\n",
       "      <td>Australia</td>\n",
       "      <td>AUS</td>\n",
       "      <td>2023</td>\n",
       "      <td>95352.263249</td>\n",
       "      <td>0.012536</td>\n",
       "      <td>0.232352</td>\n",
       "    </tr>\n",
       "  </tbody>\n",
       "</table>\n",
       "</div>"
      ],
      "text/plain": [
       "     Country Country_Code  Year  PIB_par_travailleur  Taux_croissance_moyen  \\\n",
       "0    Albania          ALB  2023          8130.753594              -0.003196   \n",
       "1    Algeria          DZA  2023          7399.372277               0.022646   \n",
       "2  Argentina          ARG  2023         19713.420552               0.012292   \n",
       "3    Armenia          ARM  2023          7660.226850              -0.003872   \n",
       "4  Australia          AUS  2023         95352.263249               0.012536   \n",
       "\n",
       "   Taux_epargne_moyen  \n",
       "0            0.340192  \n",
       "1            0.316813  \n",
       "2            0.141293  \n",
       "3            0.271439  \n",
       "4            0.232352  "
      ]
     },
     "execution_count": 5,
     "metadata": {},
     "output_type": "execute_result"
    }
   ],
   "source": [
    "# Fusionner les bases successivement avec une jointure interne\n",
    "merged_data = data_pib_2023.merge(taux_croissance_moyen, on=['Country_Code'], how='inner')\n",
    "data_var = merged_data.merge(taux_epargne_moyen, on=['Country_Code'], how='inner')\n",
    "data_var.head()\n"
   ]
  },
  {
   "cell_type": "markdown",
   "metadata": {},
   "source": [
    "\n",
    "<br/>\n",
    "<p style=\"line-height: 1.6; font-family: 'Serial', serif; font-size: 18px;\"> \n",
    "Notre base de données contient <b>117</b> pays du monde et en colonne le PIB par tête, taux de croissance, taux d'epargne pour chaque pays.</p>\n",
    "<br/>\n",
    "<h1 style=\"font-family: 'Georgia', serif; text-align: center; font-size: 30px; color: #3498db;text-shadow: 2px 2px 5px rgba(0, 0, 0, 0.3);\">III- <u>Formation des échantillons</u></h1>\n",
    "<br/>\n",
    "<br/>\n",
    "<p style=\"line-height: 1.6; font-family: 'Serial', serif; font-size: 20px;\">\n",
    "Pour notre étude nous allons considérer trois échantillons. Le premier est celui que nous avons déjà, contenant les 117 pays du monde de notre base de donnée. Le deuxième va contenir uniquement les pays de l'OCDE et le dernier contient uniquement les pays de l'Union Africaine.</p>"
   ]
  },
  {
   "cell_type": "code",
   "execution_count": 6,
   "metadata": {},
   "outputs": [],
   "source": [
    "# Liste des pays de l'OCDE et de l'Union Africaine (simplifiée pour l'exemple)\n",
    "liste_ocde = [\"United States\", \"Canada\", \"Mexico\", \"United Kingdom\", \"France\", \"Germany\", \"Italy\", \"Spain\", \"Portugal\", \"Greece\", \"Netherlands\", \"Belgium\", \"Luxembourg\", \"Ireland\", \"Denmark\", \"Sweden\", \"Finland\", \"Norway\", \"Switzerland\", \"Iceland\", \"Austria\", \"Hungary\", \"Poland\", \"Czech Republic\", \"Slovakia\", \"Slovenia\", \"Estonia\", \"Latvia\", \"Lithuania\", \"Turkey\", \"Japan\", \"South Korea\", \"Australia\", \"New Zealand\", \"Israel\", \"Chile\", \"Colombia\", \"Costa Rica\"\n",
    "]\n",
    "liste_ua = [\"Algeria\", \"Angola\", \"Benin\", \"Botswana\", \"Burkina Faso\", \"Burundi\", \"Cabo Verde\", \"Cameroon\", \"Central African Republic\", \"Chad\", \"Comoros\", \"Congo\", \"Democratic Republic of the Congo\", \"Cote d’Ivoire\", \"Djibouti\", \"Egypt\", \"Equatorial Guinea\", \"Eritrea\", \"Eswatini\", \"Ethiopia\", \"Gabon\", \"Gambia\", \"Ghana\", \"Guinea\", \"Guinea-Bissau\", \"Kenya\", \"Lesotho\", \"Liberia\", \"Libya\", \"Madagascar\", \"Malawi\", \"Mali\", \"Mauritania\", \"Mauritius\", \"Morocco\", \"Mozambique\", \"Namibia\", \"Niger\", \"Nigeria\", \"Rwanda\", \"Sao Tome and Principe\", \"Senegal\", \"Seychelles\", \"Sierra Leone\", \"Somalia\", \"South Africa\", \"South Sudan\", \"Sudan\", \"Tanzania\", \"Togo\", \"Tunisia\", \"Uganda\", \"Zambia\", \"Zimbabwe\"\n",
    "]\n",
    "\n",
    "# Former les échantillons\n",
    "data_ocde, data_ua = d.former_echantillons(data_var, country_col='Country', liste_ocde=liste_ocde, liste_ua=liste_ua)"
   ]
  },
  {
   "cell_type": "code",
   "execution_count": 7,
   "metadata": {},
   "outputs": [
    {
     "data": {
      "text/html": [
       "<div>\n",
       "<style scoped>\n",
       "    .dataframe tbody tr th:only-of-type {\n",
       "        vertical-align: middle;\n",
       "    }\n",
       "\n",
       "    .dataframe tbody tr th {\n",
       "        vertical-align: top;\n",
       "    }\n",
       "\n",
       "    .dataframe thead th {\n",
       "        text-align: right;\n",
       "    }\n",
       "</style>\n",
       "<table border=\"1\" class=\"dataframe\">\n",
       "  <thead>\n",
       "    <tr style=\"text-align: right;\">\n",
       "      <th></th>\n",
       "      <th>Country</th>\n",
       "      <th>Country_Code</th>\n",
       "      <th>Year</th>\n",
       "      <th>PIB_par_travailleur</th>\n",
       "      <th>Taux_croissance_moyen</th>\n",
       "      <th>Taux_epargne_moyen</th>\n",
       "    </tr>\n",
       "  </thead>\n",
       "  <tbody>\n",
       "    <tr>\n",
       "      <th>4</th>\n",
       "      <td>Australia</td>\n",
       "      <td>AUS</td>\n",
       "      <td>2023</td>\n",
       "      <td>95352.263249</td>\n",
       "      <td>0.012536</td>\n",
       "      <td>0.232352</td>\n",
       "    </tr>\n",
       "    <tr>\n",
       "      <th>5</th>\n",
       "      <td>Austria</td>\n",
       "      <td>AUT</td>\n",
       "      <td>2023</td>\n",
       "      <td>70710.507052</td>\n",
       "      <td>0.004361</td>\n",
       "      <td>0.244108</td>\n",
       "    </tr>\n",
       "    <tr>\n",
       "      <th>9</th>\n",
       "      <td>Belgium</td>\n",
       "      <td>BEL</td>\n",
       "      <td>2023</td>\n",
       "      <td>70371.684218</td>\n",
       "      <td>0.003521</td>\n",
       "      <td>0.225103</td>\n",
       "    </tr>\n",
       "    <tr>\n",
       "      <th>20</th>\n",
       "      <td>Canada</td>\n",
       "      <td>CAN</td>\n",
       "      <td>2023</td>\n",
       "      <td>68060.239277</td>\n",
       "      <td>0.010047</td>\n",
       "      <td>0.221082</td>\n",
       "    </tr>\n",
       "    <tr>\n",
       "      <th>21</th>\n",
       "      <td>Chile</td>\n",
       "      <td>CHL</td>\n",
       "      <td>2023</td>\n",
       "      <td>20641.372781</td>\n",
       "      <td>0.013781</td>\n",
       "      <td>0.209578</td>\n",
       "    </tr>\n",
       "  </tbody>\n",
       "</table>\n",
       "</div>"
      ],
      "text/plain": [
       "      Country Country_Code  Year  PIB_par_travailleur  Taux_croissance_moyen  \\\n",
       "4   Australia          AUS  2023         95352.263249               0.012536   \n",
       "5     Austria          AUT  2023         70710.507052               0.004361   \n",
       "9     Belgium          BEL  2023         70371.684218               0.003521   \n",
       "20     Canada          CAN  2023         68060.239277               0.010047   \n",
       "21      Chile          CHL  2023         20641.372781               0.013781   \n",
       "\n",
       "    Taux_epargne_moyen  \n",
       "4             0.232352  \n",
       "5             0.244108  \n",
       "9             0.225103  \n",
       "20            0.221082  \n",
       "21            0.209578  "
      ]
     },
     "execution_count": 7,
     "metadata": {},
     "output_type": "execute_result"
    }
   ],
   "source": [
    "data_ocde.head()"
   ]
  },
  {
   "cell_type": "code",
   "execution_count": 8,
   "metadata": {},
   "outputs": [
    {
     "data": {
      "text/plain": [
       "34"
      ]
     },
     "execution_count": 8,
     "metadata": {},
     "output_type": "execute_result"
    }
   ],
   "source": [
    "len(data_ocde)"
   ]
  },
  {
   "cell_type": "markdown",
   "metadata": {},
   "source": [
    "\n",
    "<br/>\n",
    "<p style=\"line-height: 1.6; font-family: 'Serial', serif; font-size: 20px;\"> La base de l'ocde contient 34 pays.</p>"
   ]
  },
  {
   "cell_type": "code",
   "execution_count": 9,
   "metadata": {},
   "outputs": [
    {
     "data": {
      "text/html": [
       "<div>\n",
       "<style scoped>\n",
       "    .dataframe tbody tr th:only-of-type {\n",
       "        vertical-align: middle;\n",
       "    }\n",
       "\n",
       "    .dataframe tbody tr th {\n",
       "        vertical-align: top;\n",
       "    }\n",
       "\n",
       "    .dataframe thead th {\n",
       "        text-align: right;\n",
       "    }\n",
       "</style>\n",
       "<table border=\"1\" class=\"dataframe\">\n",
       "  <thead>\n",
       "    <tr style=\"text-align: right;\">\n",
       "      <th></th>\n",
       "      <th>Country</th>\n",
       "      <th>Country_Code</th>\n",
       "      <th>Year</th>\n",
       "      <th>PIB_par_travailleur</th>\n",
       "      <th>Taux_croissance_moyen</th>\n",
       "      <th>Taux_epargne_moyen</th>\n",
       "    </tr>\n",
       "  </thead>\n",
       "  <tbody>\n",
       "    <tr>\n",
       "      <th>1</th>\n",
       "      <td>Algeria</td>\n",
       "      <td>DZA</td>\n",
       "      <td>2023</td>\n",
       "      <td>7399.372277</td>\n",
       "      <td>0.022646</td>\n",
       "      <td>0.316813</td>\n",
       "    </tr>\n",
       "    <tr>\n",
       "      <th>11</th>\n",
       "      <td>Benin</td>\n",
       "      <td>BEN</td>\n",
       "      <td>2023</td>\n",
       "      <td>2294.337061</td>\n",
       "      <td>0.033111</td>\n",
       "      <td>0.170466</td>\n",
       "    </tr>\n",
       "    <tr>\n",
       "      <th>13</th>\n",
       "      <td>Botswana</td>\n",
       "      <td>BWA</td>\n",
       "      <td>2023</td>\n",
       "      <td>11350.638910</td>\n",
       "      <td>0.026206</td>\n",
       "      <td>0.193347</td>\n",
       "    </tr>\n",
       "    <tr>\n",
       "      <th>17</th>\n",
       "      <td>Burkina Faso</td>\n",
       "      <td>BFA</td>\n",
       "      <td>2023</td>\n",
       "      <td>1353.569135</td>\n",
       "      <td>0.031528</td>\n",
       "      <td>0.165042</td>\n",
       "    </tr>\n",
       "    <tr>\n",
       "      <th>19</th>\n",
       "      <td>Cameroon</td>\n",
       "      <td>CMR</td>\n",
       "      <td>2023</td>\n",
       "      <td>2644.513266</td>\n",
       "      <td>0.031319</td>\n",
       "      <td>0.164774</td>\n",
       "    </tr>\n",
       "  </tbody>\n",
       "</table>\n",
       "</div>"
      ],
      "text/plain": [
       "         Country Country_Code  Year  PIB_par_travailleur  \\\n",
       "1        Algeria          DZA  2023          7399.372277   \n",
       "11         Benin          BEN  2023          2294.337061   \n",
       "13      Botswana          BWA  2023         11350.638910   \n",
       "17  Burkina Faso          BFA  2023          1353.569135   \n",
       "19      Cameroon          CMR  2023          2644.513266   \n",
       "\n",
       "    Taux_croissance_moyen  Taux_epargne_moyen  \n",
       "1                0.022646            0.316813  \n",
       "11               0.033111            0.170466  \n",
       "13               0.026206            0.193347  \n",
       "17               0.031528            0.165042  \n",
       "19               0.031319            0.164774  "
      ]
     },
     "execution_count": 9,
     "metadata": {},
     "output_type": "execute_result"
    }
   ],
   "source": [
    "data_ua.head()"
   ]
  },
  {
   "cell_type": "code",
   "execution_count": 10,
   "metadata": {},
   "outputs": [
    {
     "data": {
      "text/plain": [
       "25"
      ]
     },
     "execution_count": 10,
     "metadata": {},
     "output_type": "execute_result"
    }
   ],
   "source": [
    "len(data_ua)"
   ]
  },
  {
   "cell_type": "markdown",
   "metadata": {},
   "source": [
    "\n",
    "<br/>\n",
    "<p style=\"line-height: 1.6; font-family: 'Serial', serif; font-size: 20px;\"> \n",
    "La base de l'ua contient 25 pays.</p>"
   ]
  },
  {
   "cell_type": "markdown",
   "metadata": {},
   "source": [
    "<br/>\n",
    "<h1 style=\"font-family: 'Georgia', serif; text-align: center; font-size: 30px; color: #3498db;text-shadow: 2px 2px 5px rgba(0, 0, 0, 0.3);\">IV- <u>Résultats du modèle</u></h1>\n",
    "<br/>\n",
    "<br/>"
   ]
  },
  {
   "cell_type": "markdown",
   "metadata": {},
   "source": [
    "<p style=\"line-height: 1.6; font-family: 'Serial', serif; font-size: 20px; font-weight: 20\">   Dans cette partie, nous effectuerons des regressions sur trois echantillons différents afin de vérifier si les conclusions du modèle du Solow Swan sont vérifiées pour différents modèles économiques. le premier echantillon contient tous les pays que nous avons recupérés sur le site de la banque mondiale(data_var); le second  contient les pays de l'OCDE uniquement(data_ocde) et le 3e contient les pays de l'Union Africaine(data_ua)\n",
    "</p>"
   ]
  },
  {
   "cell_type": "code",
   "execution_count": 31,
   "metadata": {},
   "outputs": [],
   "source": [
    "import pandas as pd\n",
    "import numpy as np\n",
    "import seaborn as sns\n",
    "import matplotlib.pyplot as plt\n",
    "import statsmodels.api as sm"
   ]
  },
  {
   "cell_type": "code",
   "execution_count": 32,
   "metadata": {},
   "outputs": [],
   "source": [
    "def plot_correlation_matrix(data, pib_col, epargne_col, croissance_col, g_sigma=0.05):\n",
    "    \"\"\"\n",
    "    Génère une heatmap des corrélations pour les variables spécifiées.\n",
    "    \n",
    "    Arguments :\n",
    "    - data : DataFrame contenant les données\n",
    "    - pib_col : Nom de la colonne pour le PIB par tête\n",
    "    - epargne_col : Nom de la colonne pour le taux d'épargne\n",
    "    - croissance_col : Nom de la colonne pour le taux de croissance\n",
    "    - g_sigma : Constante ajoutée à la croissance (par défaut 0.05)\n",
    "    \n",
    "    Retourne :\n",
    "    - La matrice de corrélation\n",
    "    \"\"\"\n",
    "    # Ajouter les colonnes nécessaires pour la régression\n",
    "    data['log_PIB_par_tete'] = np.log(data[pib_col])\n",
    "    data['log_s'] = np.log(data[epargne_col])\n",
    "    data['log_n_g_sigma'] = np.log(data[croissance_col] + g_sigma)\n",
    "\n",
    "    # Calculer la matrice de corrélation\n",
    "    correlation_matrix = data[['log_PIB_par_tete', 'log_s', 'log_n_g_sigma']].corr()\n",
    "    \n",
    "    # Visualiser la heatmap des corrélations\n",
    "    sns.heatmap(correlation_matrix, annot=True, cmap=\"coolwarm\", fmt=\".2f\")\n",
    "    plt.title(\"Heatmap des corrélations\")\n",
    "    plt.show()\n",
    "    \n",
    "    return correlation_matrix"
   ]
  },
  {
   "cell_type": "markdown",
   "metadata": {},
   "source": [
    "<br/>\n",
    "<h2 style=\"font-family: 'Georgia', serif; text-align: center; font-size: 23px; color: #3498db;\">IV.1- <u>Cas de la Base de données data_var</u></h2>\n",
    "<br/>\n",
    "<br/>"
   ]
  },
  {
   "cell_type": "markdown",
   "metadata": {},
   "source": [
    "<p style=\"line-height: 1.6; font-family: 'Serial', serif; font-size: 20px; font-weight: 100\">   Construction de la matrice de corrélation pour la base data_var</p>"
   ]
  },
  {
   "cell_type": "code",
   "execution_count": 33,
   "metadata": {},
   "outputs": [
    {
     "data": {
      "image/png": "[encoded data removed]",
      "text/plain": [
       "<Figure size 640x480 with 2 Axes>"
      ]
     },
     "metadata": {},
     "output_type": "display_data"
    }
   ],
   "source": [
    "correlation_matrix = plot_correlation_matrix(\n",
    "    data=data_var,\n",
    "    pib_col='PIB_par_travailleur',\n",
    "    epargne_col='Taux_epargne_moyen',\n",
    "    croissance_col='Taux_croissance_moyen'\n",
    ")"
   ]
  },
  {
   "cell_type": "markdown",
   "metadata": {},
   "source": [
    "<br/>\n",
    "<p style=\"line-height: 1.6; font-family: 'Serial', serif; font-size: 16px;\">Les corrélations entre les prédicteurs (log_s et log_n_g_sigma) sont faibles (-0.18). Cela signifie qu'il n'y a pas de problème significatif de multicolinéarité entre les variables explicatives. Nous pouvons donc les utiliser ensemble dans la régression sans ajustements spécifiques.</p>\n",
    "<br/>\n",
    "<br/>"
   ]
  },
  {
   "cell_type": "code",
   "execution_count": 36,
   "metadata": {},
   "outputs": [],
   "source": [
    "def perform_regression(data, dependent_var, independent_vars):\n",
    "    \"\"\"\n",
    "    Effectue une régression linéaire OLS sur les données spécifiées.\n",
    "\n",
    "    Arguments :\n",
    "    - data : DataFrame contenant les données\n",
    "    - dependent_var : Nom de la colonne pour la variable dépendante (y)\n",
    "    - independent_vars : Liste des noms des colonnes pour les variables indépendantes (X)\n",
    "\n",
    "    Retourne :\n",
    "    - Un résumé du modèle de régression\n",
    "    \"\"\"\n",
    "    # Extraire la variable dépendante (y) et les variables indépendantes (X)\n",
    "    y = data[[dependent_var]]\n",
    "    X = data[independent_vars]\n",
    "\n",
    "    # Ajouter une constante pour inclure l'intercept dans le modèle\n",
    "    X = sm.add_constant(X)\n",
    "\n",
    "    # Effectuer la régression linéaire\n",
    "    model = sm.OLS(y, X).fit()\n",
    "\n",
    "    # Afficher le résumé des résultats\n",
    "    return model.summary()"
   ]
  },
  {
   "cell_type": "markdown",
   "metadata": {},
   "source": [
    "<p style=\"line-height: 1.6; font-family: 'Serial', serif; font-size: 20px;\"> Procédons désormais à la regression lineaire sur la base data_var</p>"
   ]
  },
  {
   "cell_type": "code",
   "execution_count": 37,
   "metadata": {},
   "outputs": [
    {
     "name": "stdout",
     "output_type": "stream",
     "text": [
      "                            OLS Regression Results                            \n",
      "==============================================================================\n",
      "Dep. Variable:       log_PIB_par_tete   R-squared:                       0.316\n",
      "Model:                            OLS   Adj. R-squared:                  0.304\n",
      "Method:                 Least Squares   F-statistic:                     26.34\n",
      "Date:                Sat, 28 Dec 2024   Prob (F-statistic):           3.95e-10\n",
      "Time:                        09:55:40   Log-Likelihood:                -178.56\n",
      "No. Observations:                 117   AIC:                             363.1\n",
      "Df Residuals:                     114   BIC:                             371.4\n",
      "Df Model:                           2                                         \n",
      "Covariance Type:            nonrobust                                         \n",
      "=================================================================================\n",
      "                    coef    std err          t      P>|t|      [0.025      0.975]\n",
      "---------------------------------------------------------------------------------\n",
      "const             1.7922      1.555      1.153      0.251      -1.288       4.872\n",
      "log_s             0.8287      0.401      2.065      0.041       0.034       1.624\n",
      "log_n_g_sigma    -3.2460      0.487     -6.669      0.000      -4.210      -2.282\n",
      "==============================================================================\n",
      "Omnibus:                        1.543   Durbin-Watson:                   1.724\n",
      "Prob(Omnibus):                  0.462   Jarque-Bera (JB):                1.582\n",
      "Skew:                           0.219   Prob(JB):                        0.453\n",
      "Kurtosis:                       2.637   Cond. No.                         52.2\n",
      "==============================================================================\n",
      "\n",
      "Notes:\n",
      "[1] Standard Errors assume that the covariance matrix of the errors is correctly specified.\n"
     ]
    }
   ],
   "source": [
    "regression_summary = perform_regression(\n",
    "    data=data_var,\n",
    "    dependent_var='log_PIB_par_tete',\n",
    "    independent_vars=['log_s', 'log_n_g_sigma']\n",
    ")\n",
    "print(regression_summary)"
   ]
  },
  {
   "cell_type": "markdown",
   "metadata": {},
   "source": [
    "<br/>\n",
    "<h2 style=\"font-family: 'Georgia', serif; font-size: 25px; color:rgb(11, 81, 150);\"> <u>Interprétation</u></h2>\n",
    "<br/>\n",
    "<p>\n",
    "<ul style=\"font-family: 'Georgia', serif; font-size: 20px; \">\n",
    "<li>Le signe du coefficient du logarithme du taux d'épargne(log_s) est positif. Ce qui signifie que le logarithme du taux d'épargne est positivement corrélé au PIB par tête.Cela est conforme à la théorie du modèle de Solow Swan qui prédit un effet positif du taux d'épargne sur le PIB par tête. De plus, pour chaque augmentation de 1% du taux d'épargne, le PIB par tête augmente en moyenne de 0,83%, toute chose égale à par ailleurs.\n",
    "Le signe du coefficiant du logarithme de la dilution plus dépréciation du capital(log_n_g_sigma) est négatif. Ce qui signifie que le logarithme du taux d'épargne est négativement corrélé au PIB par tête. Cela est conforme à la théorie du modèle de Solow Swan qui prédit un effet négatif du taux de croissance démographique et donc, de la dilution plus dépréciation du capital sur le PIB par tête. De plus, pour chaque augmentation de 1% de la dilution plus dépréciation , le PIB par tete diminue en moyenne de 3,24%,toute chose égale à par ailleurs.\n",
    "</li>\n",
    "<br/>\n",
    "<li>Le coefficiant du log du taux d'épargne est significatif à 5% car sa p-value  vaut 4,1% < 5%. il est donc statistiquement significatif.\n",
    "le coefficiant du log de la dilution plus dépreciation du capital(n+g+𝛿) est significatif à 1% car sa p-value  vaut 0,00% < 1%. il est donc statistiquement significatif. Ainsi les deux variables choisies peuvent être utilisées sans crainte, pour expliquer le log du pIB par tete </li>\n",
    "<br/>\n",
    "<li>Enfin, le <b> R<sup>2</sup> </b> de notre regression vaut 0,316. Ce qui signifit que 31,6% de la variabilité du PIB par tête est expliqué par le modèle de Solow Swan. Les deux variables inclusent expliquent une part non négligeable de la variabilité du modèle. Mais, une part importante reste innexpliquée. Cela peut être due au fait que le modèle n'inclut pas des variables importantes tel que le capital humain, l'inovation... </li>\n",
    "\n",
    "</ul>\n",
    "</p>\n",
    "<br/>"
   ]
  },
  {
   "cell_type": "markdown",
   "metadata": {},
   "source": [
    "<br/>\n",
    "<h2 style=\"font-family: 'Georgia', serif; text-align: center; font-size: 23px; color: #3498db;\">III.2- <u>Cas de la Base de données data_ocde</u></h2>\n",
    "<br/>\n",
    "<br/>"
   ]
  },
  {
   "cell_type": "markdown",
   "metadata": {},
   "source": [
    "<p style=\"line-height: 1.6; font-family: 'Serial', serif; font-size: 20px;\">Construction de la matrice de corrélation pour la base data_ocde (pour les pays de l'OCDE)</p>"
   ]
  },
  {
   "cell_type": "code",
   "execution_count": 34,
   "metadata": {},
   "outputs": [
    {
     "data": {
      "image/png": "[encoded data removed]",
      "text/plain": [
       "<Figure size 640x480 with 2 Axes>"
      ]
     },
     "metadata": {},
     "output_type": "display_data"
    }
   ],
   "source": [
    "correlation_matrix = plot_correlation_matrix(\n",
    "    data=data_ocde,\n",
    "    pib_col='PIB_par_travailleur',\n",
    "    epargne_col='Taux_epargne_moyen',\n",
    "    croissance_col='Taux_croissance_moyen'\n",
    ")"
   ]
  },
  {
   "cell_type": "markdown",
   "metadata": {},
   "source": [
    "<p style=\"line-height: 1.6; font-family: 'Serial', serif; font-size: 16px;\">\n",
    "Les corrélations entre les prédicteurs (log_s et log_n_g_sigma) sont faibles (-0.35). Cela signifie qu'il n'y a pas de problème significatif de multicolinéarité entre les variables explicatives. Nous pouvons donc les utiliser ensemble dans la régression sans ajustements spécifiques.\n",
    "</p>"
   ]
  },
  {
   "cell_type": "markdown",
   "metadata": {},
   "source": [
    "<p style=\"line-height: 1.6; font-family: 'Serial', serif; font-size: 18px;\"><b>\n",
    "Regression linéaire sur la base data_ocde</b>\n",
    "</p>"
   ]
  },
  {
   "cell_type": "code",
   "execution_count": 38,
   "metadata": {},
   "outputs": [
    {
     "name": "stdout",
     "output_type": "stream",
     "text": [
      "                            OLS Regression Results                            \n",
      "==============================================================================\n",
      "Dep. Variable:       log_PIB_par_tete   R-squared:                       0.046\n",
      "Model:                            OLS   Adj. R-squared:                 -0.016\n",
      "Method:                 Least Squares   F-statistic:                    0.7471\n",
      "Date:                Sat, 28 Dec 2024   Prob (F-statistic):              0.482\n",
      "Time:                        09:55:47   Log-Likelihood:                -33.552\n",
      "No. Observations:                  34   AIC:                             73.10\n",
      "Df Residuals:                      31   BIC:                             77.68\n",
      "Df Model:                           2                                         \n",
      "Covariance Type:            nonrobust                                         \n",
      "=================================================================================\n",
      "                    coef    std err          t      P>|t|      [0.025      0.975]\n",
      "---------------------------------------------------------------------------------\n",
      "const            14.8972      3.296      4.519      0.000       8.174      21.620\n",
      "log_s             1.0614      1.077      0.985      0.332      -1.136       3.259\n",
      "log_n_g_sigma     0.8191      0.803      1.020      0.315      -0.818       2.456\n",
      "==============================================================================\n",
      "Omnibus:                        4.575   Durbin-Watson:                   1.832\n",
      "Prob(Omnibus):                  0.102   Jarque-Bera (JB):                3.521\n",
      "Skew:                          -0.781   Prob(JB):                        0.172\n",
      "Kurtosis:                       3.209   Cond. No.                         102.\n",
      "==============================================================================\n",
      "\n",
      "Notes:\n",
      "[1] Standard Errors assume that the covariance matrix of the errors is correctly specified.\n"
     ]
    }
   ],
   "source": [
    "regression_summary = perform_regression(\n",
    "    data=data_ocde,\n",
    "    dependent_var='log_PIB_par_tete',\n",
    "    independent_vars=['log_s', 'log_n_g_sigma']\n",
    ")\n",
    "print(regression_summary)"
   ]
  },
  {
   "cell_type": "markdown",
   "metadata": {},
   "source": [
    "<br/>\n",
    "<h2 style=\"font-family: 'Georgia', serif; font-size: 25px; color:rgb(11, 81, 150);\"> <u>Interprétation</u></h2>\n",
    "<br/>\n",
    "<p>\n",
    "<ul style=\"font-family: 'Georgia', serif; font-size: 20px; \">\n",
    "<li>Le signe du coefficient du logarithme du taux d'épargne(log_s) est positif. Ce qui signifie que le logarithme du taux d'épargne est positivement corrélé au PIB par tête.Cela est conforme à la théorie du modèle de Solow Swan qui prédit un effet positif du taux d'épargne sur le PIB par tête. De plus, pour chaque augmentation de 1% du taux d'épargne, le PIB par tête augmente en moyenne de 1,06%,toute chose égale à par ailleurs.\n",
    "Le signe du coefficiant du logarithme de la dilution plus dépréciation du capital(log_n_g_sigma) est positif. Ce qui signifie que le logarithme du taux d'épargne est négativement corrélé au PIB par tête. Cela n'est pas conforme à la théorie du modèle de Solow Swan qui prédit un effet négatif du taux de croissance démographique et donc, de la dilution plus dépréciation du capital sur le PIB par tête. De plus, pour chaque augmentation de 1% de la dilution plus dépréciation , le PIB par tete augmente en moyenne de 0,82% environ,toute chose égale à par ailleurs.\n",
    "</li>\n",
    "<br/>\n",
    "<li>Le coefficient du log du taux d'épargne est significatif à 35% car sa p-value  vaut 33,2% > 5%. il n'est donc pas significatif statistiquement .Le coefficiant du log de la dilution plus dépréciation du capital(n+g+𝛿) est significatif à 35% car sa p-value  vaut 31,5% > 5%. Il n'est donc pas statistiquement significatif. Ainsi les deux variables choisies sont risqués pour l'explication du pib par tête des pays de l'OCDE, ce qui peut expliquer les signes des coefficients non conformes au modèle de Solow. </li>\n",
    "<br/>\n",
    "<li>Enfin, le <b> R<sup>2</sup> </b> de notre regression vaut 0,046. ce qui signifit que 04,6% de la variabilité du PIB par tête des pays de l'OCDE est expliqué par le Modèle de Solow Swan. Les deux variables inclusent expliquent une part  négligeable de la variabilité du modèle. Une part importante reste innexpliquée. Cela peut être due au fait que le modèle n'inclut pas des variables importantes tel que la recherche et developpement, et l'hétérogénité des pays de l'OCDE, qui peuvent avoir un fort impact sur le PIB des pays devéloppés ou bien aux différentes hypothèses simplificatrices que nous avons fais au début</li>\n",
    "\n",
    "</ul>\n",
    "</p>\n",
    "<br/>"
   ]
  },
  {
   "cell_type": "markdown",
   "metadata": {},
   "source": [
    "<p style=\"line-height: 1.6; font-family: 'Serial', serif; font-size: 20px;\">Construction de la matrice de corrélation pour la base data_ua (pour les pays de l'Union Africaine)</p>"
   ]
  },
  {
   "cell_type": "code",
   "execution_count": 21,
   "metadata": {},
   "outputs": [
    {
     "data": {
      "image/png": "[encoded data removed]",
      "text/plain": [
       "<Figure size 640x480 with 2 Axes>"
      ]
     },
     "metadata": {},
     "output_type": "display_data"
    }
   ],
   "source": [
    "correlation_matrix = plot_correlation_matrix(\n",
    "    data=data_ua,\n",
    "    pib_col='PIB_par_travailleur',\n",
    "    epargne_col='Taux_epargne_moyen',\n",
    "    croissance_col='Taux_croissance_moyen'\n",
    ")"
   ]
  },
  {
   "cell_type": "markdown",
   "metadata": {},
   "source": [
    "<p style=\"line-height: 1.6; font-family: 'Serial', serif; font-size: 16px;\">\n",
    "Les corrélations entre les prédicteurs (log_s et log_n_g_sigma) sont faibles (-0.06). Cela signifie qu'il n'y a pas de problème significatif de multicolinéarité entre les variables explicatives. Nous pouvons donc les utiliser ensemble dans la régression sans ajustements spécifiques.\n",
    "</p>"
   ]
  },
  {
   "cell_type": "markdown",
   "metadata": {},
   "source": [
    "<p style=\"line-height: 1.6; font-family: 'Serial', serif; font-size: 20px;\"><b>\n",
    "Regression sur la BD data_ua</b></p>"
   ]
  },
  {
   "cell_type": "code",
   "execution_count": 22,
   "metadata": {},
   "outputs": [
    {
     "name": "stdout",
     "output_type": "stream",
     "text": [
      "                            OLS Regression Results                            \n",
      "==============================================================================\n",
      "Dep. Variable:       log_PIB_par_tete   R-squared:                       0.327\n",
      "Model:                            OLS   Adj. R-squared:                  0.266\n",
      "Method:                 Least Squares   F-statistic:                     5.346\n",
      "Date:                Thu, 26 Dec 2024   Prob (F-statistic):             0.0128\n",
      "Time:                        01:53:57   Log-Likelihood:                -27.371\n",
      "No. Observations:                  25   AIC:                             60.74\n",
      "Df Residuals:                      22   BIC:                             64.40\n",
      "Df Model:                           2                                         \n",
      "Covariance Type:            nonrobust                                         \n",
      "=================================================================================\n",
      "                    coef    std err          t      P>|t|      [0.025      0.975]\n",
      "---------------------------------------------------------------------------------\n",
      "const            -1.7256      4.181     -0.413      0.684     -10.397       6.946\n",
      "log_s             0.7751      0.486      1.595      0.125      -0.233       1.783\n",
      "log_n_g_sigma    -4.3192      1.572     -2.748      0.012      -7.579      -1.059\n",
      "==============================================================================\n",
      "Omnibus:                        1.282   Durbin-Watson:                   1.808\n",
      "Prob(Omnibus):                  0.527   Jarque-Bera (JB):                0.319\n",
      "Skew:                           0.161   Prob(JB):                        0.852\n",
      "Kurtosis:                       3.451   Cond. No.                         93.5\n",
      "==============================================================================\n",
      "\n",
      "Notes:\n",
      "[1] Standard Errors assume that the covariance matrix of the errors is correctly specified.\n"
     ]
    }
   ],
   "source": [
    "regression_summary = perform_regression(\n",
    "    data=data_ua,\n",
    "    dependent_var='log_PIB_par_tete',\n",
    "    independent_vars=['log_s', 'log_n_g_sigma']\n",
    ")\n",
    "print(regression_summary)"
   ]
  },
  {
   "cell_type": "markdown",
   "metadata": {},
   "source": [
    "<br/>\n",
    "<h2 style=\"font-family: 'Georgia', serif; font-size: 25px; color:rgb(11, 81, 150);\"> <u>Interprétation</u></h2>\n",
    "<br/>\n",
    "<p>\n",
    "<ul style=\"font-family: 'Georgia', serif; font-size: 20px; \">\n",
    "<li>Le signe du coefficient du logarithme du taux d'épargne(log_s) est positif. Ce qui signifie que le logarithme du taux d'épargne est positivement corrélé au PIB par tête.Cela est conforme à la théorie du modèle de Solow Swan qui prédit un effet positif du taux d'épargne sur le PIB par tête. De plus, pour chaque augmentation de 1% du taux d'épargne, le PIB par tête augmente en moyenne de 0,775%,toute chose égale à par ailleurs.\n",
    "Le signe du coefficient du logarithme de la dilution plus dépréciation du capital(log_n_g_sigma) est négatif. Ce qui signifie que le logarithme du taux d'épargne est négativement corrélé au PIB par tête. Cela est conforme à la théorie du modèle de Solow Swan qui prédit un effet négatif du taux de croissance démographique et donc, de la dilution plus dépréciation du capital sur le PIB par tête. De plus, pour chaque augmentation de 1% de la dilution plus dépréciation , le PIB par tête diminue en moyenne de -4,31%,toute chose égale à par ailleurs.\n",
    "</li>\n",
    "<br/>\n",
    "<li>Le coefficiant du log du taux d'épargne est significatif à 15% car sa p-value  vaut 12,5% < 15%. il n'est donc pas très significatif statistiquement .Le coefficiant du log de la dilution plus dépréciation du capital(n+g+𝛿) est significatif à 5% car sa p-value  vaut 1,2% < 5%. Il est donc statistiquement significatif. Ainsi les deux variables choisies peuvent être utilisées avec peu de crainte, pour expliquer le log du pIB par tete pour les pays de l'UA </li>\n",
    "<br/>\n",
    "<li>Enfin, le <b> R<sup>2</sup> </b> de notre regression vaut 0,316. ce qui signifit que 32,7% de la variabilité du PIB par tête est expliqué par le Modèle de Solow Swan. Les deux variables inclusent expliquent une part significative de la variabilité du modèle. Mais, une part non négligeable reste innexpliquée. cela peut être due au fait que le modèle n'inclut pas des variables importantes tel que capital humain qui serait significatif pour les pays moins développés car leur économie est basée principalement sur les revenus des ménages et ceux provenants des secteurs informels. </li>\n",
    "\n",
    "</ul>\n",
    "</p>\n",
    "<br/>"
   ]
  },
  {
   "cell_type": "markdown",
   "metadata": {},
   "source": [
    "<br/>\n",
    "<h1 style=\"font-family: 'Georgia', serif; text-align: center; font-size: 30px; color: #3498db;text-shadow: 2px 2px 5px rgba(0, 0, 0, 0.3);\">V- <u>CONCLUSION GENERALE</u></h1>\n",
    "<br/>\n"
   ]
  },
  {
   "cell_type": "markdown",
   "metadata": {},
   "source": [
    "<p style=\"line-height: 1.6; font-family: 'Serial', serif; font-size: 18px;\"><b>\n",
    "    L’analyse des régressions effectuées sur les données globales, ainsi que pour les sous-groupes des pays de l'OCDE et de l'Union Africaine (UA), révèle des disparités significatives dans les facteurs influençant la croissance économique. On retient que l’effet du taux d’épargne sur le PIB par tête est significatif et que la croissance démographique, le progrès technologique et la dépréciation a un effet négatif marqué et statistiquement significatif.\n",
    "Pour les pays de l'OCDE, les résultats montrent des relations statistiquement non significatives. Cela souligne que dans des économies avancées, d’autres facteurs, comme l’innovation, la qualité institutionnelle ou les politiques économiques, peuvent jouer un rôle plus déterminant dans les différences de croissance.\n",
    "Cependant, une relation significative a été observée pour les pays de l’Union Africaine avec le terme démographique, notamment avec un impact négatif indiquant que la forte croissance démographique constitue un défi majeur pour ces économies.\n",
    "Les variables utilisées dans le modèle de Solow Swan permettent de capturer une part non négligeable de la variabilité du PIB de ces pays mais tenir compte d’autres facteurs tels que la recherche et développement, les ménages représentatifs, et réduire les hypothèses simplificatrices permettrait sans doute de mieux expliquer l’évolution du PIB entre différents pays.\n",
    "Ces résultats confirment en partie les prédictions du modèle de Solow, tout en mettant en lumière des divergences régionales importantes. Les pays de l’OCDE semblent avoir atteint un certain équilibre, tandis que les pays de l’UA restent visiblement influencés par des dynamiques démographiques et d’accumulation de capital. \n",
    "</b>\n",
    "</p>"
   ]
  }
 ],
 "metadata": {
  "kernelspec": {
   "display_name": "Python 3",
   "language": "python",
   "name": "python3"
  },
  "language_info": {
   "codemirror_mode": {
    "name": "ipython",
    "version": 3
   },
   "file_extension": ".py",
   "mimetype": "text/x-python",
   "name": "python",
   "nbconvert_exporter": "python",
   "pygments_lexer": "ipython3",
   "version": "3.11.9"
  }
 },
 "nbformat": 4,
 "nbformat_minor": 2
}
