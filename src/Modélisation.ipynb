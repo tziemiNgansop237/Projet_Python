{
 "cells": [
  {
   "cell_type": "markdown",
   "metadata": {},
   "source": [
    "\n",
    "<h1 style=\"font-family: 'Georgia', serif; text-align: center; font-size: 45px; color: #3498db;\"><u>Modélisation </u></h1>\n",
    "<br/>\n"
   ]
  },
  {
   "cell_type": "markdown",
   "metadata": {},
   "source": [
    "<p style=\"line-height: 1.6; font-family: 'Serial', serif; font-size: 18px; \">Dans cette partie, nous entrons enfin dans le vif du sujet en testant les résultats du modèle de Solow grâce à un modèle de regression linéaire. Elle se déroulera comme suit: \n",
    "<ul>\n",
    "  <li style=\"line-height: 1.6; font-family: 'Serial', serif; font-size: 18px; \">la présentation du modèle où nous ferons un petit résumé des résultats du modèle de Solow</li>\n",
    "  <li style=\"line-height: 1.6; font-family: 'Serial', serif; font-size: 18px; \">la modélisation où nous testerons le modèle sur les pays de l'OCDE et les pays de l'UA puis une 2è modélisation sur les pays après regroupement de ces derniers selon des critères socio-économiques à l'aide du clustering.</li>\n",
    "  <li style=\"line-height: 1.6; font-family: 'Serial', serif; font-size: 18px; \">la conclusion</li>\n",
    "</ul>\n",
    "</p>"
   ]
  },
  {
   "cell_type": "markdown",
   "metadata": {},
   "source": [
    "<h1 style=\"font-family: 'Georgia', serif; text-align: center; font-size: 25px; color: #3498db;\">I- <u>Présentation du modèle de Solow</u></h1>\n",
    "<br/>\n",
    "\n",
    "<p style=\"line-height: 1.6; font-family: 'Serial', serif; font-size: 18px;\">\n",
    "Le modèle de croissance économique proposé par Robert Solow (1956) repose sur une fonction de production néoclassique à deux facteurs, le capital physique (K) et le travail (L), avec progrès technologique exogène (A) pour expliquer les différences de revenus entre les pays.\n",
    "</p>\n",
    "<br/>\n",
    "<h2 style=\"font-family: 'Georgia', serif; text-align: center; font-size: 23px; color: #3498db;\">I.1- <u>Fonction de production</u></h2>\n",
    "<br/>\n",
    "\n",
    "<p style=\"line-height: 1.6; font-family: 'Serial', serif; font-size: 18px;\">\n",
    "Par hypothèse, considérons que la production totale (Y) est décrite par une fonction de production Cobb-Douglas avec des rendements décroissants du capital et du travail :\n",
    "\n",
    " <h2 style=\"font-family: 'Georgia', serif; text-align: center; font-size: 23px;\"> Y<sub>t</sub> = K<sub>t</sub><sup>α</sup>(A<sub>t</sub>L<sub>t</sub>)<sup>1-α</sup> </h2>\n",
    " <ul style=\"line-height: 1.6; font-family: 'Serial', serif; font-size: 18px;\">\n",
    " <li>\n",
    "Y<sub>t</sub> : Production totale (ou PIB) à l'instant t\n",
    "</li>\n",
    "<li>\n",
    "K<sub>t</sub> : Stock de capital à l'instant t\n",
    "</li>\n",
    "<li>\n",
    "L<sub>t</sub> : Travail (ou population active) à l'instant t\n",
    "</li>\n",
    "<li>\n",
    "A<sub>t</sub> : Niveau de technologie (progrès technique exogène) à l'instant t\n",
    "</li>\n",
    "<li>\n",
    "α : Elasticité de la production par rapport au capital (0<α<1).\n",
    "</li>\n",
    "</ul>\n",
    "\n",
    "</p>\n",
    "\n",
    "<br/>\n",
    "<br/>\n",
    "<h2 style=\"font-family: 'Georgia', serif; text-align: center; font-size: 23px; color: #3498db;\">I.2- <u>Hypothèses sur la dynamique des facteurs</u> </h2>\n",
    "<br/>\n",
    "<p style=\"line-height: 1.6; font-family: 'Serial', serif; font-size: 18px;\">\n",
    "- Le capital évolue selon le taux d'épargne s et le taux de dépréciation du capital 𝛿: <b>K&#x0307;<sub>t</sub> = sY<sub>t</sub> - δK<sub>t</sub></b>\n",
    " <p style=\"line-height: 1.6; font-family: 'Serial', serif; font-size: 18px;\">\n",
    "- La population active L<sub>t</sub> et la technologie A<sub>t</sub> croissent de façon exogène à des taux constants n et g respectivement :\n",
    "<h3></h3>\n",
    "\n",
    "</p>\n",
    "<br/>\n",
    "<h2 style=\"font-family: 'Georgia', serif; text-align: center; font-size: 23px; color: #3498db;\">I.3- <u>Variables par unité de travail effective</u></h2>\n",
    "<br/>\n",
    "<br/>\n",
    "\n",
    "<p style=\"line-height: 1.6; font-family: 'Serial', serif; font-size: 18px;\">\n",
    "En divisant les variables par A(t)L(t) (qui représente le travail rendu efficace par le progrès technique), on exprime les variables en termes d'unités de travail effectif :\n",
    "\n",
    "<p style=\"line-height: 1.6; font-family: 'Serial', serif; font-size: 18px;\"><b>- k<sub>t</sub>=  K<sub>t</sub> / A<sub>t</sub>L<sub>t</sub> </b>: Capital par unité de travail effectif </p>\n",
    "\n",
    " <p style=\"line-height: 1.6; font-family: 'Serial', serif; font-size: 18px;\"><b>- y<sub>t</sub>= Y<sub>t</sub> / A<sub>t</sub>L<sub>t</sub></b> : Production par unité de travail effectif</p>\n",
    "\n",
    "<p style=\"line-height: 1.6; font-family: 'Serial', serif; font-size: 18px;\">L'équation dynamique de k<sub>t</sub> devient: <b> k&#x0307;<sub>t</sub> = sy<sub>t</sub> - (n+g+δ)k<sub>t</sub></b></p>\n",
    "\n",
    "<br/>\n",
    "<h2 style=\"font-family: 'Georgia', serif; text-align: center; font-size: 23px; color: #3498db;\">I.4- <u>État régulier</u></h2>\n",
    "<br/>\n",
    "\n",
    "<p style=\"line-height: 1.6; font-family: 'Serial', serif; font-size: 18px;\">\n",
    "L'état régulier est une situation dans laquelle les variables sont non nulles et croissent à taux constants. On montre qu'à cet état, le capital par unité de travail effective (k*) est constant et donné par :\n",
    "</p>\n",
    "\n",
    "<b><h3 style=\"text-align: center\"> k* = (s/(n+g+δ)) <sup>1/(1-α) </sup> </b> </h3>\n",
    " <p style=\"line-height: 1.6; font-family: 'Serial', serif; font-size: 18px;\">\n",
    "La production par tête est alors donnée par: \n",
    "​</p>\n",
    "<h3 style=\"text-align: center\"><b> Y/L = y* = A(0)e<sup>gt</sup>(s/(n+g+δ)) <sup>α/(1-α)</sup> </b>     (1) </h3 id=\"eq1\"> \n",
    "\n",
    " \n",
    " <br/>\n",
    "<br/>\n",
    "<h2 style=\"font-family: 'Georgia', serif; text-align: center; font-size: 23px; color: #3498db;\">I.5- <u>Spécification empirique pour la régression</u></h2>\n",
    "<br/>\n",
    "<br/>\n",
    "\n",
    "\n",
    "<p style=\"line-height: 1.6; font-family: 'Serial', serif; font-size: 18px;\">\n",
    "En prenant le logarithme, l'équation à l'état régulier, <a href=\"#eq1\">     (1)</a>\n",
    " devient linéaire et s'écrit :\n",
    "<h3 style=\"text-align: center\"><b> ln(Y/L) = ln(A(0))+ gt + α/(1-α) ln(s) - α/(1-α) ln(n+g+δ) </b></h3>\n",
    "<br/>\n",
    "</p>\n",
    "Ainsi, le revenu par tête dépend de :\n",
    "<ul style=\"line-height: 1.6; font-family: 'Serial', serif; font-size: 18px;\">\n",
    "<li>𝑠: le taux d'épargne </li>\n",
    "<li>n+g+δ : la dillution (n+g) plus dépréciation (δ) </li>\n",
    "</ul>\n",
    "\n",
    "<p style=\"line-height: 1.6; font-family: 'Serial', serif; font-size: 18px;\">Le terme A(0) représente non seulement la technologie mais aussi les dotations en ressources, les institutions, le climat etc. Nous supposerons donc que ln(A(0)) = a + ϵ où ϵ varie d'un pays à un autre. Finalement le log de la production par tête à un instant donné (prenons t = 0 pour faire simple) devient: \n",
    "<h3 style=\"text-align: center\"><b> ln(Y/L) = a + α/(1-α) ln(s) - α/(1-α) ln(n+g+δ) + ϵ </b>     (2)</h3 id=\"eq2\">\n",
    "<br/>  </p>\n",
    "\n",
    "<p style=\"line-height: 1.6; font-family: 'Serial', serif; font-size: 18px;\">En supposant de plus que le taux d'épargne et de croissance démographique sont indépendants des facteurs spécifiques au pays qui modifient la fonction de production (c'est-à-dire que s et n sont indépendants de ϵ), nous pouvons estimer l'équation précédente à l'aide des moindres carrés ordinaires.</p>​\n",
    "\n",
    "\n"
   ]
  },
  {
   "cell_type": "markdown",
   "metadata": {},
   "source": [
    "<h1 style=\"font-family: 'Georgia', serif; text-align: center; font-size: 30px; color: #3498db;\">II- <u>Modélisation </u></h1>"
   ]
  },
  {
   "cell_type": "markdown",
   "metadata": {},
   "source": [
    "<h2 style=\"font-family: 'Georgia', serif; text-align: center; font-size: 23px; color: #3498db;\">II.1- <u>Transformation des variables</u></h2>"
   ]
  },
  {
   "cell_type": "markdown",
   "metadata": {},
   "source": [
    "<p style=\"line-height: 1.6; font-family: 'Serial', serif; font-size: 18px;\">\n",
    "D'après l'équation <a href=\"#eq2\">(2)</a>, nous avons besoin des variables suivantes:\n",
    "\n",
    "<ul>\n",
    "  <li style=\"line-height: 1.6; font-family: 'Serial', serif; font-size: 18px; \">la production par tête Y/L: que nous prendrons comme étant égale la variable PIB_par_travailleur de notre base pour l'année 2023</li>\n",
    "  <li style=\"line-height: 1.6; font-family: 'Serial', serif; font-size: 18px; \">le taux d'épargne s: que nous calculerons comme étant la moyenne du ratio capital_pa_travailleur/pib_par_travailleur sur la période 1990-2023</li>\n",
    "  <li style=\"line-height: 1.6; font-family: 'Serial', serif; font-size: 18px; \">le taux de croissance démographique n que nous calculerons comme étant le taux de croissance annuel moyen de la population active sur la période 1990 à 2023</li>\n",
    "  <li style=\"line-height: 1.6; font-family: 'Serial', serif; font-size: 18px; \">g+𝛿 que nous prendrons comme étant égal à 0,05. Empiriquement c'est cette valeur là qui est choisie.</li>\n",
    "</ul>\n",
    "\n",
    "<p style=\"line-height: 1.6; font-family: 'Serial', serif; font-size: 18px;\">\n",
    "Nous allons calculer chaque variable dans une base différente puis faire la fusion des bases obtenue de sorte à avoir une base prête pour la modélisation.\n",
    "</p>\n",
    "\n",
    "</p>"
   ]
  },
  {
   "cell_type": "code",
   "execution_count": 109,
   "metadata": {},
   "outputs": [
    {
     "data": {
      "text/html": [
       "<div>\n",
       "<style scoped>\n",
       "    .dataframe tbody tr th:only-of-type {\n",
       "        vertical-align: middle;\n",
       "    }\n",
       "\n",
       "    .dataframe tbody tr th {\n",
       "        vertical-align: top;\n",
       "    }\n",
       "\n",
       "    .dataframe thead th {\n",
       "        text-align: right;\n",
       "    }\n",
       "</style>\n",
       "<table border=\"1\" class=\"dataframe\">\n",
       "  <thead>\n",
       "    <tr style=\"text-align: right;\">\n",
       "      <th></th>\n",
       "      <th>Country</th>\n",
       "      <th>Country_Code</th>\n",
       "      <th>Year</th>\n",
       "      <th>PIB_par_travailleur</th>\n",
       "      <th>Capital_par_travailleur</th>\n",
       "      <th>Population_travailleur</th>\n",
       "    </tr>\n",
       "  </thead>\n",
       "  <tbody>\n",
       "    <tr>\n",
       "      <th>0</th>\n",
       "      <td>Albania</td>\n",
       "      <td>ALB</td>\n",
       "      <td>2023</td>\n",
       "      <td>8130.753594</td>\n",
       "      <td>2008.989312</td>\n",
       "      <td>1830356</td>\n",
       "    </tr>\n",
       "    <tr>\n",
       "      <th>1</th>\n",
       "      <td>Albania</td>\n",
       "      <td>ALB</td>\n",
       "      <td>2022</td>\n",
       "      <td>7693.634432</td>\n",
       "      <td>1955.422229</td>\n",
       "      <td>1861085</td>\n",
       "    </tr>\n",
       "    <tr>\n",
       "      <th>2</th>\n",
       "      <td>Albania</td>\n",
       "      <td>ALB</td>\n",
       "      <td>2021</td>\n",
       "      <td>7211.368890</td>\n",
       "      <td>1890.602681</td>\n",
       "      <td>1894123</td>\n",
       "    </tr>\n",
       "    <tr>\n",
       "      <th>3</th>\n",
       "      <td>Albania</td>\n",
       "      <td>ALB</td>\n",
       "      <td>2020</td>\n",
       "      <td>6523.372724</td>\n",
       "      <td>1558.771159</td>\n",
       "      <td>1921536</td>\n",
       "    </tr>\n",
       "    <tr>\n",
       "      <th>4</th>\n",
       "      <td>Albania</td>\n",
       "      <td>ALB</td>\n",
       "      <td>2019</td>\n",
       "      <td>6679.059681</td>\n",
       "      <td>1556.807023</td>\n",
       "      <td>1941067</td>\n",
       "    </tr>\n",
       "  </tbody>\n",
       "</table>\n",
       "</div>"
      ],
      "text/plain": [
       "   Country Country_Code  Year  PIB_par_travailleur  Capital_par_travailleur  \\\n",
       "0  Albania          ALB  2023          8130.753594              2008.989312   \n",
       "1  Albania          ALB  2022          7693.634432              1955.422229   \n",
       "2  Albania          ALB  2021          7211.368890              1890.602681   \n",
       "3  Albania          ALB  2020          6523.372724              1558.771159   \n",
       "4  Albania          ALB  2019          6679.059681              1556.807023   \n",
       "\n",
       "   Population_travailleur  \n",
       "0                 1830356  \n",
       "1                 1861085  \n",
       "2                 1894123  \n",
       "3                 1921536  \n",
       "4                 1941067  "
      ]
     },
     "execution_count": 109,
     "metadata": {},
     "output_type": "execute_result"
    }
   ],
   "source": [
    "# Importation nécessaires\n",
    "from importlib import reload\n",
    "import Declarations as d\n",
    "reload(d)\n",
    "\n",
    "# Importation de la base de données obtenue suite au nettoyage\n",
    "data = d.pd.read_csv('./bases/data.csv')\n",
    "data.head()\n"
   ]
  },
  {
   "cell_type": "code",
   "execution_count": 18,
   "metadata": {},
   "outputs": [
    {
     "data": {
      "text/html": [
       "<div>\n",
       "<style scoped>\n",
       "    .dataframe tbody tr th:only-of-type {\n",
       "        vertical-align: middle;\n",
       "    }\n",
       "\n",
       "    .dataframe tbody tr th {\n",
       "        vertical-align: top;\n",
       "    }\n",
       "\n",
       "    .dataframe thead th {\n",
       "        text-align: right;\n",
       "    }\n",
       "</style>\n",
       "<table border=\"1\" class=\"dataframe\">\n",
       "  <thead>\n",
       "    <tr style=\"text-align: right;\">\n",
       "      <th></th>\n",
       "      <th>Country</th>\n",
       "      <th>Country_Code</th>\n",
       "      <th>Year</th>\n",
       "      <th>PIB_par_travailleur</th>\n",
       "    </tr>\n",
       "  </thead>\n",
       "  <tbody>\n",
       "    <tr>\n",
       "      <th>0</th>\n",
       "      <td>Albania</td>\n",
       "      <td>ALB</td>\n",
       "      <td>2023</td>\n",
       "      <td>8130.753594</td>\n",
       "    </tr>\n",
       "    <tr>\n",
       "      <th>34</th>\n",
       "      <td>Algeria</td>\n",
       "      <td>DZA</td>\n",
       "      <td>2023</td>\n",
       "      <td>7399.372277</td>\n",
       "    </tr>\n",
       "    <tr>\n",
       "      <th>68</th>\n",
       "      <td>Argentina</td>\n",
       "      <td>ARG</td>\n",
       "      <td>2023</td>\n",
       "      <td>19713.420552</td>\n",
       "    </tr>\n",
       "    <tr>\n",
       "      <th>102</th>\n",
       "      <td>Armenia</td>\n",
       "      <td>ARM</td>\n",
       "      <td>2023</td>\n",
       "      <td>7660.226850</td>\n",
       "    </tr>\n",
       "    <tr>\n",
       "      <th>136</th>\n",
       "      <td>Australia</td>\n",
       "      <td>AUS</td>\n",
       "      <td>2023</td>\n",
       "      <td>95352.263249</td>\n",
       "    </tr>\n",
       "  </tbody>\n",
       "</table>\n",
       "</div>"
      ],
      "text/plain": [
       "       Country Country_Code  Year  PIB_par_travailleur\n",
       "0      Albania          ALB  2023          8130.753594\n",
       "34     Algeria          DZA  2023          7399.372277\n",
       "68   Argentina          ARG  2023         19713.420552\n",
       "102    Armenia          ARM  2023          7660.226850\n",
       "136  Australia          AUS  2023         95352.263249"
      ]
     },
     "execution_count": 18,
     "metadata": {},
     "output_type": "execute_result"
    }
   ],
   "source": [
    "# Production par tete Y/L\n",
    "\n",
    "data_pib_2023 = data[data['Year'] == 2023].copy()  # nous retenons uniquement les données de 2023\n",
    "data_pib_2023 = data_pib_2023[['Country', 'Country_Code', 'Year', 'PIB_par_travailleur']] # Les colonnes nécessaires\n",
    "data_pib_2023.head()"
   ]
  },
  {
   "cell_type": "markdown",
   "metadata": {},
   "source": [
    "<p style=\"line-height: 1.6; font-family: 'Serial', serif; font-size: 18px;\"> \n",
    "La base pib_par_tete_2023 contient le pib par tête de chaque pays en 2023.</p>\n",
    "\n",
    "\n",
    "\n"
   ]
  },
  {
   "cell_type": "markdown",
   "metadata": {},
   "source": [
    "<h4 style=\"font-family: 'Georgia', serif; text-align: center; font-size: 23px; color: #3498db;\">Calcul du taux de croissance moyen de la population active</h4>"
   ]
  },
  {
   "cell_type": "markdown",
   "metadata": {},
   "source": [
    "<p style=\"line-height: 1.6; font-family: 'Serial', serif; font-size: 18px;\"> \n",
    "Il s'agit du taux annuel de croissance entre 1990 et 2023 dont la formule est (population en 2023/population en 1990)^(1/(2023-1990)) -1</p>"
   ]
  },
  {
   "cell_type": "code",
   "execution_count": 19,
   "metadata": {},
   "outputs": [
    {
     "data": {
      "text/html": [
       "<div>\n",
       "<style scoped>\n",
       "    .dataframe tbody tr th:only-of-type {\n",
       "        vertical-align: middle;\n",
       "    }\n",
       "\n",
       "    .dataframe tbody tr th {\n",
       "        vertical-align: top;\n",
       "    }\n",
       "\n",
       "    .dataframe thead th {\n",
       "        text-align: right;\n",
       "    }\n",
       "</style>\n",
       "<table border=\"1\" class=\"dataframe\">\n",
       "  <thead>\n",
       "    <tr style=\"text-align: right;\">\n",
       "      <th></th>\n",
       "      <th>Country_Code</th>\n",
       "      <th>Taux_croissance_moyen</th>\n",
       "    </tr>\n",
       "  </thead>\n",
       "  <tbody>\n",
       "    <tr>\n",
       "      <th>0</th>\n",
       "      <td>ALB</td>\n",
       "      <td>-0.003210</td>\n",
       "    </tr>\n",
       "    <tr>\n",
       "      <th>1</th>\n",
       "      <td>ARG</td>\n",
       "      <td>0.012289</td>\n",
       "    </tr>\n",
       "    <tr>\n",
       "      <th>2</th>\n",
       "      <td>ARM</td>\n",
       "      <td>-0.003992</td>\n",
       "    </tr>\n",
       "    <tr>\n",
       "      <th>3</th>\n",
       "      <td>AUS</td>\n",
       "      <td>0.012527</td>\n",
       "    </tr>\n",
       "    <tr>\n",
       "      <th>4</th>\n",
       "      <td>AUT</td>\n",
       "      <td>0.004357</td>\n",
       "    </tr>\n",
       "  </tbody>\n",
       "</table>\n",
       "</div>"
      ],
      "text/plain": [
       "  Country_Code  Taux_croissance_moyen\n",
       "0          ALB              -0.003210\n",
       "1          ARG               0.012289\n",
       "2          ARM              -0.003992\n",
       "3          AUS               0.012527\n",
       "4          AUT               0.004357"
      ]
     },
     "execution_count": 19,
     "metadata": {},
     "output_type": "execute_result"
    }
   ],
   "source": [
    "\n",
    "taux_croissance_moyen = d.calculer_taux_croissance_moyen(\n",
    "    data, \n",
    "    year_col='Year', \n",
    "    country_col='Country_Code', \n",
    "    population_col='Population_travailleur'\n",
    ")\n",
    "taux_croissance_moyen.head()"
   ]
  },
  {
   "cell_type": "markdown",
   "metadata": {},
   "source": [
    "<h4 style=\"font-family: 'Georgia', serif; text-align: center; font-size: 23px; color: #3498db;\">Création de la variable taux d'epargne</h4>\n",
    "\n",
    "<p style=\"line-height: 1.6; font-family: 'Serial', serif; font-size: 18px;\"> \n",
    "Nous allons calculer le taux d'epargne sur chaque période et prendre ensuite la moyenne pour notre regression./p>"
   ]
  },
  {
   "cell_type": "code",
   "execution_count": 20,
   "metadata": {},
   "outputs": [
    {
     "data": {
      "text/html": [
       "<div>\n",
       "<style scoped>\n",
       "    .dataframe tbody tr th:only-of-type {\n",
       "        vertical-align: middle;\n",
       "    }\n",
       "\n",
       "    .dataframe tbody tr th {\n",
       "        vertical-align: top;\n",
       "    }\n",
       "\n",
       "    .dataframe thead th {\n",
       "        text-align: right;\n",
       "    }\n",
       "</style>\n",
       "<table border=\"1\" class=\"dataframe\">\n",
       "  <thead>\n",
       "    <tr style=\"text-align: right;\">\n",
       "      <th></th>\n",
       "      <th>Country_Code</th>\n",
       "      <th>Taux_croissance_moyen</th>\n",
       "    </tr>\n",
       "  </thead>\n",
       "  <tbody>\n",
       "    <tr>\n",
       "      <th>0</th>\n",
       "      <td>ALB</td>\n",
       "      <td>-0.003210</td>\n",
       "    </tr>\n",
       "    <tr>\n",
       "      <th>1</th>\n",
       "      <td>ARG</td>\n",
       "      <td>0.012289</td>\n",
       "    </tr>\n",
       "    <tr>\n",
       "      <th>2</th>\n",
       "      <td>ARM</td>\n",
       "      <td>-0.003992</td>\n",
       "    </tr>\n",
       "    <tr>\n",
       "      <th>3</th>\n",
       "      <td>AUS</td>\n",
       "      <td>0.012527</td>\n",
       "    </tr>\n",
       "    <tr>\n",
       "      <th>4</th>\n",
       "      <td>AUT</td>\n",
       "      <td>0.004357</td>\n",
       "    </tr>\n",
       "  </tbody>\n",
       "</table>\n",
       "</div>"
      ],
      "text/plain": [
       "  Country_Code  Taux_croissance_moyen\n",
       "0          ALB              -0.003210\n",
       "1          ARG               0.012289\n",
       "2          ARM              -0.003992\n",
       "3          AUS               0.012527\n",
       "4          AUT               0.004357"
      ]
     },
     "execution_count": 20,
     "metadata": {},
     "output_type": "execute_result"
    }
   ],
   "source": [
    "# Calcul \n",
    "taux_epargne_moyen = d.calculer_taux_epargne_moyen(\n",
    "    data, \n",
    "    year_col='Year', \n",
    "    country_col='Country_Code', \n",
    "    capital_travailleur='Capital_par_travailleur', \n",
    "    pib_travailleur='PIB_par_travailleur'\n",
    ")\n",
    "taux_croissance_moyen.head()"
   ]
  },
  {
   "cell_type": "markdown",
   "metadata": {},
   "source": [
    "\n",
    "<br/>\n",
    "<p style=\"line-height: 1.6; font-family: 'Serial', serif; font-size: 18px;\"> \n",
    "Ainsi, nous avons les trois variables néccessaire pour faire la régression. Nous allons à présent fusionner les trois bases de données afin d'obtenir une base prête à utiliser.</p>\n",
    "<br/>\n",
    "<br/>"
   ]
  },
  {
   "cell_type": "code",
   "execution_count": 21,
   "metadata": {},
   "outputs": [
    {
     "data": {
      "text/html": [
       "<div>\n",
       "<style scoped>\n",
       "    .dataframe tbody tr th:only-of-type {\n",
       "        vertical-align: middle;\n",
       "    }\n",
       "\n",
       "    .dataframe tbody tr th {\n",
       "        vertical-align: top;\n",
       "    }\n",
       "\n",
       "    .dataframe thead th {\n",
       "        text-align: right;\n",
       "    }\n",
       "</style>\n",
       "<table border=\"1\" class=\"dataframe\">\n",
       "  <thead>\n",
       "    <tr style=\"text-align: right;\">\n",
       "      <th></th>\n",
       "      <th>Country</th>\n",
       "      <th>Country_Code</th>\n",
       "      <th>Year</th>\n",
       "      <th>PIB_par_travailleur</th>\n",
       "      <th>Taux_croissance_moyen</th>\n",
       "      <th>Taux_epargne_moyen</th>\n",
       "    </tr>\n",
       "  </thead>\n",
       "  <tbody>\n",
       "    <tr>\n",
       "      <th>0</th>\n",
       "      <td>Albania</td>\n",
       "      <td>ALB</td>\n",
       "      <td>2023</td>\n",
       "      <td>8130.753594</td>\n",
       "      <td>-0.003210</td>\n",
       "      <td>0.340192</td>\n",
       "    </tr>\n",
       "    <tr>\n",
       "      <th>1</th>\n",
       "      <td>Algeria</td>\n",
       "      <td>DZA</td>\n",
       "      <td>2023</td>\n",
       "      <td>7399.372277</td>\n",
       "      <td>0.022612</td>\n",
       "      <td>0.316813</td>\n",
       "    </tr>\n",
       "    <tr>\n",
       "      <th>2</th>\n",
       "      <td>Argentina</td>\n",
       "      <td>ARG</td>\n",
       "      <td>2023</td>\n",
       "      <td>19713.420552</td>\n",
       "      <td>0.012289</td>\n",
       "      <td>0.141293</td>\n",
       "    </tr>\n",
       "    <tr>\n",
       "      <th>3</th>\n",
       "      <td>Armenia</td>\n",
       "      <td>ARM</td>\n",
       "      <td>2023</td>\n",
       "      <td>7660.226850</td>\n",
       "      <td>-0.003992</td>\n",
       "      <td>0.271439</td>\n",
       "    </tr>\n",
       "    <tr>\n",
       "      <th>4</th>\n",
       "      <td>Australia</td>\n",
       "      <td>AUS</td>\n",
       "      <td>2023</td>\n",
       "      <td>95352.263249</td>\n",
       "      <td>0.012527</td>\n",
       "      <td>0.232352</td>\n",
       "    </tr>\n",
       "  </tbody>\n",
       "</table>\n",
       "</div>"
      ],
      "text/plain": [
       "     Country Country_Code  Year  PIB_par_travailleur  Taux_croissance_moyen  \\\n",
       "0    Albania          ALB  2023          8130.753594              -0.003210   \n",
       "1    Algeria          DZA  2023          7399.372277               0.022612   \n",
       "2  Argentina          ARG  2023         19713.420552               0.012289   \n",
       "3    Armenia          ARM  2023          7660.226850              -0.003992   \n",
       "4  Australia          AUS  2023         95352.263249               0.012527   \n",
       "\n",
       "   Taux_epargne_moyen  \n",
       "0            0.340192  \n",
       "1            0.316813  \n",
       "2            0.141293  \n",
       "3            0.271439  \n",
       "4            0.232352  "
      ]
     },
     "execution_count": 21,
     "metadata": {},
     "output_type": "execute_result"
    }
   ],
   "source": [
    "# Fusionner les bases successivement avec une jointure interne\n",
    "merged_data = data_pib_2023.merge(taux_croissance_moyen, on=['Country_Code'], how='inner')\n",
    "data_var = merged_data.merge(taux_epargne_moyen, on=['Country_Code'], how='inner')\n",
    "data_var.head()\n"
   ]
  },
  {
   "cell_type": "code",
   "execution_count": 24,
   "metadata": {},
   "outputs": [
    {
     "data": {
      "text/html": [
       "<div>\n",
       "<style scoped>\n",
       "    .dataframe tbody tr th:only-of-type {\n",
       "        vertical-align: middle;\n",
       "    }\n",
       "\n",
       "    .dataframe tbody tr th {\n",
       "        vertical-align: top;\n",
       "    }\n",
       "\n",
       "    .dataframe thead th {\n",
       "        text-align: right;\n",
       "    }\n",
       "</style>\n",
       "<table border=\"1\" class=\"dataframe\">\n",
       "  <thead>\n",
       "    <tr style=\"text-align: right;\">\n",
       "      <th></th>\n",
       "      <th>Country</th>\n",
       "      <th>Country_Code</th>\n",
       "      <th>log_PIB_par_tete</th>\n",
       "      <th>log_s</th>\n",
       "      <th>log_n_g_sigma</th>\n",
       "    </tr>\n",
       "  </thead>\n",
       "  <tbody>\n",
       "    <tr>\n",
       "      <th>0</th>\n",
       "      <td>Albania</td>\n",
       "      <td>ALB</td>\n",
       "      <td>9.003409</td>\n",
       "      <td>-1.078246</td>\n",
       "      <td>-3.062085</td>\n",
       "    </tr>\n",
       "    <tr>\n",
       "      <th>1</th>\n",
       "      <td>Algeria</td>\n",
       "      <td>DZA</td>\n",
       "      <td>8.909150</td>\n",
       "      <td>-1.149445</td>\n",
       "      <td>-2.622625</td>\n",
       "    </tr>\n",
       "    <tr>\n",
       "      <th>2</th>\n",
       "      <td>Argentina</td>\n",
       "      <td>ARG</td>\n",
       "      <td>9.889055</td>\n",
       "      <td>-1.956921</td>\n",
       "      <td>-2.775967</td>\n",
       "    </tr>\n",
       "    <tr>\n",
       "      <th>3</th>\n",
       "      <td>Armenia</td>\n",
       "      <td>ARM</td>\n",
       "      <td>8.943797</td>\n",
       "      <td>-1.304018</td>\n",
       "      <td>-3.078939</td>\n",
       "    </tr>\n",
       "    <tr>\n",
       "      <th>4</th>\n",
       "      <td>Australia</td>\n",
       "      <td>AUS</td>\n",
       "      <td>11.465333</td>\n",
       "      <td>-1.459503</td>\n",
       "      <td>-2.772157</td>\n",
       "    </tr>\n",
       "  </tbody>\n",
       "</table>\n",
       "</div>"
      ],
      "text/plain": [
       "     Country Country_Code  log_PIB_par_tete     log_s  log_n_g_sigma\n",
       "0    Albania          ALB          9.003409 -1.078246      -3.062085\n",
       "1    Algeria          DZA          8.909150 -1.149445      -2.622625\n",
       "2  Argentina          ARG          9.889055 -1.956921      -2.775967\n",
       "3    Armenia          ARM          8.943797 -1.304018      -3.078939\n",
       "4  Australia          AUS         11.465333 -1.459503      -2.772157"
      ]
     },
     "execution_count": 24,
     "metadata": {},
     "output_type": "execute_result"
    }
   ],
   "source": [
    "# Ajouter les colonnes nécessaires pour la régression\n",
    "g_sigma = 0.05\n",
    "data_var['log_PIB_par_tete'] = d.np.log(data_var['PIB_par_travailleur'])\n",
    "data_var['log_s'] = d.np.log(data_var['Taux_epargne_moyen'])\n",
    "data_var['log_n_g_sigma'] = d.np.log(data_var['Taux_croissance_moyen'] + g_sigma)\n",
    "\n",
    "# Retention des colonnes nécessaires\n",
    "columns_necessaires = ['Country', 'Country_Code', 'log_PIB_par_tete', 'log_s', 'log_n_g_sigma']\n",
    "data_var = data_var[columns_necessaires]\n",
    "\n",
    "# Affichage\n",
    "\n",
    "data_var.head()"
   ]
  },
  {
   "cell_type": "markdown",
   "metadata": {},
   "source": [
    "<h2 style=\"font-family: 'Georgia', serif; text-align: center; font-size: 23px; color: #3498db;\">II.2- <u>Modélisation: Comparaison des résultats sur les pays de l'OCDE et ceux de l'UA</u></h2>"
   ]
  },
  {
   "cell_type": "markdown",
   "metadata": {},
   "source": [
    "<p style=\"line-height: 1.6; font-family: 'Serial', serif; font-size: 20px;\">\n",
    "Nous ferons la modélisation en considérant 3 groupes de pays: </p>\n",
    "\n",
    "<ul>\n",
    "  <li style=\"line-height: 1.6; font-family: 'Serial', serif; font-size: 18px; \">Tous les pays de la base</li>\n",
    "  <li style=\"line-height: 1.6; font-family: 'Serial', serif; font-size: 18px; \">Les pays de l'OCDE</li>\n",
    "  <li style=\"line-height: 1.6; font-family: 'Serial', serif; font-size: 18px; \">Les pays de l'UA</li>\n",
    "</ul>"
   ]
  },
  {
   "cell_type": "code",
   "execution_count": null,
   "metadata": {},
   "outputs": [],
   "source": [
    "# Liste des pays de l'OCDE et de l'Union Africaine \n",
    "liste_ocde = [\"United States\", \"Canada\", \"Mexico\", \"United Kingdom\", \"France\", \"Germany\", \"Italy\", \"Spain\", \"Portugal\", \"Greece\", \"Netherlands\", \"Belgium\", \"Luxembourg\", \"Ireland\", \"Denmark\", \"Sweden\", \"Finland\", \"Norway\", \"Switzerland\", \"Iceland\", \"Austria\", \"Hungary\", \"Poland\", \"Czech Republic\", \"Slovakia\", \"Slovenia\", \"Estonia\", \"Latvia\", \"Lithuania\", \"Turkey\", \"Japan\", \"South Korea\", \"Australia\", \"New Zealand\", \"Israel\", \"Chile\", \"Colombia\", \"Costa Rica\"\n",
    "]\n",
    "liste_ua = [\"Algeria\", \"Angola\", \"Benin\", \"Botswana\", \"Burkina Faso\", \"Burundi\", \"Cabo Verde\", \"Cameroon\", \"Central African Republic\", \"Chad\", \"Comoros\", \"Congo\", \"Democratic Republic of the Congo\", \"Cote d’Ivoire\", \"Djibouti\", \"Egypt\", \"Equatorial Guinea\", \"Eritrea\", \"Eswatini\", \"Ethiopia\", \"Gabon\", \"Gambia\", \"Ghana\", \"Guinea\", \"Guinea-Bissau\", \"Kenya\", \"Lesotho\", \"Liberia\", \"Libya\", \"Madagascar\", \"Malawi\", \"Mali\", \"Mauritania\", \"Mauritius\", \"Morocco\", \"Mozambique\", \"Namibia\", \"Niger\", \"Nigeria\", \"Rwanda\", \"Sao Tome and Principe\", \"Senegal\", \"Seychelles\", \"Sierra Leone\", \"Somalia\", \"South Africa\", \"South Sudan\", \"Sudan\", \"Tanzania\", \"Togo\", \"Tunisia\", \"Uganda\", \"Zambia\", \"Zimbabwe\"\n",
    "]\n",
    "\n",
    "# Former les échantillons\n",
    "data_ocde, data_ua = d.former_echantillons(data_var, country_col='Country', liste1=liste_ocde, liste2=liste_ua)"
   ]
  },
  {
   "cell_type": "code",
   "execution_count": 27,
   "metadata": {},
   "outputs": [
    {
     "name": "stdout",
     "output_type": "stream",
     "text": [
      "La base contient 34 pays\n"
     ]
    },
    {
     "data": {
      "text/html": [
       "<div>\n",
       "<style scoped>\n",
       "    .dataframe tbody tr th:only-of-type {\n",
       "        vertical-align: middle;\n",
       "    }\n",
       "\n",
       "    .dataframe tbody tr th {\n",
       "        vertical-align: top;\n",
       "    }\n",
       "\n",
       "    .dataframe thead th {\n",
       "        text-align: right;\n",
       "    }\n",
       "</style>\n",
       "<table border=\"1\" class=\"dataframe\">\n",
       "  <thead>\n",
       "    <tr style=\"text-align: right;\">\n",
       "      <th></th>\n",
       "      <th>Country</th>\n",
       "      <th>Country_Code</th>\n",
       "      <th>log_PIB_par_tete</th>\n",
       "      <th>log_s</th>\n",
       "      <th>log_n_g_sigma</th>\n",
       "    </tr>\n",
       "  </thead>\n",
       "  <tbody>\n",
       "    <tr>\n",
       "      <th>4</th>\n",
       "      <td>Australia</td>\n",
       "      <td>AUS</td>\n",
       "      <td>11.465333</td>\n",
       "      <td>-1.459503</td>\n",
       "      <td>-2.772157</td>\n",
       "    </tr>\n",
       "    <tr>\n",
       "      <th>5</th>\n",
       "      <td>Austria</td>\n",
       "      <td>AUT</td>\n",
       "      <td>11.166349</td>\n",
       "      <td>-1.410144</td>\n",
       "      <td>-2.912181</td>\n",
       "    </tr>\n",
       "    <tr>\n",
       "      <th>9</th>\n",
       "      <td>Belgium</td>\n",
       "      <td>BEL</td>\n",
       "      <td>11.161546</td>\n",
       "      <td>-1.491199</td>\n",
       "      <td>-2.927780</td>\n",
       "    </tr>\n",
       "    <tr>\n",
       "      <th>20</th>\n",
       "      <td>Canada</td>\n",
       "      <td>CAN</td>\n",
       "      <td>11.128148</td>\n",
       "      <td>-1.509221</td>\n",
       "      <td>-2.812781</td>\n",
       "    </tr>\n",
       "    <tr>\n",
       "      <th>21</th>\n",
       "      <td>Chile</td>\n",
       "      <td>CHL</td>\n",
       "      <td>9.935053</td>\n",
       "      <td>-1.562657</td>\n",
       "      <td>-2.752404</td>\n",
       "    </tr>\n",
       "  </tbody>\n",
       "</table>\n",
       "</div>"
      ],
      "text/plain": [
       "      Country Country_Code  log_PIB_par_tete     log_s  log_n_g_sigma\n",
       "4   Australia          AUS         11.465333 -1.459503      -2.772157\n",
       "5     Austria          AUT         11.166349 -1.410144      -2.912181\n",
       "9     Belgium          BEL         11.161546 -1.491199      -2.927780\n",
       "20     Canada          CAN         11.128148 -1.509221      -2.812781\n",
       "21      Chile          CHL          9.935053 -1.562657      -2.752404"
      ]
     },
     "execution_count": 27,
     "metadata": {},
     "output_type": "execute_result"
    }
   ],
   "source": [
    "print(f\"La base contient {len(data_ocde)} pays\")\n",
    "data_ocde.head()"
   ]
  },
  {
   "cell_type": "code",
   "execution_count": 28,
   "metadata": {},
   "outputs": [
    {
     "name": "stdout",
     "output_type": "stream",
     "text": [
      "La base contient 25 pays\n"
     ]
    },
    {
     "data": {
      "text/html": [
       "<div>\n",
       "<style scoped>\n",
       "    .dataframe tbody tr th:only-of-type {\n",
       "        vertical-align: middle;\n",
       "    }\n",
       "\n",
       "    .dataframe tbody tr th {\n",
       "        vertical-align: top;\n",
       "    }\n",
       "\n",
       "    .dataframe thead th {\n",
       "        text-align: right;\n",
       "    }\n",
       "</style>\n",
       "<table border=\"1\" class=\"dataframe\">\n",
       "  <thead>\n",
       "    <tr style=\"text-align: right;\">\n",
       "      <th></th>\n",
       "      <th>Country</th>\n",
       "      <th>Country_Code</th>\n",
       "      <th>log_PIB_par_tete</th>\n",
       "      <th>log_s</th>\n",
       "      <th>log_n_g_sigma</th>\n",
       "    </tr>\n",
       "  </thead>\n",
       "  <tbody>\n",
       "    <tr>\n",
       "      <th>1</th>\n",
       "      <td>Algeria</td>\n",
       "      <td>DZA</td>\n",
       "      <td>8.909150</td>\n",
       "      <td>-1.149445</td>\n",
       "      <td>-2.622625</td>\n",
       "    </tr>\n",
       "    <tr>\n",
       "      <th>11</th>\n",
       "      <td>Benin</td>\n",
       "      <td>BEN</td>\n",
       "      <td>7.738199</td>\n",
       "      <td>-1.769218</td>\n",
       "      <td>-2.487774</td>\n",
       "    </tr>\n",
       "    <tr>\n",
       "      <th>13</th>\n",
       "      <td>Botswana</td>\n",
       "      <td>BWA</td>\n",
       "      <td>9.337029</td>\n",
       "      <td>-1.643268</td>\n",
       "      <td>-2.574832</td>\n",
       "    </tr>\n",
       "    <tr>\n",
       "      <th>17</th>\n",
       "      <td>Burkina Faso</td>\n",
       "      <td>BFA</td>\n",
       "      <td>7.210500</td>\n",
       "      <td>-1.801556</td>\n",
       "      <td>-2.506901</td>\n",
       "    </tr>\n",
       "    <tr>\n",
       "      <th>19</th>\n",
       "      <td>Cameroon</td>\n",
       "      <td>CMR</td>\n",
       "      <td>7.880242</td>\n",
       "      <td>-1.803182</td>\n",
       "      <td>-2.509388</td>\n",
       "    </tr>\n",
       "  </tbody>\n",
       "</table>\n",
       "</div>"
      ],
      "text/plain": [
       "         Country Country_Code  log_PIB_par_tete     log_s  log_n_g_sigma\n",
       "1        Algeria          DZA          8.909150 -1.149445      -2.622625\n",
       "11         Benin          BEN          7.738199 -1.769218      -2.487774\n",
       "13      Botswana          BWA          9.337029 -1.643268      -2.574832\n",
       "17  Burkina Faso          BFA          7.210500 -1.801556      -2.506901\n",
       "19      Cameroon          CMR          7.880242 -1.803182      -2.509388"
      ]
     },
     "execution_count": 28,
     "metadata": {},
     "output_type": "execute_result"
    }
   ],
   "source": [
    "print(f\"La base contient {len(data_ua)} pays\")\n",
    "data_ua.head()"
   ]
  },
  {
   "cell_type": "markdown",
   "metadata": {},
   "source": [
    "\n",
    "<h2 style=\"font-family: 'Georgia', serif; text-align: center; font-size: 20px; color: #3498db;\">Cas de la Base de données totale</h2>"
   ]
  },
  {
   "cell_type": "code",
   "execution_count": 33,
   "metadata": {},
   "outputs": [
    {
     "data": {
      "image/png": "[encoded data removed]",
      "text/plain": [
       "<Figure size 640x480 with 2 Axes>"
      ]
     },
     "metadata": {},
     "output_type": "display_data"
    },
    {
     "data": {
      "text/html": [
       "<div>\n",
       "<style scoped>\n",
       "    .dataframe tbody tr th:only-of-type {\n",
       "        vertical-align: middle;\n",
       "    }\n",
       "\n",
       "    .dataframe tbody tr th {\n",
       "        vertical-align: top;\n",
       "    }\n",
       "\n",
       "    .dataframe thead th {\n",
       "        text-align: right;\n",
       "    }\n",
       "</style>\n",
       "<table border=\"1\" class=\"dataframe\">\n",
       "  <thead>\n",
       "    <tr style=\"text-align: right;\">\n",
       "      <th></th>\n",
       "      <th>log_PIB_par_tete</th>\n",
       "      <th>log_s</th>\n",
       "      <th>log_n_g_sigma</th>\n",
       "    </tr>\n",
       "  </thead>\n",
       "  <tbody>\n",
       "    <tr>\n",
       "      <th>log_PIB_par_tete</th>\n",
       "      <td>1.000000</td>\n",
       "      <td>0.221894</td>\n",
       "      <td>-0.537153</td>\n",
       "    </tr>\n",
       "    <tr>\n",
       "      <th>log_s</th>\n",
       "      <td>0.221894</td>\n",
       "      <td>1.000000</td>\n",
       "      <td>-0.114924</td>\n",
       "    </tr>\n",
       "    <tr>\n",
       "      <th>log_n_g_sigma</th>\n",
       "      <td>-0.537153</td>\n",
       "      <td>-0.114924</td>\n",
       "      <td>1.000000</td>\n",
       "    </tr>\n",
       "  </tbody>\n",
       "</table>\n",
       "</div>"
      ],
      "text/plain": [
       "                  log_PIB_par_tete     log_s  log_n_g_sigma\n",
       "log_PIB_par_tete          1.000000  0.221894      -0.537153\n",
       "log_s                     0.221894  1.000000      -0.114924\n",
       "log_n_g_sigma            -0.537153 -0.114924       1.000000"
      ]
     },
     "execution_count": 33,
     "metadata": {},
     "output_type": "execute_result"
    }
   ],
   "source": [
    "d.plot_correlation_matrix(data_var)\n"
   ]
  },
  {
   "cell_type": "markdown",
   "metadata": {},
   "source": [
    "\n",
    "<p style=\"line-height: 1.6; font-family: 'Serial', serif; font-size: 18px;\">Les corrélations entre les prédicteurs (log_s et log_n_g_sigma) sont faibles (-0.11). Cela signifie qu'il n'y a pas de problème significatif de multicolinéarité entre les variables explicatives. Nous pouvons donc les utiliser ensemble dans la régression sans ajustements spécifiques.</p>\n"
   ]
  },
  {
   "cell_type": "markdown",
   "metadata": {},
   "source": [
    "<p style=\"line-height: 1.6; font-family: 'Serial', serif; font-size: 20px;\"> Procédons désormais à la regression lineaire sur la base data_var</p>"
   ]
  },
  {
   "cell_type": "code",
   "execution_count": 31,
   "metadata": {},
   "outputs": [
    {
     "name": "stdout",
     "output_type": "stream",
     "text": [
      "                            OLS Regression Results                            \n",
      "==============================================================================\n",
      "Dep. Variable:       log_PIB_par_tete   R-squared:                       0.315\n",
      "Model:                            OLS   Adj. R-squared:                  0.303\n",
      "Method:                 Least Squares   F-statistic:                     26.15\n",
      "Date:                Sun, 29 Dec 2024   Prob (F-statistic):           4.48e-10\n",
      "Time:                        17:31:52   Log-Likelihood:                -178.69\n",
      "No. Observations:                 117   AIC:                             363.4\n",
      "Df Residuals:                     114   BIC:                             371.7\n",
      "Df Model:                           2                                         \n",
      "Covariance Type:            nonrobust                                         \n",
      "=================================================================================\n",
      "                    coef    std err          t      P>|t|      [0.025      0.975]\n",
      "---------------------------------------------------------------------------------\n",
      "const             1.8179      1.557      1.168      0.245      -1.266       4.902\n",
      "log_s             0.8350      0.402      2.079      0.040       0.039       1.630\n",
      "log_n_g_sigma    -3.2392      0.488     -6.642      0.000      -4.205      -2.273\n",
      "==============================================================================\n",
      "Omnibus:                        1.525   Durbin-Watson:                   1.720\n",
      "Prob(Omnibus):                  0.466   Jarque-Bera (JB):                1.562\n",
      "Skew:                           0.216   Prob(JB):                        0.458\n",
      "Kurtosis:                       2.633   Cond. No.                         52.2\n",
      "==============================================================================\n",
      "\n",
      "Notes:\n",
      "[1] Standard Errors assume that the covariance matrix of the errors is correctly specified.\n"
     ]
    }
   ],
   "source": [
    "regression_summary = d.perform_regression(\n",
    "    data=data_var,\n",
    "    dependent_var='log_PIB_par_tete',\n",
    "    independent_vars=['log_s', 'log_n_g_sigma']\n",
    ")\n",
    "print(regression_summary)"
   ]
  },
  {
   "cell_type": "markdown",
   "metadata": {},
   "source": [
    "<h4 style=\"font-family: 'Georgia', serif; font-size: 25px; color:rgb(11, 81, 150);\"> <u>Interprétation</u></h4>\n",
    "<br/>\n",
    "<p>\n",
    "<ul style=\"line-height: 1.6; font-family: 'Serial', serif; font-size: 18px;\">\n",
    "<li>Le signe du coefficient du logarithme du taux d'épargne(log_s) est positif. Ce qui signifie que le logarithme du taux d'épargne est positivement corrélé au PIB par tête.Cela est conforme à la théorie du modèle de Solow Swan qui prédit un effet positif du taux d'épargne sur le PIB par tête. De plus, pour chaque augmentation de 1% du taux d'épargne, le PIB par tête augmente en moyenne de 0,83%, toute chose égale à par ailleurs.\n",
    "Le signe du coefficiant du logarithme de la dilution plus dépréciation du capital(log_n_g_sigma) est négatif. Ce qui signifie que le logarithme du taux d'épargne est négativement corrélé au PIB par tête. Cela est conforme à la théorie du modèle de Solow Swan qui prédit un effet négatif du taux de croissance démographique et donc, de la dilution plus dépréciation du capital sur le PIB par tête. De plus, pour chaque augmentation de 1% de la dilution plus dépréciation , le PIB par tete diminue en moyenne de 3,24%,toute chose égale à par ailleurs.\n",
    "</li>\n",
    "<br/>\n",
    "<li>Par ailleurs Le coefficiant du log du taux d'épargne est significatif au seuil 5% de même que le coefficiant du log de la dilution plus dépreciation du capital (n+g+𝛿).</li>\n",
    "<br/>\n",
    "<li>Enfin, le <b> R<sup>2</sup> </b> de notre regression vaut 0,316. Ce qui signifit que 31,6% de la variabilité du PIB par tête est expliqué par le modèle de Solow Swan. Les deux variables inclusent expliquent une part non négligeable de la variabilité du modèle. Mais, une part importante reste inexpliquée. Cela peut être due au fait que le modèle n'inclut pas des variables importantes tel que le capital humain, l'inovation... </li>\n",
    "\n",
    "</ul>\n",
    "</p>\n",
    "<br/>"
   ]
  },
  {
   "cell_type": "markdown",
   "metadata": {},
   "source": [
    "\n",
    "<h2 style=\"font-family: 'Georgia', serif; text-align: center; font-size: 20px; color: #3498db;\">Cas de la Base de données data_ocde</h2>"
   ]
  },
  {
   "cell_type": "markdown",
   "metadata": {},
   "source": [
    "<p style=\"line-height: 1.6; font-family: 'Serial', serif; font-size: 20px;\">Construction de la matrice de corrélation pour la base data_ocde (pour les pays de l'OCDE)</p>"
   ]
  },
  {
   "cell_type": "code",
   "execution_count": 35,
   "metadata": {},
   "outputs": [
    {
     "data": {
      "image/png": "[encoded data removed]",
      "text/plain": [
       "<Figure size 640x480 with 2 Axes>"
      ]
     },
     "metadata": {},
     "output_type": "display_data"
    },
    {
     "data": {
      "text/html": [
       "<div>\n",
       "<style scoped>\n",
       "    .dataframe tbody tr th:only-of-type {\n",
       "        vertical-align: middle;\n",
       "    }\n",
       "\n",
       "    .dataframe tbody tr th {\n",
       "        vertical-align: top;\n",
       "    }\n",
       "\n",
       "    .dataframe thead th {\n",
       "        text-align: right;\n",
       "    }\n",
       "</style>\n",
       "<table border=\"1\" class=\"dataframe\">\n",
       "  <thead>\n",
       "    <tr style=\"text-align: right;\">\n",
       "      <th></th>\n",
       "      <th>log_PIB_par_tete</th>\n",
       "      <th>log_s</th>\n",
       "      <th>log_n_g_sigma</th>\n",
       "    </tr>\n",
       "  </thead>\n",
       "  <tbody>\n",
       "    <tr>\n",
       "      <th>log_PIB_par_tete</th>\n",
       "      <td>1.000000</td>\n",
       "      <td>0.118066</td>\n",
       "      <td>0.127291</td>\n",
       "    </tr>\n",
       "    <tr>\n",
       "      <th>log_s</th>\n",
       "      <td>0.118066</td>\n",
       "      <td>1.000000</td>\n",
       "      <td>-0.346895</td>\n",
       "    </tr>\n",
       "    <tr>\n",
       "      <th>log_n_g_sigma</th>\n",
       "      <td>0.127291</td>\n",
       "      <td>-0.346895</td>\n",
       "      <td>1.000000</td>\n",
       "    </tr>\n",
       "  </tbody>\n",
       "</table>\n",
       "</div>"
      ],
      "text/plain": [
       "                  log_PIB_par_tete     log_s  log_n_g_sigma\n",
       "log_PIB_par_tete          1.000000  0.118066       0.127291\n",
       "log_s                     0.118066  1.000000      -0.346895\n",
       "log_n_g_sigma             0.127291 -0.346895       1.000000"
      ]
     },
     "execution_count": 35,
     "metadata": {},
     "output_type": "execute_result"
    }
   ],
   "source": [
    "d.plot_correlation_matrix(data_ocde)"
   ]
  },
  {
   "cell_type": "markdown",
   "metadata": {},
   "source": [
    "<p style=\"line-height: 1.6; font-family: 'Serial', serif; font-size: 18px;\">\n",
    "Les corrélations entre les prédicteurs (log_s et log_n_g_sigma) sont faibles (-0.35). Cela signifie qu'il n'y a pas de problème significatif de multicolinéarité entre les variables explicatives. Nous pouvons donc les utiliser ensemble dans la régression sans ajustements spécifiques.\n",
    "</p>"
   ]
  },
  {
   "cell_type": "markdown",
   "metadata": {},
   "source": [
    "<h4 style=\"line-height: 1.6; font-family: 'Serial', serif; font-size: 20px; color: #3498db;\"><b>\n",
    "Regression linéaire sur la base data_ocde</b>\n",
    "</h4>"
   ]
  },
  {
   "cell_type": "code",
   "execution_count": 36,
   "metadata": {},
   "outputs": [
    {
     "name": "stdout",
     "output_type": "stream",
     "text": [
      "                            OLS Regression Results                            \n",
      "==============================================================================\n",
      "Dep. Variable:       log_PIB_par_tete   R-squared:                       0.046\n",
      "Model:                            OLS   Adj. R-squared:                 -0.015\n",
      "Method:                 Least Squares   F-statistic:                    0.7494\n",
      "Date:                Sun, 29 Dec 2024   Prob (F-statistic):              0.481\n",
      "Time:                        17:46:38   Log-Likelihood:                -33.549\n",
      "No. Observations:                  34   AIC:                             73.10\n",
      "Df Residuals:                      31   BIC:                             77.68\n",
      "Df Model:                           2                                         \n",
      "Covariance Type:            nonrobust                                         \n",
      "=================================================================================\n",
      "                    coef    std err          t      P>|t|      [0.025      0.975]\n",
      "---------------------------------------------------------------------------------\n",
      "const            14.9038      3.296      4.521      0.000       8.181      21.627\n",
      "log_s             1.0624      1.077      0.986      0.332      -1.135       3.260\n",
      "log_n_g_sigma     0.8207      0.803      1.023      0.314      -0.816       2.458\n",
      "==============================================================================\n",
      "Omnibus:                        4.589   Durbin-Watson:                   1.831\n",
      "Prob(Omnibus):                  0.101   Jarque-Bera (JB):                3.532\n",
      "Skew:                          -0.782   Prob(JB):                        0.171\n",
      "Kurtosis:                       3.212   Cond. No.                         102.\n",
      "==============================================================================\n",
      "\n",
      "Notes:\n",
      "[1] Standard Errors assume that the covariance matrix of the errors is correctly specified.\n"
     ]
    }
   ],
   "source": [
    "regression_summary = d.perform_regression(\n",
    "    data=data_ocde,\n",
    "    dependent_var='log_PIB_par_tete',\n",
    "    independent_vars=['log_s', 'log_n_g_sigma']\n",
    ")\n",
    "print(regression_summary)"
   ]
  },
  {
   "cell_type": "markdown",
   "metadata": {},
   "source": [
    "<br/>\n",
    "<h2 style=\"font-family: 'Georgia', serif; font-size: 25px; color:rgb(11, 81, 150);\"> <u>Interprétation</u></h2>\n",
    "<br/>\n",
    "<p>\n",
    "<ul style=\"line-height: 1.6; font-family: 'Serial', serif; font-size: 18px;\">\n",
    "<li>Le signe du coefficient du logarithme du taux d'épargne(log_s) est positif. Ce qui signifie que le logarithme du taux d'épargne est positivement corrélé au PIB par tête.Cela est conforme à la théorie du modèle de Solow Swan qui prédit un effet positif du taux d'épargne sur le PIB par tête. De plus, pour chaque augmentation de 1% du taux d'épargne, le PIB par tête augmente en moyenne de 1,06%,toute chose égale à par ailleurs.\n",
    "Le signe du coefficiant du logarithme de la dilution plus dépréciation du capital(log_n_g_sigma) est positif. Ce qui signifie que le logarithme du taux d'épargne est négativement corrélé au PIB par tête. Cela n'est pas conforme à la théorie du modèle de Solow Swan qui prédit un effet négatif du taux de croissance démographique et donc, de la dilution plus dépréciation du capital sur le PIB par tête. De plus, pour chaque augmentation de 1% de la dilution plus dépréciation , le PIB par tete augmente en moyenne de 0,82% environ,toute chose égale à par ailleurs.\n",
    "</li>\n",
    "<br/>\n",
    "<li>Le coefficient du log du taux d'épargne et celui du log de la dillution plus dépéciation du capital (n+g+𝛿) ne sont pas significatifs aux seuils conventionnels car leur p-value > 10%. De plus le signe du coefficient de log(n+g+𝛿) est positif, ce qui n'est pas conforme au modèle.</li>\n",
    "<br/>\n",
    "<li>Enfin, le <b> R<sup>2</sup> </b> de notre regression vaut 0,046. Ce qui signifit que seulement 4,6% de la variabilité du PIB par tête des pays de l'OCDE est expliqué par le Modèle de Solow Swan. Les deux variables inclusent expliquent une part  négligeable de la variabilité du modèle. Une part importante reste inexpliquée. Cela peut être due au fait que le modèle n'inclut pas des variables importantes tel que la recherche et developpement, et l'hétérogénité des pays de l'OCDE, qui peuvent avoir un fort impact sur le PIB des pays devéloppés ou bien aux différentes hypothèses simplificatrices que nous avons fait au début</li>\n",
    "\n",
    "</ul>\n",
    "</p>\n",
    "<br/>"
   ]
  },
  {
   "cell_type": "markdown",
   "metadata": {},
   "source": [
    "\n",
    "<h2 style=\"font-family: 'Georgia', serif; text-align: center; font-size: 20px; color: #3498db;\">Cas de la Base de données data_ua</h2>"
   ]
  },
  {
   "cell_type": "code",
   "execution_count": 37,
   "metadata": {},
   "outputs": [
    {
     "data": {
      "image/png": "[encoded data removed]",
      "text/plain": [
       "<Figure size 640x480 with 2 Axes>"
      ]
     },
     "metadata": {},
     "output_type": "display_data"
    }
   ],
   "source": [
    "correlation_matrix = d.plot_correlation_matrix(\n",
    "    data=data_ua,\n",
    "\n",
    ")"
   ]
  },
  {
   "cell_type": "markdown",
   "metadata": {},
   "source": [
    "<p style=\"line-height: 1.6; font-family: 'Serial', serif; font-size: 18px;\">\n",
    "Les corrélations entre les prédicteurs (log_s et log_n_g_sigma) sont faibles (-0.06). Cela signifie qu'il n'y a pas de problème significatif de multicolinéarité entre les variables explicatives. Nous pouvons donc les utiliser ensemble dans la régression sans ajustements spécifiques.\n",
    "</p>"
   ]
  },
  {
   "cell_type": "markdown",
   "metadata": {},
   "source": [
    "<p style=\"line-height: 1.6; font-family: 'Serial', serif; font-size: 20px;\"><b>\n",
    "Regression sur la base data_ua</b></p>"
   ]
  },
  {
   "cell_type": "code",
   "execution_count": 38,
   "metadata": {},
   "outputs": [
    {
     "name": "stdout",
     "output_type": "stream",
     "text": [
      "                            OLS Regression Results                            \n",
      "==============================================================================\n",
      "Dep. Variable:       log_PIB_par_tete   R-squared:                       0.326\n",
      "Model:                            OLS   Adj. R-squared:                  0.265\n",
      "Method:                 Least Squares   F-statistic:                     5.317\n",
      "Date:                Sun, 29 Dec 2024   Prob (F-statistic):             0.0131\n",
      "Time:                        17:54:08   Log-Likelihood:                -27.393\n",
      "No. Observations:                  25   AIC:                             60.79\n",
      "Df Residuals:                      22   BIC:                             64.44\n",
      "Df Model:                           2                                         \n",
      "Covariance Type:            nonrobust                                         \n",
      "=================================================================================\n",
      "                    coef    std err          t      P>|t|      [0.025      0.975]\n",
      "---------------------------------------------------------------------------------\n",
      "const            -1.6417      4.174     -0.393      0.698     -10.297       7.014\n",
      "log_s             0.7906      0.489      1.618      0.120      -0.223       1.804\n",
      "log_n_g_sigma    -4.2935      1.569     -2.736      0.012      -7.548      -1.039\n",
      "==============================================================================\n",
      "Omnibus:                        1.075   Durbin-Watson:                   1.795\n",
      "Prob(Omnibus):                  0.584   Jarque-Bera (JB):                0.230\n",
      "Skew:                           0.151   Prob(JB):                        0.891\n",
      "Kurtosis:                       3.360   Cond. No.                         93.3\n",
      "==============================================================================\n",
      "\n",
      "Notes:\n",
      "[1] Standard Errors assume that the covariance matrix of the errors is correctly specified.\n"
     ]
    }
   ],
   "source": [
    "regression_summary = d.perform_regression(\n",
    "    data=data_ua,\n",
    "    dependent_var='log_PIB_par_tete',\n",
    "    independent_vars=['log_s', 'log_n_g_sigma']\n",
    ")\n",
    "print(regression_summary)"
   ]
  },
  {
   "cell_type": "markdown",
   "metadata": {},
   "source": [
    "<h2 style=\"font-family: 'Georgia', serif; font-size: 25px; color:rgb(11, 81, 150);\"> <u>Interprétation</u></h2>\n",
    "<br/>\n",
    "<p>\n",
    "<ul style=\"line-height: 1.6; font-family: 'Serial', serif; font-size: 18px;\">\n",
    "<li>Le signe du coefficient du logarithme du taux d'épargne(log_s) est positif. Ce qui signifie que le logarithme du taux d'épargne est positivement corrélé au PIB par tête.Cela est conforme à la théorie du modèle de Solow Swan qui prédit un effet positif du taux d'épargne sur le PIB par tête. De plus, pour chaque augmentation de 1% du taux d'épargne, le PIB par tête augmente en moyenne de 0,775%,toute chose égale à par ailleurs.\n",
    "Le signe du coefficient du logarithme de la dilution plus dépréciation du capital(log_n_g_sigma) est négatif. Ce qui signifie que le logarithme du taux d'épargne est négativement corrélé au PIB par tête. Cela est conforme à la théorie du modèle de Solow Swan qui prédit un effet négatif du taux de croissance démographique et donc, de la dilution plus dépréciation du capital sur le PIB par tête. De plus, pour chaque augmentation de 1% de la dilution plus dépréciation , le PIB par tête diminue en moyenne de -4,31%,toute chose égale à par ailleurs.\n",
    "</li>\n",
    "<br/>\n",
    "<li>Le coefficiant du log du taux d'épargne est n'est pas significatif à 10% car sa p-value  vaut 12,5% > 10%. Par contre le coefficiant du log de la dilution plus dépréciation du capital(n+g+𝛿) est significatif à 5% car sa p-value  vaut 1,2% < 5%.</li>\n",
    "<br/>\n",
    "<li>Enfin, le <b> R<sup>2</sup> </b> de notre regression vaut 0,316. ce qui signifit que 32,7% de la variabilité du PIB par tête est expliqué par le Modèle de Solow Swan. Les deux variables inclusent expliquent une part significative de la variabilité du modèle. Mais, une part non négligeable reste inexpliquée.</li>\n",
    "\n",
    "</ul>\n",
    "</p>\n",
    "<br/>"
   ]
  },
  {
   "cell_type": "markdown",
   "metadata": {},
   "source": [
    "<p style=\"line-height: 1.6; font-family: 'Serial', serif; font-size: 18px;\">\n",
    "En résumé, le modèle de Solow explique mieux la croissance des pays de l'UA que celle des pays de l'OCDE. Cela peut être à certains facteurs comme le niveau de développement. Nous allons effectuer une meilleure analyse en groupant les pays en tuilisant les techniques de clustering afin d'obtenir des groupes plus ou moins homogènes en termes de PIB, population active et formation brute de capital fixe. \n",
    "</p>"
   ]
  },
  {
   "cell_type": "markdown",
   "metadata": {},
   "source": [
    "<h2 style=\"font-family: 'Georgia', serif; text-align: center; font-size: 23px; color: #3498db;\">II.2- <u>Modélisation: Comparaison des résultats sur des clusters</u></h2>"
   ]
  },
  {
   "cell_type": "markdown",
   "metadata": {},
   "source": [
    "<h2 style=\"font-family: 'Georgia', serif; text-align: center; font-size: 23px; color: #3498db;\">II.2.1- <u>Clustering</u></h2>"
   ]
  },
  {
   "cell_type": "markdown",
   "metadata": {},
   "source": [
    "<p style=\"line-height: 1.6; font-family: 'Serial', serif; font-size: 18px;\">\n",
    "Dans cette partie nous effectuons le clustering \n",
    "</p>"
   ]
  },
  {
   "cell_type": "code",
   "execution_count": 82,
   "metadata": {},
   "outputs": [],
   "source": [
    "# Suppresion des colonnes 'Year' et 'Country_Code'\n",
    "df = data.copy()\n",
    "df.drop([\"Year\", \"Country_Code\"], axis = 1, inplace = True)"
   ]
  },
  {
   "cell_type": "markdown",
   "metadata": {},
   "source": [
    "<p style=\"line-height: 1.6; font-family: 'Serial', serif; font-size: 18px;\">\n",
    "Dans notre base nous avons des informations sur nos pays sur plusieurs années alors que nous voulons classer les pays individuellement et non par année, pour cela nous allons aggréger les informations que nous avons en calculant la moyenne de chacune d'elle, à savoir le PIB par habitant moyen, la population moyenne sur ces années. </p>"
   ]
  },
  {
   "cell_type": "code",
   "execution_count": 83,
   "metadata": {},
   "outputs": [
    {
     "data": {
      "text/html": [
       "<div>\n",
       "<style scoped>\n",
       "    .dataframe tbody tr th:only-of-type {\n",
       "        vertical-align: middle;\n",
       "    }\n",
       "\n",
       "    .dataframe tbody tr th {\n",
       "        vertical-align: top;\n",
       "    }\n",
       "\n",
       "    .dataframe thead th {\n",
       "        text-align: right;\n",
       "    }\n",
       "</style>\n",
       "<table border=\"1\" class=\"dataframe\">\n",
       "  <thead>\n",
       "    <tr style=\"text-align: right;\">\n",
       "      <th></th>\n",
       "      <th>Country</th>\n",
       "      <th>PIB_par_travailleur</th>\n",
       "      <th>Capital_par_travailleur</th>\n",
       "      <th>Population_travailleur</th>\n",
       "    </tr>\n",
       "  </thead>\n",
       "  <tbody>\n",
       "    <tr>\n",
       "      <th>0</th>\n",
       "      <td>Albania</td>\n",
       "      <td>4466.587805</td>\n",
       "      <td>1343.749447</td>\n",
       "      <td>1.961030e+06</td>\n",
       "    </tr>\n",
       "    <tr>\n",
       "      <th>1</th>\n",
       "      <td>Algeria</td>\n",
       "      <td>6461.213910</td>\n",
       "      <td>2090.703948</td>\n",
       "      <td>2.212477e+07</td>\n",
       "    </tr>\n",
       "    <tr>\n",
       "      <th>2</th>\n",
       "      <td>Argentina</td>\n",
       "      <td>18397.467146</td>\n",
       "      <td>2647.382723</td>\n",
       "      <td>2.513734e+07</td>\n",
       "    </tr>\n",
       "    <tr>\n",
       "      <th>3</th>\n",
       "      <td>Armenia</td>\n",
       "      <td>3720.496490</td>\n",
       "      <td>935.062473</td>\n",
       "      <td>2.088304e+06</td>\n",
       "    </tr>\n",
       "    <tr>\n",
       "      <th>4</th>\n",
       "      <td>Australia</td>\n",
       "      <td>75080.008461</td>\n",
       "      <td>17748.077679</td>\n",
       "      <td>1.411250e+07</td>\n",
       "    </tr>\n",
       "  </tbody>\n",
       "</table>\n",
       "</div>"
      ],
      "text/plain": [
       "     Country  PIB_par_travailleur  Capital_par_travailleur  \\\n",
       "0    Albania          4466.587805              1343.749447   \n",
       "1    Algeria          6461.213910              2090.703948   \n",
       "2  Argentina         18397.467146              2647.382723   \n",
       "3    Armenia          3720.496490               935.062473   \n",
       "4  Australia         75080.008461             17748.077679   \n",
       "\n",
       "   Population_travailleur  \n",
       "0            1.961030e+06  \n",
       "1            2.212477e+07  \n",
       "2            2.513734e+07  \n",
       "3            2.088304e+06  \n",
       "4            1.411250e+07  "
      ]
     },
     "execution_count": 83,
     "metadata": {},
     "output_type": "execute_result"
    }
   ],
   "source": [
    "df = df.groupby(\"Country\").mean().reset_index()\n",
    "df.head()"
   ]
  },
  {
   "cell_type": "markdown",
   "metadata": {},
   "source": [
    "<p style=\"line-height: 1.6; font-family: 'Serial', serif; font-size: 18px;\">\n",
    "Pour le clustering nous allons utiliser uniquement le modèle du KMeans qui est le plus simple. </p>"
   ]
  },
  {
   "cell_type": "code",
   "execution_count": 84,
   "metadata": {},
   "outputs": [],
   "source": [
    "# Normalisation des données avec MinMaxScaler\n",
    "\n",
    "\n",
    "# Identification des colonnes numériques\n",
    "numerical_cols = df.columns[df.dtypes == float].tolist()\n",
    "\n",
    "# Création d'un column ColumnTransformer pour appliquer MinMaxScaler uniquement aux colonnes numériques\n",
    "preprocessor = d.Pipeline([\n",
    "    ('features_scaling', d.ColumnTransformer(\n",
    "        transformers=[('num', d.MinMaxScaler(), numerical_cols)],\n",
    "        remainder='drop'  # Conserve les colonnes non numériques inchangées\n",
    "    ))\n",
    "])\n",
    "\n",
    "# Application du transformateur aux données\n",
    "data_scaled = preprocessor.fit_transform(df)"
   ]
  },
  {
   "cell_type": "code",
   "execution_count": null,
   "metadata": {},
   "outputs": [
    {
     "data": {
      "text/html": [
       "<style>#sk-container-id-2 {\n",
       "  /* Definition of color scheme common for light and dark mode */\n",
       "  --sklearn-color-text: #000;\n",
       "  --sklearn-color-text-muted: #666;\n",
       "  --sklearn-color-line: gray;\n",
       "  /* Definition of color scheme for unfitted estimators */\n",
       "  --sklearn-color-unfitted-level-0: #fff5e6;\n",
       "  --sklearn-color-unfitted-level-1: #f6e4d2;\n",
       "  --sklearn-color-unfitted-level-2: #ffe0b3;\n",
       "  --sklearn-color-unfitted-level-3: chocolate;\n",
       "  /* Definition of color scheme for fitted estimators */\n",
       "  --sklearn-color-fitted-level-0: #f0f8ff;\n",
       "  --sklearn-color-fitted-level-1: #d4ebff;\n",
       "  --sklearn-color-fitted-level-2: #b3dbfd;\n",
       "  --sklearn-color-fitted-level-3: cornflowerblue;\n",
       "\n",
       "  /* Specific color for light theme */\n",
       "  --sklearn-color-text-on-default-background: var(--sg-text-color, var(--theme-code-foreground, var(--jp-content-font-color1, black)));\n",
       "  --sklearn-color-background: var(--sg-background-color, var(--theme-background, var(--jp-layout-color0, white)));\n",
       "  --sklearn-color-border-box: var(--sg-text-color, var(--theme-code-foreground, var(--jp-content-font-color1, black)));\n",
       "  --sklearn-color-icon: #696969;\n",
       "\n",
       "  @media (prefers-color-scheme: dark) {\n",
       "    /* Redefinition of color scheme for dark theme */\n",
       "    --sklearn-color-text-on-default-background: var(--sg-text-color, var(--theme-code-foreground, var(--jp-content-font-color1, white)));\n",
       "    --sklearn-color-background: var(--sg-background-color, var(--theme-background, var(--jp-layout-color0, #111)));\n",
       "    --sklearn-color-border-box: var(--sg-text-color, var(--theme-code-foreground, var(--jp-content-font-color1, white)));\n",
       "    --sklearn-color-icon: #878787;\n",
       "  }\n",
       "}\n",
       "\n",
       "#sk-container-id-2 {\n",
       "  color: var(--sklearn-color-text);\n",
       "}\n",
       "\n",
       "#sk-container-id-2 pre {\n",
       "  padding: 0;\n",
       "}\n",
       "\n",
       "#sk-container-id-2 input.sk-hidden--visually {\n",
       "  border: 0;\n",
       "  clip: rect(1px 1px 1px 1px);\n",
       "  clip: rect(1px, 1px, 1px, 1px);\n",
       "  height: 1px;\n",
       "  margin: -1px;\n",
       "  overflow: hidden;\n",
       "  padding: 0;\n",
       "  position: absolute;\n",
       "  width: 1px;\n",
       "}\n",
       "\n",
       "#sk-container-id-2 div.sk-dashed-wrapped {\n",
       "  border: 1px dashed var(--sklearn-color-line);\n",
       "  margin: 0 0.4em 0.5em 0.4em;\n",
       "  box-sizing: border-box;\n",
       "  padding-bottom: 0.4em;\n",
       "  background-color: var(--sklearn-color-background);\n",
       "}\n",
       "\n",
       "#sk-container-id-2 div.sk-container {\n",
       "  /* jupyter's `normalize.less` sets `[hidden] { display: none; }`\n",
       "     but bootstrap.min.css set `[hidden] { display: none !important; }`\n",
       "     so we also need the `!important` here to be able to override the\n",
       "     default hidden behavior on the sphinx rendered scikit-learn.org.\n",
       "     See: https://github.com/scikit-learn/scikit-learn/issues/21755 */\n",
       "  display: inline-block !important;\n",
       "  position: relative;\n",
       "}\n",
       "\n",
       "#sk-container-id-2 div.sk-text-repr-fallback {\n",
       "  display: none;\n",
       "}\n",
       "\n",
       "div.sk-parallel-item,\n",
       "div.sk-serial,\n",
       "div.sk-item {\n",
       "  /* draw centered vertical line to link estimators */\n",
       "  background-image: linear-gradient(var(--sklearn-color-text-on-default-background), var(--sklearn-color-text-on-default-background));\n",
       "  background-size: 2px 100%;\n",
       "  background-repeat: no-repeat;\n",
       "  background-position: center center;\n",
       "}\n",
       "\n",
       "/* Parallel-specific style estimator block */\n",
       "\n",
       "#sk-container-id-2 div.sk-parallel-item::after {\n",
       "  content: \"\";\n",
       "  width: 100%;\n",
       "  border-bottom: 2px solid var(--sklearn-color-text-on-default-background);\n",
       "  flex-grow: 1;\n",
       "}\n",
       "\n",
       "#sk-container-id-2 div.sk-parallel {\n",
       "  display: flex;\n",
       "  align-items: stretch;\n",
       "  justify-content: center;\n",
       "  background-color: var(--sklearn-color-background);\n",
       "  position: relative;\n",
       "}\n",
       "\n",
       "#sk-container-id-2 div.sk-parallel-item {\n",
       "  display: flex;\n",
       "  flex-direction: column;\n",
       "}\n",
       "\n",
       "#sk-container-id-2 div.sk-parallel-item:first-child::after {\n",
       "  align-self: flex-end;\n",
       "  width: 50%;\n",
       "}\n",
       "\n",
       "#sk-container-id-2 div.sk-parallel-item:last-child::after {\n",
       "  align-self: flex-start;\n",
       "  width: 50%;\n",
       "}\n",
       "\n",
       "#sk-container-id-2 div.sk-parallel-item:only-child::after {\n",
       "  width: 0;\n",
       "}\n",
       "\n",
       "/* Serial-specific style estimator block */\n",
       "\n",
       "#sk-container-id-2 div.sk-serial {\n",
       "  display: flex;\n",
       "  flex-direction: column;\n",
       "  align-items: center;\n",
       "  background-color: var(--sklearn-color-background);\n",
       "  padding-right: 1em;\n",
       "  padding-left: 1em;\n",
       "}\n",
       "\n",
       "\n",
       "/* Toggleable style: style used for estimator/Pipeline/ColumnTransformer box that is\n",
       "clickable and can be expanded/collapsed.\n",
       "- Pipeline and ColumnTransformer use this feature and define the default style\n",
       "- Estimators will overwrite some part of the style using the `sk-estimator` class\n",
       "*/\n",
       "\n",
       "/* Pipeline and ColumnTransformer style (default) */\n",
       "\n",
       "#sk-container-id-2 div.sk-toggleable {\n",
       "  /* Default theme specific background. It is overwritten whether we have a\n",
       "  specific estimator or a Pipeline/ColumnTransformer */\n",
       "  background-color: var(--sklearn-color-background);\n",
       "}\n",
       "\n",
       "/* Toggleable label */\n",
       "#sk-container-id-2 label.sk-toggleable__label {\n",
       "  cursor: pointer;\n",
       "  display: flex;\n",
       "  width: 100%;\n",
       "  margin-bottom: 0;\n",
       "  padding: 0.5em;\n",
       "  box-sizing: border-box;\n",
       "  text-align: center;\n",
       "  align-items: start;\n",
       "  justify-content: space-between;\n",
       "  gap: 0.5em;\n",
       "}\n",
       "\n",
       "#sk-container-id-2 label.sk-toggleable__label .caption {\n",
       "  font-size: 0.6rem;\n",
       "  font-weight: lighter;\n",
       "  color: var(--sklearn-color-text-muted);\n",
       "}\n",
       "\n",
       "#sk-container-id-2 label.sk-toggleable__label-arrow:before {\n",
       "  /* Arrow on the left of the label */\n",
       "  content: \"▸\";\n",
       "  float: left;\n",
       "  margin-right: 0.25em;\n",
       "  color: var(--sklearn-color-icon);\n",
       "}\n",
       "\n",
       "#sk-container-id-2 label.sk-toggleable__label-arrow:hover:before {\n",
       "  color: var(--sklearn-color-text);\n",
       "}\n",
       "\n",
       "/* Toggleable content - dropdown */\n",
       "\n",
       "#sk-container-id-2 div.sk-toggleable__content {\n",
       "  max-height: 0;\n",
       "  max-width: 0;\n",
       "  overflow: hidden;\n",
       "  text-align: left;\n",
       "  /* unfitted */\n",
       "  background-color: var(--sklearn-color-unfitted-level-0);\n",
       "}\n",
       "\n",
       "#sk-container-id-2 div.sk-toggleable__content.fitted {\n",
       "  /* fitted */\n",
       "  background-color: var(--sklearn-color-fitted-level-0);\n",
       "}\n",
       "\n",
       "#sk-container-id-2 div.sk-toggleable__content pre {\n",
       "  margin: 0.2em;\n",
       "  border-radius: 0.25em;\n",
       "  color: var(--sklearn-color-text);\n",
       "  /* unfitted */\n",
       "  background-color: var(--sklearn-color-unfitted-level-0);\n",
       "}\n",
       "\n",
       "#sk-container-id-2 div.sk-toggleable__content.fitted pre {\n",
       "  /* unfitted */\n",
       "  background-color: var(--sklearn-color-fitted-level-0);\n",
       "}\n",
       "\n",
       "#sk-container-id-2 input.sk-toggleable__control:checked~div.sk-toggleable__content {\n",
       "  /* Expand drop-down */\n",
       "  max-height: 200px;\n",
       "  max-width: 100%;\n",
       "  overflow: auto;\n",
       "}\n",
       "\n",
       "#sk-container-id-2 input.sk-toggleable__control:checked~label.sk-toggleable__label-arrow:before {\n",
       "  content: \"▾\";\n",
       "}\n",
       "\n",
       "/* Pipeline/ColumnTransformer-specific style */\n",
       "\n",
       "#sk-container-id-2 div.sk-label input.sk-toggleable__control:checked~label.sk-toggleable__label {\n",
       "  color: var(--sklearn-color-text);\n",
       "  background-color: var(--sklearn-color-unfitted-level-2);\n",
       "}\n",
       "\n",
       "#sk-container-id-2 div.sk-label.fitted input.sk-toggleable__control:checked~label.sk-toggleable__label {\n",
       "  background-color: var(--sklearn-color-fitted-level-2);\n",
       "}\n",
       "\n",
       "/* Estimator-specific style */\n",
       "\n",
       "/* Colorize estimator box */\n",
       "#sk-container-id-2 div.sk-estimator input.sk-toggleable__control:checked~label.sk-toggleable__label {\n",
       "  /* unfitted */\n",
       "  background-color: var(--sklearn-color-unfitted-level-2);\n",
       "}\n",
       "\n",
       "#sk-container-id-2 div.sk-estimator.fitted input.sk-toggleable__control:checked~label.sk-toggleable__label {\n",
       "  /* fitted */\n",
       "  background-color: var(--sklearn-color-fitted-level-2);\n",
       "}\n",
       "\n",
       "#sk-container-id-2 div.sk-label label.sk-toggleable__label,\n",
       "#sk-container-id-2 div.sk-label label {\n",
       "  /* The background is the default theme color */\n",
       "  color: var(--sklearn-color-text-on-default-background);\n",
       "}\n",
       "\n",
       "/* On hover, darken the color of the background */\n",
       "#sk-container-id-2 div.sk-label:hover label.sk-toggleable__label {\n",
       "  color: var(--sklearn-color-text);\n",
       "  background-color: var(--sklearn-color-unfitted-level-2);\n",
       "}\n",
       "\n",
       "/* Label box, darken color on hover, fitted */\n",
       "#sk-container-id-2 div.sk-label.fitted:hover label.sk-toggleable__label.fitted {\n",
       "  color: var(--sklearn-color-text);\n",
       "  background-color: var(--sklearn-color-fitted-level-2);\n",
       "}\n",
       "\n",
       "/* Estimator label */\n",
       "\n",
       "#sk-container-id-2 div.sk-label label {\n",
       "  font-family: monospace;\n",
       "  font-weight: bold;\n",
       "  display: inline-block;\n",
       "  line-height: 1.2em;\n",
       "}\n",
       "\n",
       "#sk-container-id-2 div.sk-label-container {\n",
       "  text-align: center;\n",
       "}\n",
       "\n",
       "/* Estimator-specific */\n",
       "#sk-container-id-2 div.sk-estimator {\n",
       "  font-family: monospace;\n",
       "  border: 1px dotted var(--sklearn-color-border-box);\n",
       "  border-radius: 0.25em;\n",
       "  box-sizing: border-box;\n",
       "  margin-bottom: 0.5em;\n",
       "  /* unfitted */\n",
       "  background-color: var(--sklearn-color-unfitted-level-0);\n",
       "}\n",
       "\n",
       "#sk-container-id-2 div.sk-estimator.fitted {\n",
       "  /* fitted */\n",
       "  background-color: var(--sklearn-color-fitted-level-0);\n",
       "}\n",
       "\n",
       "/* on hover */\n",
       "#sk-container-id-2 div.sk-estimator:hover {\n",
       "  /* unfitted */\n",
       "  background-color: var(--sklearn-color-unfitted-level-2);\n",
       "}\n",
       "\n",
       "#sk-container-id-2 div.sk-estimator.fitted:hover {\n",
       "  /* fitted */\n",
       "  background-color: var(--sklearn-color-fitted-level-2);\n",
       "}\n",
       "\n",
       "/* Specification for estimator info (e.g. \"i\" and \"?\") */\n",
       "\n",
       "/* Common style for \"i\" and \"?\" */\n",
       "\n",
       ".sk-estimator-doc-link,\n",
       "a:link.sk-estimator-doc-link,\n",
       "a:visited.sk-estimator-doc-link {\n",
       "  float: right;\n",
       "  font-size: smaller;\n",
       "  line-height: 1em;\n",
       "  font-family: monospace;\n",
       "  background-color: var(--sklearn-color-background);\n",
       "  border-radius: 1em;\n",
       "  height: 1em;\n",
       "  width: 1em;\n",
       "  text-decoration: none !important;\n",
       "  margin-left: 0.5em;\n",
       "  text-align: center;\n",
       "  /* unfitted */\n",
       "  border: var(--sklearn-color-unfitted-level-1) 1pt solid;\n",
       "  color: var(--sklearn-color-unfitted-level-1);\n",
       "}\n",
       "\n",
       ".sk-estimator-doc-link.fitted,\n",
       "a:link.sk-estimator-doc-link.fitted,\n",
       "a:visited.sk-estimator-doc-link.fitted {\n",
       "  /* fitted */\n",
       "  border: var(--sklearn-color-fitted-level-1) 1pt solid;\n",
       "  color: var(--sklearn-color-fitted-level-1);\n",
       "}\n",
       "\n",
       "/* On hover */\n",
       "div.sk-estimator:hover .sk-estimator-doc-link:hover,\n",
       ".sk-estimator-doc-link:hover,\n",
       "div.sk-label-container:hover .sk-estimator-doc-link:hover,\n",
       ".sk-estimator-doc-link:hover {\n",
       "  /* unfitted */\n",
       "  background-color: var(--sklearn-color-unfitted-level-3);\n",
       "  color: var(--sklearn-color-background);\n",
       "  text-decoration: none;\n",
       "}\n",
       "\n",
       "div.sk-estimator.fitted:hover .sk-estimator-doc-link.fitted:hover,\n",
       ".sk-estimator-doc-link.fitted:hover,\n",
       "div.sk-label-container:hover .sk-estimator-doc-link.fitted:hover,\n",
       ".sk-estimator-doc-link.fitted:hover {\n",
       "  /* fitted */\n",
       "  background-color: var(--sklearn-color-fitted-level-3);\n",
       "  color: var(--sklearn-color-background);\n",
       "  text-decoration: none;\n",
       "}\n",
       "\n",
       "/* Span, style for the box shown on hovering the info icon */\n",
       ".sk-estimator-doc-link span {\n",
       "  display: none;\n",
       "  z-index: 9999;\n",
       "  position: relative;\n",
       "  font-weight: normal;\n",
       "  right: .2ex;\n",
       "  padding: .5ex;\n",
       "  margin: .5ex;\n",
       "  width: min-content;\n",
       "  min-width: 20ex;\n",
       "  max-width: 50ex;\n",
       "  color: var(--sklearn-color-text);\n",
       "  box-shadow: 2pt 2pt 4pt #999;\n",
       "  /* unfitted */\n",
       "  background: var(--sklearn-color-unfitted-level-0);\n",
       "  border: .5pt solid var(--sklearn-color-unfitted-level-3);\n",
       "}\n",
       "\n",
       ".sk-estimator-doc-link.fitted span {\n",
       "  /* fitted */\n",
       "  background: var(--sklearn-color-fitted-level-0);\n",
       "  border: var(--sklearn-color-fitted-level-3);\n",
       "}\n",
       "\n",
       ".sk-estimator-doc-link:hover span {\n",
       "  display: block;\n",
       "}\n",
       "\n",
       "/* \"?\"-specific style due to the `<a>` HTML tag */\n",
       "\n",
       "#sk-container-id-2 a.estimator_doc_link {\n",
       "  float: right;\n",
       "  font-size: 1rem;\n",
       "  line-height: 1em;\n",
       "  font-family: monospace;\n",
       "  background-color: var(--sklearn-color-background);\n",
       "  border-radius: 1rem;\n",
       "  height: 1rem;\n",
       "  width: 1rem;\n",
       "  text-decoration: none;\n",
       "  /* unfitted */\n",
       "  color: var(--sklearn-color-unfitted-level-1);\n",
       "  border: var(--sklearn-color-unfitted-level-1) 1pt solid;\n",
       "}\n",
       "\n",
       "#sk-container-id-2 a.estimator_doc_link.fitted {\n",
       "  /* fitted */\n",
       "  border: var(--sklearn-color-fitted-level-1) 1pt solid;\n",
       "  color: var(--sklearn-color-fitted-level-1);\n",
       "}\n",
       "\n",
       "/* On hover */\n",
       "#sk-container-id-2 a.estimator_doc_link:hover {\n",
       "  /* unfitted */\n",
       "  background-color: var(--sklearn-color-unfitted-level-3);\n",
       "  color: var(--sklearn-color-background);\n",
       "  text-decoration: none;\n",
       "}\n",
       "\n",
       "#sk-container-id-2 a.estimator_doc_link.fitted:hover {\n",
       "  /* fitted */\n",
       "  background-color: var(--sklearn-color-fitted-level-3);\n",
       "}\n",
       "</style><div id=\"sk-container-id-2\" class=\"sk-top-container\"><div class=\"sk-text-repr-fallback\"><pre>Pipeline(steps=[(&#x27;preprocessor&#x27;,\n",
       "                 Pipeline(steps=[(&#x27;features_scaling&#x27;,\n",
       "                                  ColumnTransformer(transformers=[(&#x27;num&#x27;,\n",
       "                                                                   MinMaxScaler(),\n",
       "                                                                   [&#x27;PIB_par_travailleur&#x27;,\n",
       "                                                                    &#x27;Capital_par_travailleur&#x27;,\n",
       "                                                                    &#x27;Population_travailleur&#x27;])]))])),\n",
       "                (&#x27;clusterer&#x27;, KMeans())])</pre><b>In a Jupyter environment, please rerun this cell to show the HTML representation or trust the notebook. <br />On GitHub, the HTML representation is unable to render, please try loading this page with nbviewer.org.</b></div><div class=\"sk-container\" hidden><div class=\"sk-item sk-dashed-wrapped\"><div class=\"sk-label-container\"><div class=\"sk-label  sk-toggleable\"><input class=\"sk-toggleable__control sk-hidden--visually\" id=\"sk-estimator-id-7\" type=\"checkbox\" ><label for=\"sk-estimator-id-7\" class=\"sk-toggleable__label  sk-toggleable__label-arrow\"><div><div>Pipeline</div></div><div><a class=\"sk-estimator-doc-link \" rel=\"noreferrer\" target=\"_blank\" href=\"https://scikit-learn.org/1.6/modules/generated/sklearn.pipeline.Pipeline.html\">?<span>Documentation for Pipeline</span></a><span class=\"sk-estimator-doc-link \">i<span>Not fitted</span></span></div></label><div class=\"sk-toggleable__content \"><pre>Pipeline(steps=[(&#x27;preprocessor&#x27;,\n",
       "                 Pipeline(steps=[(&#x27;features_scaling&#x27;,\n",
       "                                  ColumnTransformer(transformers=[(&#x27;num&#x27;,\n",
       "                                                                   MinMaxScaler(),\n",
       "                                                                   [&#x27;PIB_par_travailleur&#x27;,\n",
       "                                                                    &#x27;Capital_par_travailleur&#x27;,\n",
       "                                                                    &#x27;Population_travailleur&#x27;])]))])),\n",
       "                (&#x27;clusterer&#x27;, KMeans())])</pre></div> </div></div><div class=\"sk-serial\"><div class=\"sk-item\"><div class=\"sk-label-container\"><div class=\"sk-label  sk-toggleable\"><input class=\"sk-toggleable__control sk-hidden--visually\" id=\"sk-estimator-id-8\" type=\"checkbox\" ><label for=\"sk-estimator-id-8\" class=\"sk-toggleable__label  sk-toggleable__label-arrow\"><div><div>preprocessor: Pipeline</div></div><div><a class=\"sk-estimator-doc-link \" rel=\"noreferrer\" target=\"_blank\" href=\"https://scikit-learn.org/1.6/modules/generated/sklearn.pipeline.Pipeline.html\">?<span>Documentation for preprocessor: Pipeline</span></a></div></label><div class=\"sk-toggleable__content \"><pre>Pipeline(steps=[(&#x27;features_scaling&#x27;,\n",
       "                 ColumnTransformer(transformers=[(&#x27;num&#x27;, MinMaxScaler(),\n",
       "                                                  [&#x27;PIB_par_travailleur&#x27;,\n",
       "                                                   &#x27;Capital_par_travailleur&#x27;,\n",
       "                                                   &#x27;Population_travailleur&#x27;])]))])</pre></div> </div></div><div class=\"sk-serial\"><div class=\"sk-item sk-dashed-wrapped\"><div class=\"sk-label-container\"><div class=\"sk-label  sk-toggleable\"><input class=\"sk-toggleable__control sk-hidden--visually\" id=\"sk-estimator-id-9\" type=\"checkbox\" ><label for=\"sk-estimator-id-9\" class=\"sk-toggleable__label  sk-toggleable__label-arrow\"><div><div>features_scaling: ColumnTransformer</div></div><div><a class=\"sk-estimator-doc-link \" rel=\"noreferrer\" target=\"_blank\" href=\"https://scikit-learn.org/1.6/modules/generated/sklearn.compose.ColumnTransformer.html\">?<span>Documentation for features_scaling: ColumnTransformer</span></a></div></label><div class=\"sk-toggleable__content \"><pre>ColumnTransformer(transformers=[(&#x27;num&#x27;, MinMaxScaler(),\n",
       "                                 [&#x27;PIB_par_travailleur&#x27;,\n",
       "                                  &#x27;Capital_par_travailleur&#x27;,\n",
       "                                  &#x27;Population_travailleur&#x27;])])</pre></div> </div></div><div class=\"sk-parallel\"><div class=\"sk-parallel-item\"><div class=\"sk-item\"><div class=\"sk-label-container\"><div class=\"sk-label  sk-toggleable\"><input class=\"sk-toggleable__control sk-hidden--visually\" id=\"sk-estimator-id-10\" type=\"checkbox\" ><label for=\"sk-estimator-id-10\" class=\"sk-toggleable__label  sk-toggleable__label-arrow\"><div><div>num</div></div></label><div class=\"sk-toggleable__content \"><pre>[&#x27;PIB_par_travailleur&#x27;, &#x27;Capital_par_travailleur&#x27;, &#x27;Population_travailleur&#x27;]</pre></div> </div></div><div class=\"sk-serial\"><div class=\"sk-item\"><div class=\"sk-estimator  sk-toggleable\"><input class=\"sk-toggleable__control sk-hidden--visually\" id=\"sk-estimator-id-11\" type=\"checkbox\" ><label for=\"sk-estimator-id-11\" class=\"sk-toggleable__label  sk-toggleable__label-arrow\"><div><div>MinMaxScaler</div></div><div><a class=\"sk-estimator-doc-link \" rel=\"noreferrer\" target=\"_blank\" href=\"https://scikit-learn.org/1.6/modules/generated/sklearn.preprocessing.MinMaxScaler.html\">?<span>Documentation for MinMaxScaler</span></a></div></label><div class=\"sk-toggleable__content \"><pre>MinMaxScaler()</pre></div> </div></div></div></div></div></div></div></div></div><div class=\"sk-item\"><div class=\"sk-estimator  sk-toggleable\"><input class=\"sk-toggleable__control sk-hidden--visually\" id=\"sk-estimator-id-12\" type=\"checkbox\" ><label for=\"sk-estimator-id-12\" class=\"sk-toggleable__label  sk-toggleable__label-arrow\"><div><div>KMeans</div></div><div><a class=\"sk-estimator-doc-link \" rel=\"noreferrer\" target=\"_blank\" href=\"https://scikit-learn.org/1.6/modules/generated/sklearn.cluster.KMeans.html\">?<span>Documentation for KMeans</span></a></div></label><div class=\"sk-toggleable__content \"><pre>KMeans()</pre></div> </div></div></div></div></div></div>"
      ],
      "text/plain": [
       "Pipeline(steps=[('preprocessor',\n",
       "                 Pipeline(steps=[('features_scaling',\n",
       "                                  ColumnTransformer(transformers=[('num',\n",
       "                                                                   MinMaxScaler(),\n",
       "                                                                   ['PIB_par_travailleur',\n",
       "                                                                    'Capital_par_travailleur',\n",
       "                                                                    'Population_travailleur'])]))])),\n",
       "                ('clusterer', KMeans())])"
      ]
     },
     "execution_count": 85,
     "metadata": {},
     "output_type": "execute_result"
    }
   ],
   "source": [
    "# Création du pipeline kmeans\n",
    "kmeans_pipe = d.Pipeline([\n",
    "    ('preprocessor', preprocessor),\n",
    "    ('clusterer', d.KMeans())\n",
    "])\n",
    "kmeans_pipe"
   ]
  },
  {
   "cell_type": "markdown",
   "metadata": {},
   "source": [
    "<p style=\"line-height: 1.6; font-family: 'Serial', serif; font-size: 18px;\"erial', serif; font-size: 18px;\">\n",
    "La fonction display_kmeans_results ci-dessous entraîne un pipeline KMeans sur un jeu de données, mesure le temps d'entraînement, et collecte des métriques de performance clés telles que la méthode d'initialisation, le nombre d'itérations jusqu'à la convergence, l'inertie et le score silhouette. Elle transforme les données, prédit les labels des clusters, et affiche ces résultats de manière formatée pour évaluer la qualité et l'efficacité du clustering réalisé. </p>"
   ]
  },
  {
   "cell_type": "code",
   "execution_count": 86,
   "metadata": {},
   "outputs": [
    {
     "name": "stdout",
     "output_type": "stream",
     "text": [
      "init\t\ttemps\tnb_iter\tinertie\tsilhouette\n",
      "k-means++\t0.013s\t5\t0\t0.481\n",
      "\n",
      "Assignations de clusters :\n",
      "                 Country  Cluster\n",
      "0               Albania        0\n",
      "1               Algeria        0\n",
      "2             Argentina        3\n",
      "3               Armenia        0\n",
      "4             Australia        1\n",
      "..                  ...      ...\n",
      "112             Uruguay        3\n",
      "113          Uzbekistan        0\n",
      "114            Viet Nam        0\n",
      "115  West Bank and Gaza        0\n",
      "116         Yemen, Rep.        0\n",
      "\n",
      "[117 rows x 2 columns]\n"
     ]
    }
   ],
   "source": [
    "# Application de la fonction en passant à la fois les données numériques et le DataFrame d'origine\n",
    "d.afficher_resultats_kmeans(kmeans_pipe, df[numerical_cols], df)\n"
   ]
  },
  {
   "cell_type": "markdown",
   "metadata": {},
   "source": [
    "<p style=\"line-height: 1.6; font-family: 'Serial', serif; font-size: 18px;\"erial', serif; font-size: 18px;\">\n",
    "Nous allons utiliser la méthode des silhouettes pour déterminer le nombre optimal de clusters </p>"
   ]
  },
  {
   "cell_type": "code",
   "execution_count": null,
   "metadata": {},
   "outputs": [
    {
     "data": {
      "image/png": "[encoded data removed]",
      "text/plain": [
       "<Figure size 800x550 with 1 Axes>"
      ]
     },
     "metadata": {},
     "output_type": "display_data"
    },
    {
     "data": {
      "image/png": "[encoded data removed]",
      "text/plain": [
       "<Figure size 800x550 with 1 Axes>"
      ]
     },
     "metadata": {},
     "output_type": "display_data"
    },
    {
     "data": {
      "image/png": "[encoded data removed]",
      "text/plain": [
       "<Figure size 800x550 with 1 Axes>"
      ]
     },
     "metadata": {},
     "output_type": "display_data"
    },
    {
     "data": {
      "image/png": "[encoded data removed]",
      "text/plain": [
       "<Figure size 800x550 with 1 Axes>"
      ]
     },
     "metadata": {},
     "output_type": "display_data"
    },
    {
     "data": {
      "image/png": "[encoded data removed]",
      "text/plain": [
       "<Figure size 800x550 with 1 Axes>"
      ]
     },
     "metadata": {},
     "output_type": "display_data"
    },
    {
     "data": {
      "image/png": "[encoded data removed]",
      "text/plain": [
       "<Figure size 800x550 with 1 Axes>"
      ]
     },
     "metadata": {},
     "output_type": "display_data"
    },
    {
     "data": {
      "image/png": "[encoded data removed]",
      "text/plain": [
       "<Figure size 800x550 with 1 Axes>"
      ]
     },
     "metadata": {},
     "output_type": "display_data"
    },
    {
     "name": "stdout",
     "output_type": "stream",
     "text": [
      "4 clusters - Average silhouette score : 0.6387788631315948\n",
      "5 clusters - Average silhouette score : 0.6556141735739183\n",
      "6 clusters - Average silhouette score : 0.4356867059259211\n",
      "7 clusters - Average silhouette score : 0.5043463305816409\n",
      "8 clusters - Average silhouette score : 0.4846228761885236\n",
      "9 clusters - Average silhouette score : 0.5036293078592201\n",
      "10 clusters - Average silhouette score : 0.4120841878396098\n"
     ]
    }
   ],
   "source": [
    "# Calcule des scores pour l'analyse des silhouettes\n",
    "\n",
    "scores = d.silouhette_analysis(kmeans_pipe, df, (4, 11))"
   ]
  },
  {
   "cell_type": "code",
   "execution_count": 121,
   "metadata": {},
   "outputs": [
    {
     "name": "stdout",
     "output_type": "stream",
     "text": [
      "Best average silhouette score : 5 clusters (0.6556)\n"
     ]
    }
   ],
   "source": [
    "# Nbr optimal de cluster qui donne le meilleur score de silhouette\n",
    "\n",
    "best_sil_score = max(scores.items(), key=d.operator.itemgetter(1))[0]\n",
    "print('Best average silhouette score : {} clusters ({:.4})'.format(best_sil_score, scores[best_sil_score]))"
   ]
  },
  {
   "cell_type": "markdown",
   "metadata": {},
   "source": [
    "<p style=\"line-height: 1.6; font-family: 'Serial', serif; font-size: 18px;\">\n",
    "La méthode de silhouette nous conduit à choisir un nombre de cluster égal à 5 car ayant le plus grand score.</p>"
   ]
  },
  {
   "cell_type": "code",
   "execution_count": 89,
   "metadata": {},
   "outputs": [],
   "source": [
    "# Application du nombre de clusters au pipeline\n",
    "kmeans_pipe['clusterer'].n_clusters = 5"
   ]
  },
  {
   "cell_type": "code",
   "execution_count": 90,
   "metadata": {},
   "outputs": [],
   "source": [
    "# Visualisation\n",
    "\n",
    "tsne_params = {\n",
    "    'n_components': 2,\n",
    "    'init': 'pca',\n",
    "    'perplexity': 5,\n",
    "    'n_iter': 1000,\n",
    "    'n_iter_without_progress': 300,\n",
    "    'learning_rate': 200.,\n",
    "    'n_jobs': -1,\n",
    "    'random_state': 0\n",
    "}\n"
   ]
  },
  {
   "cell_type": "code",
   "execution_count": 91,
   "metadata": {},
   "outputs": [
    {
     "name": "stderr",
     "output_type": "stream",
     "text": [
      "c:\\Users\\eamewouame\\AppData\\Local\\Programs\\Python\\Python313\\Lib\\site-packages\\sklearn\\manifold\\_t_sne.py:1164: FutureWarning:\n",
      "\n",
      "'n_iter' was renamed to 'max_iter' in version 1.5 and will be removed in 1.7.\n",
      "\n"
     ]
    },
    {
     "data": {
      "image/png": "[encoded data removed]",
      "text/plain": [
       "<Figure size 1500x1200 with 1 Axes>"
      ]
     },
     "metadata": {},
     "output_type": "display_data"
    }
   ],
   "source": [
    "# Clustering et visualisation\n",
    "kmeans_pipe.fit(df)\n",
    "d.tsne_visualization(kmeans_pipe['preprocessor'].transform(df), kmeans_pipe['clusterer'].labels_, tsne_params)"
   ]
  },
  {
   "cell_type": "markdown",
   "metadata": {},
   "source": [
    "<h4 style=\"text-align:justify;color:red;font-size:20px;font-family:Georgia\"> Interprêtation des clusters</h4>"
   ]
  },
  {
   "cell_type": "code",
   "execution_count": 124,
   "metadata": {},
   "outputs": [
    {
     "data": {
      "text/html": [
       "<div>\n",
       "<style scoped>\n",
       "    .dataframe tbody tr th:only-of-type {\n",
       "        vertical-align: middle;\n",
       "    }\n",
       "\n",
       "    .dataframe tbody tr th {\n",
       "        vertical-align: top;\n",
       "    }\n",
       "\n",
       "    .dataframe thead th {\n",
       "        text-align: right;\n",
       "    }\n",
       "</style>\n",
       "<table border=\"1\" class=\"dataframe\">\n",
       "  <thead>\n",
       "    <tr style=\"text-align: right;\">\n",
       "      <th></th>\n",
       "      <th>Country</th>\n",
       "      <th>PIB_par_travailleur</th>\n",
       "      <th>Capital_par_travailleur</th>\n",
       "      <th>Population_travailleur</th>\n",
       "      <th>predicted_label</th>\n",
       "    </tr>\n",
       "  </thead>\n",
       "  <tbody>\n",
       "    <tr>\n",
       "      <th>0</th>\n",
       "      <td>Albania</td>\n",
       "      <td>4466.587805</td>\n",
       "      <td>1343.749447</td>\n",
       "      <td>1.961030e+06</td>\n",
       "      <td>1</td>\n",
       "    </tr>\n",
       "    <tr>\n",
       "      <th>1</th>\n",
       "      <td>Algeria</td>\n",
       "      <td>6461.213910</td>\n",
       "      <td>2090.703948</td>\n",
       "      <td>2.212477e+07</td>\n",
       "      <td>1</td>\n",
       "    </tr>\n",
       "    <tr>\n",
       "      <th>2</th>\n",
       "      <td>Argentina</td>\n",
       "      <td>18397.467146</td>\n",
       "      <td>2647.382723</td>\n",
       "      <td>2.513734e+07</td>\n",
       "      <td>4</td>\n",
       "    </tr>\n",
       "    <tr>\n",
       "      <th>3</th>\n",
       "      <td>Armenia</td>\n",
       "      <td>3720.496490</td>\n",
       "      <td>935.062473</td>\n",
       "      <td>2.088304e+06</td>\n",
       "      <td>1</td>\n",
       "    </tr>\n",
       "    <tr>\n",
       "      <th>4</th>\n",
       "      <td>Australia</td>\n",
       "      <td>75080.008461</td>\n",
       "      <td>17748.077679</td>\n",
       "      <td>1.411250e+07</td>\n",
       "      <td>0</td>\n",
       "    </tr>\n",
       "  </tbody>\n",
       "</table>\n",
       "</div>"
      ],
      "text/plain": [
       "     Country  PIB_par_travailleur  Capital_par_travailleur  \\\n",
       "0    Albania          4466.587805              1343.749447   \n",
       "1    Algeria          6461.213910              2090.703948   \n",
       "2  Argentina         18397.467146              2647.382723   \n",
       "3    Armenia          3720.496490               935.062473   \n",
       "4  Australia         75080.008461             17748.077679   \n",
       "\n",
       "   Population_travailleur  predicted_label  \n",
       "0            1.961030e+06                1  \n",
       "1            2.212477e+07                1  \n",
       "2            2.513734e+07                4  \n",
       "3            2.088304e+06                1  \n",
       "4            1.411250e+07                0  "
      ]
     },
     "execution_count": 124,
     "metadata": {},
     "output_type": "execute_result"
    }
   ],
   "source": [
    "# Ajout des labels predits à la base de données initiale\n",
    "kmeans_pipe.fit(df)\n",
    "df_labels = df.copy()\n",
    "df_labels['predicted_label'] = kmeans_pipe['clusterer'].labels_\n",
    "\n",
    "# Suppression des premiers labels prédits avant optimisation du clustering\n",
    "df_labels.drop('Cluster', axis = 1, inplace = True)\n",
    "\n",
    "# Affichage\n",
    "df_labels.head()"
   ]
  },
  {
   "cell_type": "code",
   "execution_count": 127,
   "metadata": {},
   "outputs": [
    {
     "name": "stdout",
     "output_type": "stream",
     "text": [
      "PIB_par_travailleur        49.466845\n",
      "Capital_par_travailleur    50.698073\n",
      "Population_travailleur      2.838695\n",
      "Name: 0, dtype: float64\n"
     ]
    },
    {
     "data": {
      "application/vnd.plotly.v1+json": {
       "config": {
        "plotlyServerURL": "https://plot.ly"
       },
       "data": [
        {
         "fill": "toself",
         "hovertemplate": "r=%{r}<br>index=%{theta}<extra></extra>",
         "legendgroup": "",
         "line": {
          "color": "#636efa",
          "dash": "solid"
         },
         "marker": {
          "symbol": "circle"
         },
         "mode": "lines",
         "name": "",
         "r": [
          49.466844915180474,
          50.69807343286391,
          2.838695479670239,
          49.466844915180474
         ],
         "showlegend": false,
         "subplot": "polar",
         "theta": [
          "PIB_par_travailleur",
          "Capital_par_travailleur",
          "Population_travailleur",
          "PIB_par_travailleur"
         ],
         "type": "scatterpolar"
        }
       ],
       "layout": {
        "legend": {
         "tracegroupgap": 0
        },
        "polar": {
         "angularaxis": {
          "direction": "clockwise",
          "rotation": 90
         },
         "domain": {
          "x": [
           0,
           1
          ],
          "y": [
           0,
           1
          ]
         }
        },
        "template": {
         "data": {
          "bar": [
           {
            "error_x": {
             "color": "#2a3f5f"
            },
            "error_y": {
             "color": "#2a3f5f"
            },
            "marker": {
             "line": {
              "color": "#E5ECF6",
              "width": 0.5
             },
             "pattern": {
              "fillmode": "overlay",
              "size": 10,
              "solidity": 0.2
             }
            },
            "type": "bar"
           }
          ],
          "barpolar": [
           {
            "marker": {
             "line": {
              "color": "#E5ECF6",
              "width": 0.5
             },
             "pattern": {
              "fillmode": "overlay",
              "size": 10,
              "solidity": 0.2
             }
            },
            "type": "barpolar"
           }
          ],
          "carpet": [
           {
            "aaxis": {
             "endlinecolor": "#2a3f5f",
             "gridcolor": "white",
             "linecolor": "white",
             "minorgridcolor": "white",
             "startlinecolor": "#2a3f5f"
            },
            "baxis": {
             "endlinecolor": "#2a3f5f",
             "gridcolor": "white",
             "linecolor": "white",
             "minorgridcolor": "white",
             "startlinecolor": "#2a3f5f"
            },
            "type": "carpet"
           }
          ],
          "choropleth": [
           {
            "colorbar": {
             "outlinewidth": 0,
             "ticks": ""
            },
            "type": "choropleth"
           }
          ],
          "contour": [
           {
            "colorbar": {
             "outlinewidth": 0,
             "ticks": ""
            },
            "colorscale": [
             [
              0,
              "#0d0887"
             ],
             [
              0.1111111111111111,
              "#46039f"
             ],
             [
              0.2222222222222222,
              "#7201a8"
             ],
             [
              0.3333333333333333,
              "#9c179e"
             ],
             [
              0.4444444444444444,
              "#bd3786"
             ],
             [
              0.5555555555555556,
              "#d8576b"
             ],
             [
              0.6666666666666666,
              "#ed7953"
             ],
             [
              0.7777777777777778,
              "#fb9f3a"
             ],
             [
              0.8888888888888888,
              "#fdca26"
             ],
             [
              1,
              "#f0f921"
             ]
            ],
            "type": "contour"
           }
          ],
          "contourcarpet": [
           {
            "colorbar": {
             "outlinewidth": 0,
             "ticks": ""
            },
            "type": "contourcarpet"
           }
          ],
          "heatmap": [
           {
            "colorbar": {
             "outlinewidth": 0,
             "ticks": ""
            },
            "colorscale": [
             [
              0,
              "#0d0887"
             ],
             [
              0.1111111111111111,
              "#46039f"
             ],
             [
              0.2222222222222222,
              "#7201a8"
             ],
             [
              0.3333333333333333,
              "#9c179e"
             ],
             [
              0.4444444444444444,
              "#bd3786"
             ],
             [
              0.5555555555555556,
              "#d8576b"
             ],
             [
              0.6666666666666666,
              "#ed7953"
             ],
             [
              0.7777777777777778,
              "#fb9f3a"
             ],
             [
              0.8888888888888888,
              "#fdca26"
             ],
             [
              1,
              "#f0f921"
             ]
            ],
            "type": "heatmap"
           }
          ],
          "heatmapgl": [
           {
            "colorbar": {
             "outlinewidth": 0,
             "ticks": ""
            },
            "colorscale": [
             [
              0,
              "#0d0887"
             ],
             [
              0.1111111111111111,
              "#46039f"
             ],
             [
              0.2222222222222222,
              "#7201a8"
             ],
             [
              0.3333333333333333,
              "#9c179e"
             ],
             [
              0.4444444444444444,
              "#bd3786"
             ],
             [
              0.5555555555555556,
              "#d8576b"
             ],
             [
              0.6666666666666666,
              "#ed7953"
             ],
             [
              0.7777777777777778,
              "#fb9f3a"
             ],
             [
              0.8888888888888888,
              "#fdca26"
             ],
             [
              1,
              "#f0f921"
             ]
            ],
            "type": "heatmapgl"
           }
          ],
          "histogram": [
           {
            "marker": {
             "pattern": {
              "fillmode": "overlay",
              "size": 10,
              "solidity": 0.2
             }
            },
            "type": "histogram"
           }
          ],
          "histogram2d": [
           {
            "colorbar": {
             "outlinewidth": 0,
             "ticks": ""
            },
            "colorscale": [
             [
              0,
              "#0d0887"
             ],
             [
              0.1111111111111111,
              "#46039f"
             ],
             [
              0.2222222222222222,
              "#7201a8"
             ],
             [
              0.3333333333333333,
              "#9c179e"
             ],
             [
              0.4444444444444444,
              "#bd3786"
             ],
             [
              0.5555555555555556,
              "#d8576b"
             ],
             [
              0.6666666666666666,
              "#ed7953"
             ],
             [
              0.7777777777777778,
              "#fb9f3a"
             ],
             [
              0.8888888888888888,
              "#fdca26"
             ],
             [
              1,
              "#f0f921"
             ]
            ],
            "type": "histogram2d"
           }
          ],
          "histogram2dcontour": [
           {
            "colorbar": {
             "outlinewidth": 0,
             "ticks": ""
            },
            "colorscale": [
             [
              0,
              "#0d0887"
             ],
             [
              0.1111111111111111,
              "#46039f"
             ],
             [
              0.2222222222222222,
              "#7201a8"
             ],
             [
              0.3333333333333333,
              "#9c179e"
             ],
             [
              0.4444444444444444,
              "#bd3786"
             ],
             [
              0.5555555555555556,
              "#d8576b"
             ],
             [
              0.6666666666666666,
              "#ed7953"
             ],
             [
              0.7777777777777778,
              "#fb9f3a"
             ],
             [
              0.8888888888888888,
              "#fdca26"
             ],
             [
              1,
              "#f0f921"
             ]
            ],
            "type": "histogram2dcontour"
           }
          ],
          "mesh3d": [
           {
            "colorbar": {
             "outlinewidth": 0,
             "ticks": ""
            },
            "type": "mesh3d"
           }
          ],
          "parcoords": [
           {
            "line": {
             "colorbar": {
              "outlinewidth": 0,
              "ticks": ""
             }
            },
            "type": "parcoords"
           }
          ],
          "pie": [
           {
            "automargin": true,
            "type": "pie"
           }
          ],
          "scatter": [
           {
            "fillpattern": {
             "fillmode": "overlay",
             "size": 10,
             "solidity": 0.2
            },
            "type": "scatter"
           }
          ],
          "scatter3d": [
           {
            "line": {
             "colorbar": {
              "outlinewidth": 0,
              "ticks": ""
             }
            },
            "marker": {
             "colorbar": {
              "outlinewidth": 0,
              "ticks": ""
             }
            },
            "type": "scatter3d"
           }
          ],
          "scattercarpet": [
           {
            "marker": {
             "colorbar": {
              "outlinewidth": 0,
              "ticks": ""
             }
            },
            "type": "scattercarpet"
           }
          ],
          "scattergeo": [
           {
            "marker": {
             "colorbar": {
              "outlinewidth": 0,
              "ticks": ""
             }
            },
            "type": "scattergeo"
           }
          ],
          "scattergl": [
           {
            "marker": {
             "colorbar": {
              "outlinewidth": 0,
              "ticks": ""
             }
            },
            "type": "scattergl"
           }
          ],
          "scattermapbox": [
           {
            "marker": {
             "colorbar": {
              "outlinewidth": 0,
              "ticks": ""
             }
            },
            "type": "scattermapbox"
           }
          ],
          "scatterpolar": [
           {
            "marker": {
             "colorbar": {
              "outlinewidth": 0,
              "ticks": ""
             }
            },
            "type": "scatterpolar"
           }
          ],
          "scatterpolargl": [
           {
            "marker": {
             "colorbar": {
              "outlinewidth": 0,
              "ticks": ""
             }
            },
            "type": "scatterpolargl"
           }
          ],
          "scatterternary": [
           {
            "marker": {
             "colorbar": {
              "outlinewidth": 0,
              "ticks": ""
             }
            },
            "type": "scatterternary"
           }
          ],
          "surface": [
           {
            "colorbar": {
             "outlinewidth": 0,
             "ticks": ""
            },
            "colorscale": [
             [
              0,
              "#0d0887"
             ],
             [
              0.1111111111111111,
              "#46039f"
             ],
             [
              0.2222222222222222,
              "#7201a8"
             ],
             [
              0.3333333333333333,
              "#9c179e"
             ],
             [
              0.4444444444444444,
              "#bd3786"
             ],
             [
              0.5555555555555556,
              "#d8576b"
             ],
             [
              0.6666666666666666,
              "#ed7953"
             ],
             [
              0.7777777777777778,
              "#fb9f3a"
             ],
             [
              0.8888888888888888,
              "#fdca26"
             ],
             [
              1,
              "#f0f921"
             ]
            ],
            "type": "surface"
           }
          ],
          "table": [
           {
            "cells": {
             "fill": {
              "color": "#EBF0F8"
             },
             "line": {
              "color": "white"
             }
            },
            "header": {
             "fill": {
              "color": "#C8D4E3"
             },
             "line": {
              "color": "white"
             }
            },
            "type": "table"
           }
          ]
         },
         "layout": {
          "annotationdefaults": {
           "arrowcolor": "#2a3f5f",
           "arrowhead": 0,
           "arrowwidth": 1
          },
          "autotypenumbers": "strict",
          "coloraxis": {
           "colorbar": {
            "outlinewidth": 0,
            "ticks": ""
           }
          },
          "colorscale": {
           "diverging": [
            [
             0,
             "#8e0152"
            ],
            [
             0.1,
             "#c51b7d"
            ],
            [
             0.2,
             "#de77ae"
            ],
            [
             0.3,
             "#f1b6da"
            ],
            [
             0.4,
             "#fde0ef"
            ],
            [
             0.5,
             "#f7f7f7"
            ],
            [
             0.6,
             "#e6f5d0"
            ],
            [
             0.7,
             "#b8e186"
            ],
            [
             0.8,
             "#7fbc41"
            ],
            [
             0.9,
             "#4d9221"
            ],
            [
             1,
             "#276419"
            ]
           ],
           "sequential": [
            [
             0,
             "#0d0887"
            ],
            [
             0.1111111111111111,
             "#46039f"
            ],
            [
             0.2222222222222222,
             "#7201a8"
            ],
            [
             0.3333333333333333,
             "#9c179e"
            ],
            [
             0.4444444444444444,
             "#bd3786"
            ],
            [
             0.5555555555555556,
             "#d8576b"
            ],
            [
             0.6666666666666666,
             "#ed7953"
            ],
            [
             0.7777777777777778,
             "#fb9f3a"
            ],
            [
             0.8888888888888888,
             "#fdca26"
            ],
            [
             1,
             "#f0f921"
            ]
           ],
           "sequentialminus": [
            [
             0,
             "#0d0887"
            ],
            [
             0.1111111111111111,
             "#46039f"
            ],
            [
             0.2222222222222222,
             "#7201a8"
            ],
            [
             0.3333333333333333,
             "#9c179e"
            ],
            [
             0.4444444444444444,
             "#bd3786"
            ],
            [
             0.5555555555555556,
             "#d8576b"
            ],
            [
             0.6666666666666666,
             "#ed7953"
            ],
            [
             0.7777777777777778,
             "#fb9f3a"
            ],
            [
             0.8888888888888888,
             "#fdca26"
            ],
            [
             1,
             "#f0f921"
            ]
           ]
          },
          "colorway": [
           "#636efa",
           "#EF553B",
           "#00cc96",
           "#ab63fa",
           "#FFA15A",
           "#19d3f3",
           "#FF6692",
           "#B6E880",
           "#FF97FF",
           "#FECB52"
          ],
          "font": {
           "color": "#2a3f5f"
          },
          "geo": {
           "bgcolor": "white",
           "lakecolor": "white",
           "landcolor": "#E5ECF6",
           "showlakes": true,
           "showland": true,
           "subunitcolor": "white"
          },
          "hoverlabel": {
           "align": "left"
          },
          "hovermode": "closest",
          "mapbox": {
           "style": "light"
          },
          "paper_bgcolor": "white",
          "plot_bgcolor": "#E5ECF6",
          "polar": {
           "angularaxis": {
            "gridcolor": "white",
            "linecolor": "white",
            "ticks": ""
           },
           "bgcolor": "#E5ECF6",
           "radialaxis": {
            "gridcolor": "white",
            "linecolor": "white",
            "ticks": ""
           }
          },
          "scene": {
           "xaxis": {
            "backgroundcolor": "#E5ECF6",
            "gridcolor": "white",
            "gridwidth": 2,
            "linecolor": "white",
            "showbackground": true,
            "ticks": "",
            "zerolinecolor": "white"
           },
           "yaxis": {
            "backgroundcolor": "#E5ECF6",
            "gridcolor": "white",
            "gridwidth": 2,
            "linecolor": "white",
            "showbackground": true,
            "ticks": "",
            "zerolinecolor": "white"
           },
           "zaxis": {
            "backgroundcolor": "#E5ECF6",
            "gridcolor": "white",
            "gridwidth": 2,
            "linecolor": "white",
            "showbackground": true,
            "ticks": "",
            "zerolinecolor": "white"
           }
          },
          "shapedefaults": {
           "line": {
            "color": "#2a3f5f"
           }
          },
          "ternary": {
           "aaxis": {
            "gridcolor": "white",
            "linecolor": "white",
            "ticks": ""
           },
           "baxis": {
            "gridcolor": "white",
            "linecolor": "white",
            "ticks": ""
           },
           "bgcolor": "#E5ECF6",
           "caxis": {
            "gridcolor": "white",
            "linecolor": "white",
            "ticks": ""
           }
          },
          "title": {
           "x": 0.05
          },
          "xaxis": {
           "automargin": true,
           "gridcolor": "white",
           "linecolor": "white",
           "ticks": "",
           "title": {
            "standoff": 15
           },
           "zerolinecolor": "white",
           "zerolinewidth": 2
          },
          "yaxis": {
           "automargin": true,
           "gridcolor": "white",
           "linecolor": "white",
           "ticks": "",
           "title": {
            "standoff": 15
           },
           "zerolinecolor": "white",
           "zerolinewidth": 2
          }
         }
        },
        "title": {
         "text": "Cluster 0"
        }
       }
      }
     },
     "metadata": {},
     "output_type": "display_data"
    },
    {
     "name": "stdout",
     "output_type": "stream",
     "text": [
      "PIB_par_travailleur        2.683561\n",
      "Capital_par_travailleur    2.214199\n",
      "Population_travailleur     2.243571\n",
      "Name: 1, dtype: float64\n"
     ]
    },
    {
     "data": {
      "application/vnd.plotly.v1+json": {
       "config": {
        "plotlyServerURL": "https://plot.ly"
       },
       "data": [
        {
         "fill": "toself",
         "hovertemplate": "r=%{r}<br>index=%{theta}<extra></extra>",
         "legendgroup": "",
         "line": {
          "color": "#636efa",
          "dash": "solid"
         },
         "marker": {
          "symbol": "circle"
         },
         "mode": "lines",
         "name": "",
         "r": [
          2.683560962347424,
          2.2141985943377804,
          2.243570788235658,
          2.683560962347424
         ],
         "showlegend": false,
         "subplot": "polar",
         "theta": [
          "PIB_par_travailleur",
          "Capital_par_travailleur",
          "Population_travailleur",
          "PIB_par_travailleur"
         ],
         "type": "scatterpolar"
        }
       ],
       "layout": {
        "legend": {
         "tracegroupgap": 0
        },
        "polar": {
         "angularaxis": {
          "direction": "clockwise",
          "rotation": 90
         },
         "domain": {
          "x": [
           0,
           1
          ],
          "y": [
           0,
           1
          ]
         }
        },
        "template": {
         "data": {
          "bar": [
           {
            "error_x": {
             "color": "#2a3f5f"
            },
            "error_y": {
             "color": "#2a3f5f"
            },
            "marker": {
             "line": {
              "color": "#E5ECF6",
              "width": 0.5
             },
             "pattern": {
              "fillmode": "overlay",
              "size": 10,
              "solidity": 0.2
             }
            },
            "type": "bar"
           }
          ],
          "barpolar": [
           {
            "marker": {
             "line": {
              "color": "#E5ECF6",
              "width": 0.5
             },
             "pattern": {
              "fillmode": "overlay",
              "size": 10,
              "solidity": 0.2
             }
            },
            "type": "barpolar"
           }
          ],
          "carpet": [
           {
            "aaxis": {
             "endlinecolor": "#2a3f5f",
             "gridcolor": "white",
             "linecolor": "white",
             "minorgridcolor": "white",
             "startlinecolor": "#2a3f5f"
            },
            "baxis": {
             "endlinecolor": "#2a3f5f",
             "gridcolor": "white",
             "linecolor": "white",
             "minorgridcolor": "white",
             "startlinecolor": "#2a3f5f"
            },
            "type": "carpet"
           }
          ],
          "choropleth": [
           {
            "colorbar": {
             "outlinewidth": 0,
             "ticks": ""
            },
            "type": "choropleth"
           }
          ],
          "contour": [
           {
            "colorbar": {
             "outlinewidth": 0,
             "ticks": ""
            },
            "colorscale": [
             [
              0,
              "#0d0887"
             ],
             [
              0.1111111111111111,
              "#46039f"
             ],
             [
              0.2222222222222222,
              "#7201a8"
             ],
             [
              0.3333333333333333,
              "#9c179e"
             ],
             [
              0.4444444444444444,
              "#bd3786"
             ],
             [
              0.5555555555555556,
              "#d8576b"
             ],
             [
              0.6666666666666666,
              "#ed7953"
             ],
             [
              0.7777777777777778,
              "#fb9f3a"
             ],
             [
              0.8888888888888888,
              "#fdca26"
             ],
             [
              1,
              "#f0f921"
             ]
            ],
            "type": "contour"
           }
          ],
          "contourcarpet": [
           {
            "colorbar": {
             "outlinewidth": 0,
             "ticks": ""
            },
            "type": "contourcarpet"
           }
          ],
          "heatmap": [
           {
            "colorbar": {
             "outlinewidth": 0,
             "ticks": ""
            },
            "colorscale": [
             [
              0,
              "#0d0887"
             ],
             [
              0.1111111111111111,
              "#46039f"
             ],
             [
              0.2222222222222222,
              "#7201a8"
             ],
             [
              0.3333333333333333,
              "#9c179e"
             ],
             [
              0.4444444444444444,
              "#bd3786"
             ],
             [
              0.5555555555555556,
              "#d8576b"
             ],
             [
              0.6666666666666666,
              "#ed7953"
             ],
             [
              0.7777777777777778,
              "#fb9f3a"
             ],
             [
              0.8888888888888888,
              "#fdca26"
             ],
             [
              1,
              "#f0f921"
             ]
            ],
            "type": "heatmap"
           }
          ],
          "heatmapgl": [
           {
            "colorbar": {
             "outlinewidth": 0,
             "ticks": ""
            },
            "colorscale": [
             [
              0,
              "#0d0887"
             ],
             [
              0.1111111111111111,
              "#46039f"
             ],
             [
              0.2222222222222222,
              "#7201a8"
             ],
             [
              0.3333333333333333,
              "#9c179e"
             ],
             [
              0.4444444444444444,
              "#bd3786"
             ],
             [
              0.5555555555555556,
              "#d8576b"
             ],
             [
              0.6666666666666666,
              "#ed7953"
             ],
             [
              0.7777777777777778,
              "#fb9f3a"
             ],
             [
              0.8888888888888888,
              "#fdca26"
             ],
             [
              1,
              "#f0f921"
             ]
            ],
            "type": "heatmapgl"
           }
          ],
          "histogram": [
           {
            "marker": {
             "pattern": {
              "fillmode": "overlay",
              "size": 10,
              "solidity": 0.2
             }
            },
            "type": "histogram"
           }
          ],
          "histogram2d": [
           {
            "colorbar": {
             "outlinewidth": 0,
             "ticks": ""
            },
            "colorscale": [
             [
              0,
              "#0d0887"
             ],
             [
              0.1111111111111111,
              "#46039f"
             ],
             [
              0.2222222222222222,
              "#7201a8"
             ],
             [
              0.3333333333333333,
              "#9c179e"
             ],
             [
              0.4444444444444444,
              "#bd3786"
             ],
             [
              0.5555555555555556,
              "#d8576b"
             ],
             [
              0.6666666666666666,
              "#ed7953"
             ],
             [
              0.7777777777777778,
              "#fb9f3a"
             ],
             [
              0.8888888888888888,
              "#fdca26"
             ],
             [
              1,
              "#f0f921"
             ]
            ],
            "type": "histogram2d"
           }
          ],
          "histogram2dcontour": [
           {
            "colorbar": {
             "outlinewidth": 0,
             "ticks": ""
            },
            "colorscale": [
             [
              0,
              "#0d0887"
             ],
             [
              0.1111111111111111,
              "#46039f"
             ],
             [
              0.2222222222222222,
              "#7201a8"
             ],
             [
              0.3333333333333333,
              "#9c179e"
             ],
             [
              0.4444444444444444,
              "#bd3786"
             ],
             [
              0.5555555555555556,
              "#d8576b"
             ],
             [
              0.6666666666666666,
              "#ed7953"
             ],
             [
              0.7777777777777778,
              "#fb9f3a"
             ],
             [
              0.8888888888888888,
              "#fdca26"
             ],
             [
              1,
              "#f0f921"
             ]
            ],
            "type": "histogram2dcontour"
           }
          ],
          "mesh3d": [
           {
            "colorbar": {
             "outlinewidth": 0,
             "ticks": ""
            },
            "type": "mesh3d"
           }
          ],
          "parcoords": [
           {
            "line": {
             "colorbar": {
              "outlinewidth": 0,
              "ticks": ""
             }
            },
            "type": "parcoords"
           }
          ],
          "pie": [
           {
            "automargin": true,
            "type": "pie"
           }
          ],
          "scatter": [
           {
            "fillpattern": {
             "fillmode": "overlay",
             "size": 10,
             "solidity": 0.2
            },
            "type": "scatter"
           }
          ],
          "scatter3d": [
           {
            "line": {
             "colorbar": {
              "outlinewidth": 0,
              "ticks": ""
             }
            },
            "marker": {
             "colorbar": {
              "outlinewidth": 0,
              "ticks": ""
             }
            },
            "type": "scatter3d"
           }
          ],
          "scattercarpet": [
           {
            "marker": {
             "colorbar": {
              "outlinewidth": 0,
              "ticks": ""
             }
            },
            "type": "scattercarpet"
           }
          ],
          "scattergeo": [
           {
            "marker": {
             "colorbar": {
              "outlinewidth": 0,
              "ticks": ""
             }
            },
            "type": "scattergeo"
           }
          ],
          "scattergl": [
           {
            "marker": {
             "colorbar": {
              "outlinewidth": 0,
              "ticks": ""
             }
            },
            "type": "scattergl"
           }
          ],
          "scattermapbox": [
           {
            "marker": {
             "colorbar": {
              "outlinewidth": 0,
              "ticks": ""
             }
            },
            "type": "scattermapbox"
           }
          ],
          "scatterpolar": [
           {
            "marker": {
             "colorbar": {
              "outlinewidth": 0,
              "ticks": ""
             }
            },
            "type": "scatterpolar"
           }
          ],
          "scatterpolargl": [
           {
            "marker": {
             "colorbar": {
              "outlinewidth": 0,
              "ticks": ""
             }
            },
            "type": "scatterpolargl"
           }
          ],
          "scatterternary": [
           {
            "marker": {
             "colorbar": {
              "outlinewidth": 0,
              "ticks": ""
             }
            },
            "type": "scatterternary"
           }
          ],
          "surface": [
           {
            "colorbar": {
             "outlinewidth": 0,
             "ticks": ""
            },
            "colorscale": [
             [
              0,
              "#0d0887"
             ],
             [
              0.1111111111111111,
              "#46039f"
             ],
             [
              0.2222222222222222,
              "#7201a8"
             ],
             [
              0.3333333333333333,
              "#9c179e"
             ],
             [
              0.4444444444444444,
              "#bd3786"
             ],
             [
              0.5555555555555556,
              "#d8576b"
             ],
             [
              0.6666666666666666,
              "#ed7953"
             ],
             [
              0.7777777777777778,
              "#fb9f3a"
             ],
             [
              0.8888888888888888,
              "#fdca26"
             ],
             [
              1,
              "#f0f921"
             ]
            ],
            "type": "surface"
           }
          ],
          "table": [
           {
            "cells": {
             "fill": {
              "color": "#EBF0F8"
             },
             "line": {
              "color": "white"
             }
            },
            "header": {
             "fill": {
              "color": "#C8D4E3"
             },
             "line": {
              "color": "white"
             }
            },
            "type": "table"
           }
          ]
         },
         "layout": {
          "annotationdefaults": {
           "arrowcolor": "#2a3f5f",
           "arrowhead": 0,
           "arrowwidth": 1
          },
          "autotypenumbers": "strict",
          "coloraxis": {
           "colorbar": {
            "outlinewidth": 0,
            "ticks": ""
           }
          },
          "colorscale": {
           "diverging": [
            [
             0,
             "#8e0152"
            ],
            [
             0.1,
             "#c51b7d"
            ],
            [
             0.2,
             "#de77ae"
            ],
            [
             0.3,
             "#f1b6da"
            ],
            [
             0.4,
             "#fde0ef"
            ],
            [
             0.5,
             "#f7f7f7"
            ],
            [
             0.6,
             "#e6f5d0"
            ],
            [
             0.7,
             "#b8e186"
            ],
            [
             0.8,
             "#7fbc41"
            ],
            [
             0.9,
             "#4d9221"
            ],
            [
             1,
             "#276419"
            ]
           ],
           "sequential": [
            [
             0,
             "#0d0887"
            ],
            [
             0.1111111111111111,
             "#46039f"
            ],
            [
             0.2222222222222222,
             "#7201a8"
            ],
            [
             0.3333333333333333,
             "#9c179e"
            ],
            [
             0.4444444444444444,
             "#bd3786"
            ],
            [
             0.5555555555555556,
             "#d8576b"
            ],
            [
             0.6666666666666666,
             "#ed7953"
            ],
            [
             0.7777777777777778,
             "#fb9f3a"
            ],
            [
             0.8888888888888888,
             "#fdca26"
            ],
            [
             1,
             "#f0f921"
            ]
           ],
           "sequentialminus": [
            [
             0,
             "#0d0887"
            ],
            [
             0.1111111111111111,
             "#46039f"
            ],
            [
             0.2222222222222222,
             "#7201a8"
            ],
            [
             0.3333333333333333,
             "#9c179e"
            ],
            [
             0.4444444444444444,
             "#bd3786"
            ],
            [
             0.5555555555555556,
             "#d8576b"
            ],
            [
             0.6666666666666666,
             "#ed7953"
            ],
            [
             0.7777777777777778,
             "#fb9f3a"
            ],
            [
             0.8888888888888888,
             "#fdca26"
            ],
            [
             1,
             "#f0f921"
            ]
           ]
          },
          "colorway": [
           "#636efa",
           "#EF553B",
           "#00cc96",
           "#ab63fa",
           "#FFA15A",
           "#19d3f3",
           "#FF6692",
           "#B6E880",
           "#FF97FF",
           "#FECB52"
          ],
          "font": {
           "color": "#2a3f5f"
          },
          "geo": {
           "bgcolor": "white",
           "lakecolor": "white",
           "landcolor": "#E5ECF6",
           "showlakes": true,
           "showland": true,
           "subunitcolor": "white"
          },
          "hoverlabel": {
           "align": "left"
          },
          "hovermode": "closest",
          "mapbox": {
           "style": "light"
          },
          "paper_bgcolor": "white",
          "plot_bgcolor": "#E5ECF6",
          "polar": {
           "angularaxis": {
            "gridcolor": "white",
            "linecolor": "white",
            "ticks": ""
           },
           "bgcolor": "#E5ECF6",
           "radialaxis": {
            "gridcolor": "white",
            "linecolor": "white",
            "ticks": ""
           }
          },
          "scene": {
           "xaxis": {
            "backgroundcolor": "#E5ECF6",
            "gridcolor": "white",
            "gridwidth": 2,
            "linecolor": "white",
            "showbackground": true,
            "ticks": "",
            "zerolinecolor": "white"
           },
           "yaxis": {
            "backgroundcolor": "#E5ECF6",
            "gridcolor": "white",
            "gridwidth": 2,
            "linecolor": "white",
            "showbackground": true,
            "ticks": "",
            "zerolinecolor": "white"
           },
           "zaxis": {
            "backgroundcolor": "#E5ECF6",
            "gridcolor": "white",
            "gridwidth": 2,
            "linecolor": "white",
            "showbackground": true,
            "ticks": "",
            "zerolinecolor": "white"
           }
          },
          "shapedefaults": {
           "line": {
            "color": "#2a3f5f"
           }
          },
          "ternary": {
           "aaxis": {
            "gridcolor": "white",
            "linecolor": "white",
            "ticks": ""
           },
           "baxis": {
            "gridcolor": "white",
            "linecolor": "white",
            "ticks": ""
           },
           "bgcolor": "#E5ECF6",
           "caxis": {
            "gridcolor": "white",
            "linecolor": "white",
            "ticks": ""
           }
          },
          "title": {
           "x": 0.05
          },
          "xaxis": {
           "automargin": true,
           "gridcolor": "white",
           "linecolor": "white",
           "ticks": "",
           "title": {
            "standoff": 15
           },
           "zerolinecolor": "white",
           "zerolinewidth": 2
          },
          "yaxis": {
           "automargin": true,
           "gridcolor": "white",
           "linecolor": "white",
           "ticks": "",
           "title": {
            "standoff": 15
           },
           "zerolinecolor": "white",
           "zerolinewidth": 2
          }
         }
        },
        "title": {
         "text": "Cluster 1"
        }
       }
      }
     },
     "metadata": {},
     "output_type": "display_data"
    },
    {
     "name": "stdout",
     "output_type": "stream",
     "text": [
      "PIB_par_travailleur        100.0\n",
      "Capital_par_travailleur    100.0\n",
      "Population_travailleur       0.0\n",
      "Name: 2, dtype: float64\n"
     ]
    },
    {
     "data": {
      "application/vnd.plotly.v1+json": {
       "config": {
        "plotlyServerURL": "https://plot.ly"
       },
       "data": [
        {
         "fill": "toself",
         "hovertemplate": "r=%{r}<br>index=%{theta}<extra></extra>",
         "legendgroup": "",
         "line": {
          "color": "#636efa",
          "dash": "solid"
         },
         "marker": {
          "symbol": "circle"
         },
         "mode": "lines",
         "name": "",
         "r": [
          100,
          99.99999999999999,
          0,
          100
         ],
         "showlegend": false,
         "subplot": "polar",
         "theta": [
          "PIB_par_travailleur",
          "Capital_par_travailleur",
          "Population_travailleur",
          "PIB_par_travailleur"
         ],
         "type": "scatterpolar"
        }
       ],
       "layout": {
        "legend": {
         "tracegroupgap": 0
        },
        "polar": {
         "angularaxis": {
          "direction": "clockwise",
          "rotation": 90
         },
         "domain": {
          "x": [
           0,
           1
          ],
          "y": [
           0,
           1
          ]
         }
        },
        "template": {
         "data": {
          "bar": [
           {
            "error_x": {
             "color": "#2a3f5f"
            },
            "error_y": {
             "color": "#2a3f5f"
            },
            "marker": {
             "line": {
              "color": "#E5ECF6",
              "width": 0.5
             },
             "pattern": {
              "fillmode": "overlay",
              "size": 10,
              "solidity": 0.2
             }
            },
            "type": "bar"
           }
          ],
          "barpolar": [
           {
            "marker": {
             "line": {
              "color": "#E5ECF6",
              "width": 0.5
             },
             "pattern": {
              "fillmode": "overlay",
              "size": 10,
              "solidity": 0.2
             }
            },
            "type": "barpolar"
           }
          ],
          "carpet": [
           {
            "aaxis": {
             "endlinecolor": "#2a3f5f",
             "gridcolor": "white",
             "linecolor": "white",
             "minorgridcolor": "white",
             "startlinecolor": "#2a3f5f"
            },
            "baxis": {
             "endlinecolor": "#2a3f5f",
             "gridcolor": "white",
             "linecolor": "white",
             "minorgridcolor": "white",
             "startlinecolor": "#2a3f5f"
            },
            "type": "carpet"
           }
          ],
          "choropleth": [
           {
            "colorbar": {
             "outlinewidth": 0,
             "ticks": ""
            },
            "type": "choropleth"
           }
          ],
          "contour": [
           {
            "colorbar": {
             "outlinewidth": 0,
             "ticks": ""
            },
            "colorscale": [
             [
              0,
              "#0d0887"
             ],
             [
              0.1111111111111111,
              "#46039f"
             ],
             [
              0.2222222222222222,
              "#7201a8"
             ],
             [
              0.3333333333333333,
              "#9c179e"
             ],
             [
              0.4444444444444444,
              "#bd3786"
             ],
             [
              0.5555555555555556,
              "#d8576b"
             ],
             [
              0.6666666666666666,
              "#ed7953"
             ],
             [
              0.7777777777777778,
              "#fb9f3a"
             ],
             [
              0.8888888888888888,
              "#fdca26"
             ],
             [
              1,
              "#f0f921"
             ]
            ],
            "type": "contour"
           }
          ],
          "contourcarpet": [
           {
            "colorbar": {
             "outlinewidth": 0,
             "ticks": ""
            },
            "type": "contourcarpet"
           }
          ],
          "heatmap": [
           {
            "colorbar": {
             "outlinewidth": 0,
             "ticks": ""
            },
            "colorscale": [
             [
              0,
              "#0d0887"
             ],
             [
              0.1111111111111111,
              "#46039f"
             ],
             [
              0.2222222222222222,
              "#7201a8"
             ],
             [
              0.3333333333333333,
              "#9c179e"
             ],
             [
              0.4444444444444444,
              "#bd3786"
             ],
             [
              0.5555555555555556,
              "#d8576b"
             ],
             [
              0.6666666666666666,
              "#ed7953"
             ],
             [
              0.7777777777777778,
              "#fb9f3a"
             ],
             [
              0.8888888888888888,
              "#fdca26"
             ],
             [
              1,
              "#f0f921"
             ]
            ],
            "type": "heatmap"
           }
          ],
          "heatmapgl": [
           {
            "colorbar": {
             "outlinewidth": 0,
             "ticks": ""
            },
            "colorscale": [
             [
              0,
              "#0d0887"
             ],
             [
              0.1111111111111111,
              "#46039f"
             ],
             [
              0.2222222222222222,
              "#7201a8"
             ],
             [
              0.3333333333333333,
              "#9c179e"
             ],
             [
              0.4444444444444444,
              "#bd3786"
             ],
             [
              0.5555555555555556,
              "#d8576b"
             ],
             [
              0.6666666666666666,
              "#ed7953"
             ],
             [
              0.7777777777777778,
              "#fb9f3a"
             ],
             [
              0.8888888888888888,
              "#fdca26"
             ],
             [
              1,
              "#f0f921"
             ]
            ],
            "type": "heatmapgl"
           }
          ],
          "histogram": [
           {
            "marker": {
             "pattern": {
              "fillmode": "overlay",
              "size": 10,
              "solidity": 0.2
             }
            },
            "type": "histogram"
           }
          ],
          "histogram2d": [
           {
            "colorbar": {
             "outlinewidth": 0,
             "ticks": ""
            },
            "colorscale": [
             [
              0,
              "#0d0887"
             ],
             [
              0.1111111111111111,
              "#46039f"
             ],
             [
              0.2222222222222222,
              "#7201a8"
             ],
             [
              0.3333333333333333,
              "#9c179e"
             ],
             [
              0.4444444444444444,
              "#bd3786"
             ],
             [
              0.5555555555555556,
              "#d8576b"
             ],
             [
              0.6666666666666666,
              "#ed7953"
             ],
             [
              0.7777777777777778,
              "#fb9f3a"
             ],
             [
              0.8888888888888888,
              "#fdca26"
             ],
             [
              1,
              "#f0f921"
             ]
            ],
            "type": "histogram2d"
           }
          ],
          "histogram2dcontour": [
           {
            "colorbar": {
             "outlinewidth": 0,
             "ticks": ""
            },
            "colorscale": [
             [
              0,
              "#0d0887"
             ],
             [
              0.1111111111111111,
              "#46039f"
             ],
             [
              0.2222222222222222,
              "#7201a8"
             ],
             [
              0.3333333333333333,
              "#9c179e"
             ],
             [
              0.4444444444444444,
              "#bd3786"
             ],
             [
              0.5555555555555556,
              "#d8576b"
             ],
             [
              0.6666666666666666,
              "#ed7953"
             ],
             [
              0.7777777777777778,
              "#fb9f3a"
             ],
             [
              0.8888888888888888,
              "#fdca26"
             ],
             [
              1,
              "#f0f921"
             ]
            ],
            "type": "histogram2dcontour"
           }
          ],
          "mesh3d": [
           {
            "colorbar": {
             "outlinewidth": 0,
             "ticks": ""
            },
            "type": "mesh3d"
           }
          ],
          "parcoords": [
           {
            "line": {
             "colorbar": {
              "outlinewidth": 0,
              "ticks": ""
             }
            },
            "type": "parcoords"
           }
          ],
          "pie": [
           {
            "automargin": true,
            "type": "pie"
           }
          ],
          "scatter": [
           {
            "fillpattern": {
             "fillmode": "overlay",
             "size": 10,
             "solidity": 0.2
            },
            "type": "scatter"
           }
          ],
          "scatter3d": [
           {
            "line": {
             "colorbar": {
              "outlinewidth": 0,
              "ticks": ""
             }
            },
            "marker": {
             "colorbar": {
              "outlinewidth": 0,
              "ticks": ""
             }
            },
            "type": "scatter3d"
           }
          ],
          "scattercarpet": [
           {
            "marker": {
             "colorbar": {
              "outlinewidth": 0,
              "ticks": ""
             }
            },
            "type": "scattercarpet"
           }
          ],
          "scattergeo": [
           {
            "marker": {
             "colorbar": {
              "outlinewidth": 0,
              "ticks": ""
             }
            },
            "type": "scattergeo"
           }
          ],
          "scattergl": [
           {
            "marker": {
             "colorbar": {
              "outlinewidth": 0,
              "ticks": ""
             }
            },
            "type": "scattergl"
           }
          ],
          "scattermapbox": [
           {
            "marker": {
             "colorbar": {
              "outlinewidth": 0,
              "ticks": ""
             }
            },
            "type": "scattermapbox"
           }
          ],
          "scatterpolar": [
           {
            "marker": {
             "colorbar": {
              "outlinewidth": 0,
              "ticks": ""
             }
            },
            "type": "scatterpolar"
           }
          ],
          "scatterpolargl": [
           {
            "marker": {
             "colorbar": {
              "outlinewidth": 0,
              "ticks": ""
             }
            },
            "type": "scatterpolargl"
           }
          ],
          "scatterternary": [
           {
            "marker": {
             "colorbar": {
              "outlinewidth": 0,
              "ticks": ""
             }
            },
            "type": "scatterternary"
           }
          ],
          "surface": [
           {
            "colorbar": {
             "outlinewidth": 0,
             "ticks": ""
            },
            "colorscale": [
             [
              0,
              "#0d0887"
             ],
             [
              0.1111111111111111,
              "#46039f"
             ],
             [
              0.2222222222222222,
              "#7201a8"
             ],
             [
              0.3333333333333333,
              "#9c179e"
             ],
             [
              0.4444444444444444,
              "#bd3786"
             ],
             [
              0.5555555555555556,
              "#d8576b"
             ],
             [
              0.6666666666666666,
              "#ed7953"
             ],
             [
              0.7777777777777778,
              "#fb9f3a"
             ],
             [
              0.8888888888888888,
              "#fdca26"
             ],
             [
              1,
              "#f0f921"
             ]
            ],
            "type": "surface"
           }
          ],
          "table": [
           {
            "cells": {
             "fill": {
              "color": "#EBF0F8"
             },
             "line": {
              "color": "white"
             }
            },
            "header": {
             "fill": {
              "color": "#C8D4E3"
             },
             "line": {
              "color": "white"
             }
            },
            "type": "table"
           }
          ]
         },
         "layout": {
          "annotationdefaults": {
           "arrowcolor": "#2a3f5f",
           "arrowhead": 0,
           "arrowwidth": 1
          },
          "autotypenumbers": "strict",
          "coloraxis": {
           "colorbar": {
            "outlinewidth": 0,
            "ticks": ""
           }
          },
          "colorscale": {
           "diverging": [
            [
             0,
             "#8e0152"
            ],
            [
             0.1,
             "#c51b7d"
            ],
            [
             0.2,
             "#de77ae"
            ],
            [
             0.3,
             "#f1b6da"
            ],
            [
             0.4,
             "#fde0ef"
            ],
            [
             0.5,
             "#f7f7f7"
            ],
            [
             0.6,
             "#e6f5d0"
            ],
            [
             0.7,
             "#b8e186"
            ],
            [
             0.8,
             "#7fbc41"
            ],
            [
             0.9,
             "#4d9221"
            ],
            [
             1,
             "#276419"
            ]
           ],
           "sequential": [
            [
             0,
             "#0d0887"
            ],
            [
             0.1111111111111111,
             "#46039f"
            ],
            [
             0.2222222222222222,
             "#7201a8"
            ],
            [
             0.3333333333333333,
             "#9c179e"
            ],
            [
             0.4444444444444444,
             "#bd3786"
            ],
            [
             0.5555555555555556,
             "#d8576b"
            ],
            [
             0.6666666666666666,
             "#ed7953"
            ],
            [
             0.7777777777777778,
             "#fb9f3a"
            ],
            [
             0.8888888888888888,
             "#fdca26"
            ],
            [
             1,
             "#f0f921"
            ]
           ],
           "sequentialminus": [
            [
             0,
             "#0d0887"
            ],
            [
             0.1111111111111111,
             "#46039f"
            ],
            [
             0.2222222222222222,
             "#7201a8"
            ],
            [
             0.3333333333333333,
             "#9c179e"
            ],
            [
             0.4444444444444444,
             "#bd3786"
            ],
            [
             0.5555555555555556,
             "#d8576b"
            ],
            [
             0.6666666666666666,
             "#ed7953"
            ],
            [
             0.7777777777777778,
             "#fb9f3a"
            ],
            [
             0.8888888888888888,
             "#fdca26"
            ],
            [
             1,
             "#f0f921"
            ]
           ]
          },
          "colorway": [
           "#636efa",
           "#EF553B",
           "#00cc96",
           "#ab63fa",
           "#FFA15A",
           "#19d3f3",
           "#FF6692",
           "#B6E880",
           "#FF97FF",
           "#FECB52"
          ],
          "font": {
           "color": "#2a3f5f"
          },
          "geo": {
           "bgcolor": "white",
           "lakecolor": "white",
           "landcolor": "#E5ECF6",
           "showlakes": true,
           "showland": true,
           "subunitcolor": "white"
          },
          "hoverlabel": {
           "align": "left"
          },
          "hovermode": "closest",
          "mapbox": {
           "style": "light"
          },
          "paper_bgcolor": "white",
          "plot_bgcolor": "#E5ECF6",
          "polar": {
           "angularaxis": {
            "gridcolor": "white",
            "linecolor": "white",
            "ticks": ""
           },
           "bgcolor": "#E5ECF6",
           "radialaxis": {
            "gridcolor": "white",
            "linecolor": "white",
            "ticks": ""
           }
          },
          "scene": {
           "xaxis": {
            "backgroundcolor": "#E5ECF6",
            "gridcolor": "white",
            "gridwidth": 2,
            "linecolor": "white",
            "showbackground": true,
            "ticks": "",
            "zerolinecolor": "white"
           },
           "yaxis": {
            "backgroundcolor": "#E5ECF6",
            "gridcolor": "white",
            "gridwidth": 2,
            "linecolor": "white",
            "showbackground": true,
            "ticks": "",
            "zerolinecolor": "white"
           },
           "zaxis": {
            "backgroundcolor": "#E5ECF6",
            "gridcolor": "white",
            "gridwidth": 2,
            "linecolor": "white",
            "showbackground": true,
            "ticks": "",
            "zerolinecolor": "white"
           }
          },
          "shapedefaults": {
           "line": {
            "color": "#2a3f5f"
           }
          },
          "ternary": {
           "aaxis": {
            "gridcolor": "white",
            "linecolor": "white",
            "ticks": ""
           },
           "baxis": {
            "gridcolor": "white",
            "linecolor": "white",
            "ticks": ""
           },
           "bgcolor": "#E5ECF6",
           "caxis": {
            "gridcolor": "white",
            "linecolor": "white",
            "ticks": ""
           }
          },
          "title": {
           "x": 0.05
          },
          "xaxis": {
           "automargin": true,
           "gridcolor": "white",
           "linecolor": "white",
           "ticks": "",
           "title": {
            "standoff": 15
           },
           "zerolinecolor": "white",
           "zerolinewidth": 2
          },
          "yaxis": {
           "automargin": true,
           "gridcolor": "white",
           "linecolor": "white",
           "ticks": "",
           "title": {
            "standoff": 15
           },
           "zerolinecolor": "white",
           "zerolinewidth": 2
          }
         }
        },
        "title": {
         "text": "Cluster 2"
        }
       }
      }
     },
     "metadata": {},
     "output_type": "display_data"
    },
    {
     "name": "stdout",
     "output_type": "stream",
     "text": [
      "PIB_par_travailleur          0.0\n",
      "Capital_par_travailleur      0.0\n",
      "Population_travailleur     100.0\n",
      "Name: 3, dtype: float64\n"
     ]
    },
    {
     "data": {
      "application/vnd.plotly.v1+json": {
       "config": {
        "plotlyServerURL": "https://plot.ly"
       },
       "data": [
        {
         "fill": "toself",
         "hovertemplate": "r=%{r}<br>index=%{theta}<extra></extra>",
         "legendgroup": "",
         "line": {
          "color": "#636efa",
          "dash": "solid"
         },
         "marker": {
          "symbol": "circle"
         },
         "mode": "lines",
         "name": "",
         "r": [
          0,
          0,
          100,
          0
         ],
         "showlegend": false,
         "subplot": "polar",
         "theta": [
          "PIB_par_travailleur",
          "Capital_par_travailleur",
          "Population_travailleur",
          "PIB_par_travailleur"
         ],
         "type": "scatterpolar"
        }
       ],
       "layout": {
        "legend": {
         "tracegroupgap": 0
        },
        "polar": {
         "angularaxis": {
          "direction": "clockwise",
          "rotation": 90
         },
         "domain": {
          "x": [
           0,
           1
          ],
          "y": [
           0,
           1
          ]
         }
        },
        "template": {
         "data": {
          "bar": [
           {
            "error_x": {
             "color": "#2a3f5f"
            },
            "error_y": {
             "color": "#2a3f5f"
            },
            "marker": {
             "line": {
              "color": "#E5ECF6",
              "width": 0.5
             },
             "pattern": {
              "fillmode": "overlay",
              "size": 10,
              "solidity": 0.2
             }
            },
            "type": "bar"
           }
          ],
          "barpolar": [
           {
            "marker": {
             "line": {
              "color": "#E5ECF6",
              "width": 0.5
             },
             "pattern": {
              "fillmode": "overlay",
              "size": 10,
              "solidity": 0.2
             }
            },
            "type": "barpolar"
           }
          ],
          "carpet": [
           {
            "aaxis": {
             "endlinecolor": "#2a3f5f",
             "gridcolor": "white",
             "linecolor": "white",
             "minorgridcolor": "white",
             "startlinecolor": "#2a3f5f"
            },
            "baxis": {
             "endlinecolor": "#2a3f5f",
             "gridcolor": "white",
             "linecolor": "white",
             "minorgridcolor": "white",
             "startlinecolor": "#2a3f5f"
            },
            "type": "carpet"
           }
          ],
          "choropleth": [
           {
            "colorbar": {
             "outlinewidth": 0,
             "ticks": ""
            },
            "type": "choropleth"
           }
          ],
          "contour": [
           {
            "colorbar": {
             "outlinewidth": 0,
             "ticks": ""
            },
            "colorscale": [
             [
              0,
              "#0d0887"
             ],
             [
              0.1111111111111111,
              "#46039f"
             ],
             [
              0.2222222222222222,
              "#7201a8"
             ],
             [
              0.3333333333333333,
              "#9c179e"
             ],
             [
              0.4444444444444444,
              "#bd3786"
             ],
             [
              0.5555555555555556,
              "#d8576b"
             ],
             [
              0.6666666666666666,
              "#ed7953"
             ],
             [
              0.7777777777777778,
              "#fb9f3a"
             ],
             [
              0.8888888888888888,
              "#fdca26"
             ],
             [
              1,
              "#f0f921"
             ]
            ],
            "type": "contour"
           }
          ],
          "contourcarpet": [
           {
            "colorbar": {
             "outlinewidth": 0,
             "ticks": ""
            },
            "type": "contourcarpet"
           }
          ],
          "heatmap": [
           {
            "colorbar": {
             "outlinewidth": 0,
             "ticks": ""
            },
            "colorscale": [
             [
              0,
              "#0d0887"
             ],
             [
              0.1111111111111111,
              "#46039f"
             ],
             [
              0.2222222222222222,
              "#7201a8"
             ],
             [
              0.3333333333333333,
              "#9c179e"
             ],
             [
              0.4444444444444444,
              "#bd3786"
             ],
             [
              0.5555555555555556,
              "#d8576b"
             ],
             [
              0.6666666666666666,
              "#ed7953"
             ],
             [
              0.7777777777777778,
              "#fb9f3a"
             ],
             [
              0.8888888888888888,
              "#fdca26"
             ],
             [
              1,
              "#f0f921"
             ]
            ],
            "type": "heatmap"
           }
          ],
          "heatmapgl": [
           {
            "colorbar": {
             "outlinewidth": 0,
             "ticks": ""
            },
            "colorscale": [
             [
              0,
              "#0d0887"
             ],
             [
              0.1111111111111111,
              "#46039f"
             ],
             [
              0.2222222222222222,
              "#7201a8"
             ],
             [
              0.3333333333333333,
              "#9c179e"
             ],
             [
              0.4444444444444444,
              "#bd3786"
             ],
             [
              0.5555555555555556,
              "#d8576b"
             ],
             [
              0.6666666666666666,
              "#ed7953"
             ],
             [
              0.7777777777777778,
              "#fb9f3a"
             ],
             [
              0.8888888888888888,
              "#fdca26"
             ],
             [
              1,
              "#f0f921"
             ]
            ],
            "type": "heatmapgl"
           }
          ],
          "histogram": [
           {
            "marker": {
             "pattern": {
              "fillmode": "overlay",
              "size": 10,
              "solidity": 0.2
             }
            },
            "type": "histogram"
           }
          ],
          "histogram2d": [
           {
            "colorbar": {
             "outlinewidth": 0,
             "ticks": ""
            },
            "colorscale": [
             [
              0,
              "#0d0887"
             ],
             [
              0.1111111111111111,
              "#46039f"
             ],
             [
              0.2222222222222222,
              "#7201a8"
             ],
             [
              0.3333333333333333,
              "#9c179e"
             ],
             [
              0.4444444444444444,
              "#bd3786"
             ],
             [
              0.5555555555555556,
              "#d8576b"
             ],
             [
              0.6666666666666666,
              "#ed7953"
             ],
             [
              0.7777777777777778,
              "#fb9f3a"
             ],
             [
              0.8888888888888888,
              "#fdca26"
             ],
             [
              1,
              "#f0f921"
             ]
            ],
            "type": "histogram2d"
           }
          ],
          "histogram2dcontour": [
           {
            "colorbar": {
             "outlinewidth": 0,
             "ticks": ""
            },
            "colorscale": [
             [
              0,
              "#0d0887"
             ],
             [
              0.1111111111111111,
              "#46039f"
             ],
             [
              0.2222222222222222,
              "#7201a8"
             ],
             [
              0.3333333333333333,
              "#9c179e"
             ],
             [
              0.4444444444444444,
              "#bd3786"
             ],
             [
              0.5555555555555556,
              "#d8576b"
             ],
             [
              0.6666666666666666,
              "#ed7953"
             ],
             [
              0.7777777777777778,
              "#fb9f3a"
             ],
             [
              0.8888888888888888,
              "#fdca26"
             ],
             [
              1,
              "#f0f921"
             ]
            ],
            "type": "histogram2dcontour"
           }
          ],
          "mesh3d": [
           {
            "colorbar": {
             "outlinewidth": 0,
             "ticks": ""
            },
            "type": "mesh3d"
           }
          ],
          "parcoords": [
           {
            "line": {
             "colorbar": {
              "outlinewidth": 0,
              "ticks": ""
             }
            },
            "type": "parcoords"
           }
          ],
          "pie": [
           {
            "automargin": true,
            "type": "pie"
           }
          ],
          "scatter": [
           {
            "fillpattern": {
             "fillmode": "overlay",
             "size": 10,
             "solidity": 0.2
            },
            "type": "scatter"
           }
          ],
          "scatter3d": [
           {
            "line": {
             "colorbar": {
              "outlinewidth": 0,
              "ticks": ""
             }
            },
            "marker": {
             "colorbar": {
              "outlinewidth": 0,
              "ticks": ""
             }
            },
            "type": "scatter3d"
           }
          ],
          "scattercarpet": [
           {
            "marker": {
             "colorbar": {
              "outlinewidth": 0,
              "ticks": ""
             }
            },
            "type": "scattercarpet"
           }
          ],
          "scattergeo": [
           {
            "marker": {
             "colorbar": {
              "outlinewidth": 0,
              "ticks": ""
             }
            },
            "type": "scattergeo"
           }
          ],
          "scattergl": [
           {
            "marker": {
             "colorbar": {
              "outlinewidth": 0,
              "ticks": ""
             }
            },
            "type": "scattergl"
           }
          ],
          "scattermapbox": [
           {
            "marker": {
             "colorbar": {
              "outlinewidth": 0,
              "ticks": ""
             }
            },
            "type": "scattermapbox"
           }
          ],
          "scatterpolar": [
           {
            "marker": {
             "colorbar": {
              "outlinewidth": 0,
              "ticks": ""
             }
            },
            "type": "scatterpolar"
           }
          ],
          "scatterpolargl": [
           {
            "marker": {
             "colorbar": {
              "outlinewidth": 0,
              "ticks": ""
             }
            },
            "type": "scatterpolargl"
           }
          ],
          "scatterternary": [
           {
            "marker": {
             "colorbar": {
              "outlinewidth": 0,
              "ticks": ""
             }
            },
            "type": "scatterternary"
           }
          ],
          "surface": [
           {
            "colorbar": {
             "outlinewidth": 0,
             "ticks": ""
            },
            "colorscale": [
             [
              0,
              "#0d0887"
             ],
             [
              0.1111111111111111,
              "#46039f"
             ],
             [
              0.2222222222222222,
              "#7201a8"
             ],
             [
              0.3333333333333333,
              "#9c179e"
             ],
             [
              0.4444444444444444,
              "#bd3786"
             ],
             [
              0.5555555555555556,
              "#d8576b"
             ],
             [
              0.6666666666666666,
              "#ed7953"
             ],
             [
              0.7777777777777778,
              "#fb9f3a"
             ],
             [
              0.8888888888888888,
              "#fdca26"
             ],
             [
              1,
              "#f0f921"
             ]
            ],
            "type": "surface"
           }
          ],
          "table": [
           {
            "cells": {
             "fill": {
              "color": "#EBF0F8"
             },
             "line": {
              "color": "white"
             }
            },
            "header": {
             "fill": {
              "color": "#C8D4E3"
             },
             "line": {
              "color": "white"
             }
            },
            "type": "table"
           }
          ]
         },
         "layout": {
          "annotationdefaults": {
           "arrowcolor": "#2a3f5f",
           "arrowhead": 0,
           "arrowwidth": 1
          },
          "autotypenumbers": "strict",
          "coloraxis": {
           "colorbar": {
            "outlinewidth": 0,
            "ticks": ""
           }
          },
          "colorscale": {
           "diverging": [
            [
             0,
             "#8e0152"
            ],
            [
             0.1,
             "#c51b7d"
            ],
            [
             0.2,
             "#de77ae"
            ],
            [
             0.3,
             "#f1b6da"
            ],
            [
             0.4,
             "#fde0ef"
            ],
            [
             0.5,
             "#f7f7f7"
            ],
            [
             0.6,
             "#e6f5d0"
            ],
            [
             0.7,
             "#b8e186"
            ],
            [
             0.8,
             "#7fbc41"
            ],
            [
             0.9,
             "#4d9221"
            ],
            [
             1,
             "#276419"
            ]
           ],
           "sequential": [
            [
             0,
             "#0d0887"
            ],
            [
             0.1111111111111111,
             "#46039f"
            ],
            [
             0.2222222222222222,
             "#7201a8"
            ],
            [
             0.3333333333333333,
             "#9c179e"
            ],
            [
             0.4444444444444444,
             "#bd3786"
            ],
            [
             0.5555555555555556,
             "#d8576b"
            ],
            [
             0.6666666666666666,
             "#ed7953"
            ],
            [
             0.7777777777777778,
             "#fb9f3a"
            ],
            [
             0.8888888888888888,
             "#fdca26"
            ],
            [
             1,
             "#f0f921"
            ]
           ],
           "sequentialminus": [
            [
             0,
             "#0d0887"
            ],
            [
             0.1111111111111111,
             "#46039f"
            ],
            [
             0.2222222222222222,
             "#7201a8"
            ],
            [
             0.3333333333333333,
             "#9c179e"
            ],
            [
             0.4444444444444444,
             "#bd3786"
            ],
            [
             0.5555555555555556,
             "#d8576b"
            ],
            [
             0.6666666666666666,
             "#ed7953"
            ],
            [
             0.7777777777777778,
             "#fb9f3a"
            ],
            [
             0.8888888888888888,
             "#fdca26"
            ],
            [
             1,
             "#f0f921"
            ]
           ]
          },
          "colorway": [
           "#636efa",
           "#EF553B",
           "#00cc96",
           "#ab63fa",
           "#FFA15A",
           "#19d3f3",
           "#FF6692",
           "#B6E880",
           "#FF97FF",
           "#FECB52"
          ],
          "font": {
           "color": "#2a3f5f"
          },
          "geo": {
           "bgcolor": "white",
           "lakecolor": "white",
           "landcolor": "#E5ECF6",
           "showlakes": true,
           "showland": true,
           "subunitcolor": "white"
          },
          "hoverlabel": {
           "align": "left"
          },
          "hovermode": "closest",
          "mapbox": {
           "style": "light"
          },
          "paper_bgcolor": "white",
          "plot_bgcolor": "#E5ECF6",
          "polar": {
           "angularaxis": {
            "gridcolor": "white",
            "linecolor": "white",
            "ticks": ""
           },
           "bgcolor": "#E5ECF6",
           "radialaxis": {
            "gridcolor": "white",
            "linecolor": "white",
            "ticks": ""
           }
          },
          "scene": {
           "xaxis": {
            "backgroundcolor": "#E5ECF6",
            "gridcolor": "white",
            "gridwidth": 2,
            "linecolor": "white",
            "showbackground": true,
            "ticks": "",
            "zerolinecolor": "white"
           },
           "yaxis": {
            "backgroundcolor": "#E5ECF6",
            "gridcolor": "white",
            "gridwidth": 2,
            "linecolor": "white",
            "showbackground": true,
            "ticks": "",
            "zerolinecolor": "white"
           },
           "zaxis": {
            "backgroundcolor": "#E5ECF6",
            "gridcolor": "white",
            "gridwidth": 2,
            "linecolor": "white",
            "showbackground": true,
            "ticks": "",
            "zerolinecolor": "white"
           }
          },
          "shapedefaults": {
           "line": {
            "color": "#2a3f5f"
           }
          },
          "ternary": {
           "aaxis": {
            "gridcolor": "white",
            "linecolor": "white",
            "ticks": ""
           },
           "baxis": {
            "gridcolor": "white",
            "linecolor": "white",
            "ticks": ""
           },
           "bgcolor": "#E5ECF6",
           "caxis": {
            "gridcolor": "white",
            "linecolor": "white",
            "ticks": ""
           }
          },
          "title": {
           "x": 0.05
          },
          "xaxis": {
           "automargin": true,
           "gridcolor": "white",
           "linecolor": "white",
           "ticks": "",
           "title": {
            "standoff": 15
           },
           "zerolinecolor": "white",
           "zerolinewidth": 2
          },
          "yaxis": {
           "automargin": true,
           "gridcolor": "white",
           "linecolor": "white",
           "ticks": "",
           "title": {
            "standoff": 15
           },
           "zerolinecolor": "white",
           "zerolinewidth": 2
          }
         }
        },
        "title": {
         "text": "Cluster 3"
        }
       }
      }
     },
     "metadata": {},
     "output_type": "display_data"
    },
    {
     "name": "stdout",
     "output_type": "stream",
     "text": [
      "PIB_par_travailleur        16.163085\n",
      "Capital_par_travailleur    15.848607\n",
      "Population_travailleur      1.266068\n",
      "Name: 4, dtype: float64\n"
     ]
    },
    {
     "data": {
      "application/vnd.plotly.v1+json": {
       "config": {
        "plotlyServerURL": "https://plot.ly"
       },
       "data": [
        {
         "fill": "toself",
         "hovertemplate": "r=%{r}<br>index=%{theta}<extra></extra>",
         "legendgroup": "",
         "line": {
          "color": "#636efa",
          "dash": "solid"
         },
         "marker": {
          "symbol": "circle"
         },
         "mode": "lines",
         "name": "",
         "r": [
          16.16308504035481,
          15.848606840773948,
          1.2660679923618252,
          16.16308504035481
         ],
         "showlegend": false,
         "subplot": "polar",
         "theta": [
          "PIB_par_travailleur",
          "Capital_par_travailleur",
          "Population_travailleur",
          "PIB_par_travailleur"
         ],
         "type": "scatterpolar"
        }
       ],
       "layout": {
        "legend": {
         "tracegroupgap": 0
        },
        "polar": {
         "angularaxis": {
          "direction": "clockwise",
          "rotation": 90
         },
         "domain": {
          "x": [
           0,
           1
          ],
          "y": [
           0,
           1
          ]
         }
        },
        "template": {
         "data": {
          "bar": [
           {
            "error_x": {
             "color": "#2a3f5f"
            },
            "error_y": {
             "color": "#2a3f5f"
            },
            "marker": {
             "line": {
              "color": "#E5ECF6",
              "width": 0.5
             },
             "pattern": {
              "fillmode": "overlay",
              "size": 10,
              "solidity": 0.2
             }
            },
            "type": "bar"
           }
          ],
          "barpolar": [
           {
            "marker": {
             "line": {
              "color": "#E5ECF6",
              "width": 0.5
             },
             "pattern": {
              "fillmode": "overlay",
              "size": 10,
              "solidity": 0.2
             }
            },
            "type": "barpolar"
           }
          ],
          "carpet": [
           {
            "aaxis": {
             "endlinecolor": "#2a3f5f",
             "gridcolor": "white",
             "linecolor": "white",
             "minorgridcolor": "white",
             "startlinecolor": "#2a3f5f"
            },
            "baxis": {
             "endlinecolor": "#2a3f5f",
             "gridcolor": "white",
             "linecolor": "white",
             "minorgridcolor": "white",
             "startlinecolor": "#2a3f5f"
            },
            "type": "carpet"
           }
          ],
          "choropleth": [
           {
            "colorbar": {
             "outlinewidth": 0,
             "ticks": ""
            },
            "type": "choropleth"
           }
          ],
          "contour": [
           {
            "colorbar": {
             "outlinewidth": 0,
             "ticks": ""
            },
            "colorscale": [
             [
              0,
              "#0d0887"
             ],
             [
              0.1111111111111111,
              "#46039f"
             ],
             [
              0.2222222222222222,
              "#7201a8"
             ],
             [
              0.3333333333333333,
              "#9c179e"
             ],
             [
              0.4444444444444444,
              "#bd3786"
             ],
             [
              0.5555555555555556,
              "#d8576b"
             ],
             [
              0.6666666666666666,
              "#ed7953"
             ],
             [
              0.7777777777777778,
              "#fb9f3a"
             ],
             [
              0.8888888888888888,
              "#fdca26"
             ],
             [
              1,
              "#f0f921"
             ]
            ],
            "type": "contour"
           }
          ],
          "contourcarpet": [
           {
            "colorbar": {
             "outlinewidth": 0,
             "ticks": ""
            },
            "type": "contourcarpet"
           }
          ],
          "heatmap": [
           {
            "colorbar": {
             "outlinewidth": 0,
             "ticks": ""
            },
            "colorscale": [
             [
              0,
              "#0d0887"
             ],
             [
              0.1111111111111111,
              "#46039f"
             ],
             [
              0.2222222222222222,
              "#7201a8"
             ],
             [
              0.3333333333333333,
              "#9c179e"
             ],
             [
              0.4444444444444444,
              "#bd3786"
             ],
             [
              0.5555555555555556,
              "#d8576b"
             ],
             [
              0.6666666666666666,
              "#ed7953"
             ],
             [
              0.7777777777777778,
              "#fb9f3a"
             ],
             [
              0.8888888888888888,
              "#fdca26"
             ],
             [
              1,
              "#f0f921"
             ]
            ],
            "type": "heatmap"
           }
          ],
          "heatmapgl": [
           {
            "colorbar": {
             "outlinewidth": 0,
             "ticks": ""
            },
            "colorscale": [
             [
              0,
              "#0d0887"
             ],
             [
              0.1111111111111111,
              "#46039f"
             ],
             [
              0.2222222222222222,
              "#7201a8"
             ],
             [
              0.3333333333333333,
              "#9c179e"
             ],
             [
              0.4444444444444444,
              "#bd3786"
             ],
             [
              0.5555555555555556,
              "#d8576b"
             ],
             [
              0.6666666666666666,
              "#ed7953"
             ],
             [
              0.7777777777777778,
              "#fb9f3a"
             ],
             [
              0.8888888888888888,
              "#fdca26"
             ],
             [
              1,
              "#f0f921"
             ]
            ],
            "type": "heatmapgl"
           }
          ],
          "histogram": [
           {
            "marker": {
             "pattern": {
              "fillmode": "overlay",
              "size": 10,
              "solidity": 0.2
             }
            },
            "type": "histogram"
           }
          ],
          "histogram2d": [
           {
            "colorbar": {
             "outlinewidth": 0,
             "ticks": ""
            },
            "colorscale": [
             [
              0,
              "#0d0887"
             ],
             [
              0.1111111111111111,
              "#46039f"
             ],
             [
              0.2222222222222222,
              "#7201a8"
             ],
             [
              0.3333333333333333,
              "#9c179e"
             ],
             [
              0.4444444444444444,
              "#bd3786"
             ],
             [
              0.5555555555555556,
              "#d8576b"
             ],
             [
              0.6666666666666666,
              "#ed7953"
             ],
             [
              0.7777777777777778,
              "#fb9f3a"
             ],
             [
              0.8888888888888888,
              "#fdca26"
             ],
             [
              1,
              "#f0f921"
             ]
            ],
            "type": "histogram2d"
           }
          ],
          "histogram2dcontour": [
           {
            "colorbar": {
             "outlinewidth": 0,
             "ticks": ""
            },
            "colorscale": [
             [
              0,
              "#0d0887"
             ],
             [
              0.1111111111111111,
              "#46039f"
             ],
             [
              0.2222222222222222,
              "#7201a8"
             ],
             [
              0.3333333333333333,
              "#9c179e"
             ],
             [
              0.4444444444444444,
              "#bd3786"
             ],
             [
              0.5555555555555556,
              "#d8576b"
             ],
             [
              0.6666666666666666,
              "#ed7953"
             ],
             [
              0.7777777777777778,
              "#fb9f3a"
             ],
             [
              0.8888888888888888,
              "#fdca26"
             ],
             [
              1,
              "#f0f921"
             ]
            ],
            "type": "histogram2dcontour"
           }
          ],
          "mesh3d": [
           {
            "colorbar": {
             "outlinewidth": 0,
             "ticks": ""
            },
            "type": "mesh3d"
           }
          ],
          "parcoords": [
           {
            "line": {
             "colorbar": {
              "outlinewidth": 0,
              "ticks": ""
             }
            },
            "type": "parcoords"
           }
          ],
          "pie": [
           {
            "automargin": true,
            "type": "pie"
           }
          ],
          "scatter": [
           {
            "fillpattern": {
             "fillmode": "overlay",
             "size": 10,
             "solidity": 0.2
            },
            "type": "scatter"
           }
          ],
          "scatter3d": [
           {
            "line": {
             "colorbar": {
              "outlinewidth": 0,
              "ticks": ""
             }
            },
            "marker": {
             "colorbar": {
              "outlinewidth": 0,
              "ticks": ""
             }
            },
            "type": "scatter3d"
           }
          ],
          "scattercarpet": [
           {
            "marker": {
             "colorbar": {
              "outlinewidth": 0,
              "ticks": ""
             }
            },
            "type": "scattercarpet"
           }
          ],
          "scattergeo": [
           {
            "marker": {
             "colorbar": {
              "outlinewidth": 0,
              "ticks": ""
             }
            },
            "type": "scattergeo"
           }
          ],
          "scattergl": [
           {
            "marker": {
             "colorbar": {
              "outlinewidth": 0,
              "ticks": ""
             }
            },
            "type": "scattergl"
           }
          ],
          "scattermapbox": [
           {
            "marker": {
             "colorbar": {
              "outlinewidth": 0,
              "ticks": ""
             }
            },
            "type": "scattermapbox"
           }
          ],
          "scatterpolar": [
           {
            "marker": {
             "colorbar": {
              "outlinewidth": 0,
              "ticks": ""
             }
            },
            "type": "scatterpolar"
           }
          ],
          "scatterpolargl": [
           {
            "marker": {
             "colorbar": {
              "outlinewidth": 0,
              "ticks": ""
             }
            },
            "type": "scatterpolargl"
           }
          ],
          "scatterternary": [
           {
            "marker": {
             "colorbar": {
              "outlinewidth": 0,
              "ticks": ""
             }
            },
            "type": "scatterternary"
           }
          ],
          "surface": [
           {
            "colorbar": {
             "outlinewidth": 0,
             "ticks": ""
            },
            "colorscale": [
             [
              0,
              "#0d0887"
             ],
             [
              0.1111111111111111,
              "#46039f"
             ],
             [
              0.2222222222222222,
              "#7201a8"
             ],
             [
              0.3333333333333333,
              "#9c179e"
             ],
             [
              0.4444444444444444,
              "#bd3786"
             ],
             [
              0.5555555555555556,
              "#d8576b"
             ],
             [
              0.6666666666666666,
              "#ed7953"
             ],
             [
              0.7777777777777778,
              "#fb9f3a"
             ],
             [
              0.8888888888888888,
              "#fdca26"
             ],
             [
              1,
              "#f0f921"
             ]
            ],
            "type": "surface"
           }
          ],
          "table": [
           {
            "cells": {
             "fill": {
              "color": "#EBF0F8"
             },
             "line": {
              "color": "white"
             }
            },
            "header": {
             "fill": {
              "color": "#C8D4E3"
             },
             "line": {
              "color": "white"
             }
            },
            "type": "table"
           }
          ]
         },
         "layout": {
          "annotationdefaults": {
           "arrowcolor": "#2a3f5f",
           "arrowhead": 0,
           "arrowwidth": 1
          },
          "autotypenumbers": "strict",
          "coloraxis": {
           "colorbar": {
            "outlinewidth": 0,
            "ticks": ""
           }
          },
          "colorscale": {
           "diverging": [
            [
             0,
             "#8e0152"
            ],
            [
             0.1,
             "#c51b7d"
            ],
            [
             0.2,
             "#de77ae"
            ],
            [
             0.3,
             "#f1b6da"
            ],
            [
             0.4,
             "#fde0ef"
            ],
            [
             0.5,
             "#f7f7f7"
            ],
            [
             0.6,
             "#e6f5d0"
            ],
            [
             0.7,
             "#b8e186"
            ],
            [
             0.8,
             "#7fbc41"
            ],
            [
             0.9,
             "#4d9221"
            ],
            [
             1,
             "#276419"
            ]
           ],
           "sequential": [
            [
             0,
             "#0d0887"
            ],
            [
             0.1111111111111111,
             "#46039f"
            ],
            [
             0.2222222222222222,
             "#7201a8"
            ],
            [
             0.3333333333333333,
             "#9c179e"
            ],
            [
             0.4444444444444444,
             "#bd3786"
            ],
            [
             0.5555555555555556,
             "#d8576b"
            ],
            [
             0.6666666666666666,
             "#ed7953"
            ],
            [
             0.7777777777777778,
             "#fb9f3a"
            ],
            [
             0.8888888888888888,
             "#fdca26"
            ],
            [
             1,
             "#f0f921"
            ]
           ],
           "sequentialminus": [
            [
             0,
             "#0d0887"
            ],
            [
             0.1111111111111111,
             "#46039f"
            ],
            [
             0.2222222222222222,
             "#7201a8"
            ],
            [
             0.3333333333333333,
             "#9c179e"
            ],
            [
             0.4444444444444444,
             "#bd3786"
            ],
            [
             0.5555555555555556,
             "#d8576b"
            ],
            [
             0.6666666666666666,
             "#ed7953"
            ],
            [
             0.7777777777777778,
             "#fb9f3a"
            ],
            [
             0.8888888888888888,
             "#fdca26"
            ],
            [
             1,
             "#f0f921"
            ]
           ]
          },
          "colorway": [
           "#636efa",
           "#EF553B",
           "#00cc96",
           "#ab63fa",
           "#FFA15A",
           "#19d3f3",
           "#FF6692",
           "#B6E880",
           "#FF97FF",
           "#FECB52"
          ],
          "font": {
           "color": "#2a3f5f"
          },
          "geo": {
           "bgcolor": "white",
           "lakecolor": "white",
           "landcolor": "#E5ECF6",
           "showlakes": true,
           "showland": true,
           "subunitcolor": "white"
          },
          "hoverlabel": {
           "align": "left"
          },
          "hovermode": "closest",
          "mapbox": {
           "style": "light"
          },
          "paper_bgcolor": "white",
          "plot_bgcolor": "#E5ECF6",
          "polar": {
           "angularaxis": {
            "gridcolor": "white",
            "linecolor": "white",
            "ticks": ""
           },
           "bgcolor": "#E5ECF6",
           "radialaxis": {
            "gridcolor": "white",
            "linecolor": "white",
            "ticks": ""
           }
          },
          "scene": {
           "xaxis": {
            "backgroundcolor": "#E5ECF6",
            "gridcolor": "white",
            "gridwidth": 2,
            "linecolor": "white",
            "showbackground": true,
            "ticks": "",
            "zerolinecolor": "white"
           },
           "yaxis": {
            "backgroundcolor": "#E5ECF6",
            "gridcolor": "white",
            "gridwidth": 2,
            "linecolor": "white",
            "showbackground": true,
            "ticks": "",
            "zerolinecolor": "white"
           },
           "zaxis": {
            "backgroundcolor": "#E5ECF6",
            "gridcolor": "white",
            "gridwidth": 2,
            "linecolor": "white",
            "showbackground": true,
            "ticks": "",
            "zerolinecolor": "white"
           }
          },
          "shapedefaults": {
           "line": {
            "color": "#2a3f5f"
           }
          },
          "ternary": {
           "aaxis": {
            "gridcolor": "white",
            "linecolor": "white",
            "ticks": ""
           },
           "baxis": {
            "gridcolor": "white",
            "linecolor": "white",
            "ticks": ""
           },
           "bgcolor": "#E5ECF6",
           "caxis": {
            "gridcolor": "white",
            "linecolor": "white",
            "ticks": ""
           }
          },
          "title": {
           "x": 0.05
          },
          "xaxis": {
           "automargin": true,
           "gridcolor": "white",
           "linecolor": "white",
           "ticks": "",
           "title": {
            "standoff": 15
           },
           "zerolinecolor": "white",
           "zerolinewidth": 2
          },
          "yaxis": {
           "automargin": true,
           "gridcolor": "white",
           "linecolor": "white",
           "ticks": "",
           "title": {
            "standoff": 15
           },
           "zerolinecolor": "white",
           "zerolinewidth": 2
          }
         }
        },
        "title": {
         "text": "Cluster 4"
        }
       }
      }
     },
     "metadata": {},
     "output_type": "display_data"
    }
   ],
   "source": [
    "# Caractéristiques des clusters à partir des scores obtenus pour chaque variable\n",
    "clusters_descr = d.clustering_interpretations(df_labels)"
   ]
  },
  {
   "cell_type": "markdown",
   "metadata": {},
   "source": [
    "<ul style=\"line-height: 1.6; font-family: 'Serial', serif; font-size: 18px;\">\n",
    "<li><strong>Cluster 0 : Pays à revenu intermédiaire et capital relativement élevé</strong>\n",
    "    <ul style=\"line-height: 1.6; font-family: 'Serial', serif; font-size: 18px;\">\n",
    "        <li><strong>Caractéristiques principales :</strong>\n",
    "            <ul style=\"line-height: 1.6; font-family: 'Serial', serif; font-size: 18px;\">\n",
    "                <li>PIB par travailleur et capital par travailleur modérés : des scores intermédiaires pour 'PIB_par_travailleur' et 'Capital_par_travailleur'.</li>\n",
    "                <li>Population active relativement faible : score modéré pour 'Population_travailleur'.</li>\n",
    "                <li>Économie en croissance, mais avec un potentiel d'augmentation des investissements en capital et de la productivité.</li>\n",
    "            </ul>\n",
    "        </li>\n",
    "        <li><strong>Interprétation :</strong>\n",
    "            <ul style=\"line-height: 1.6; font-family: 'Serial', serif; font-size: 18px;\">\n",
    "                <li>Représente des pays ayant des économies en développement avec une main-d'œuvre modeste et des niveaux de capital raisonnables.</li>\n",
    "            </ul>\n",
    "        </li>\n",
    "    </ul>\n",
    "</li>\n",
    "\n",
    "<li><strong>Cluster 1 : Pays à faible capital et PIB faible par travailleur</strong>\n",
    "    <ul style=\"line-height: 1.6; font-family: 'Serial', serif; font-size: 18px;\">\n",
    "        <li><strong>Caractéristiques principales :</strong>\n",
    "            <ul style=\"line-height: 1.6; font-family: 'Serial', serif; font-size: 18px;\">\n",
    "                <li>Faible PIB par travailleur et capital par travailleur : scores faibles pour 'PIB_par_travailleur' et 'Capital_par_travailleur'.</li>\n",
    "                <li>Population active moyenne : score modéré pour 'Population_travailleur'.</li>\n",
    "                <li>Économie peu développée avec des investissements limités en capital et une faible productivité par travailleur.</li>\n",
    "            </ul>\n",
    "        </li>\n",
    "        <li><strong>Interprétation :</strong>\n",
    "            <ul style=\"line-height: 1.6; font-family: 'Serial', serif; font-size: 18px;\">\n",
    "                <li>Représente des pays à faible niveau de développement économique avec une population active modérée et un faible capital.</li>\n",
    "            </ul>\n",
    "        </li>\n",
    "    </ul>\n",
    "</li>\n",
    "\n",
    "<li><strong>Cluster 2 : Pays très riches avec un capital et PIB par travailleur très élevés</strong>\n",
    "    <ul style=\"line-height: 1.6; font-family: 'Serial', serif; font-size: 18px;\">\n",
    "        <li><strong>Caractéristiques principales :</strong>\n",
    "            <ul style=\"line-height: 1.6; font-family: 'Serial', serif; font-size: 18px;\">\n",
    "                <li>Très haut PIB par travailleur et capital par travailleur : scores maximaux pour 'PIB_par_travailleur' et 'Capital_par_travailleur'.</li>\n",
    "                <li>Population active extrêmement faible : score nul pour 'Population_travailleur'.</li>\n",
    "                <li>Économie hautement développée, avec des investissements importants en capital et une productivité très élevée par travailleur.</li>\n",
    "            </ul>\n",
    "        </li>\n",
    "        <li><strong>Interprétation :</strong>\n",
    "            <ul style=\"line-height: 1.6; font-family: 'Serial', serif; font-size: 18px;\">\n",
    "                <li>Représente des pays très développés avec une faible population active, souvent des pays riches avec des industries automatisées ou des économies de services.</li>\n",
    "            </ul>\n",
    "        </li>\n",
    "    </ul>\n",
    "</li>\n",
    "\n",
    "<li><strong>Cluster 3 : Pays à très faible PIB et capital, mais une population active élevée</strong>\n",
    "    <ul style=\"line-height: 1.6; font-family: 'Serial', serif; font-size: 18px;\">\n",
    "        <li><strong>Caractéristiques principales :</strong>\n",
    "            <ul style=\"line-height: 1.6; font-family: 'Serial', serif; font-size: 18px;\">\n",
    "                <li>PIB par travailleur et capital par travailleur extrêmement faibles : scores nuls pour 'PIB_par_travailleur' et 'Capital_par_travailleur'.</li>\n",
    "                <li>Population active très élevée : score maximal pour 'Population_travailleur'.</li>\n",
    "                <li>Économie avec une main-d'œuvre abondante mais sous-développée, peu d'investissements en capital et une faible productivité par travailleur.</li>\n",
    "            </ul>\n",
    "        </li>\n",
    "        <li><strong>Interprétation :</strong>\n",
    "            <ul style=\"line-height: 1.6; font-family: 'Serial', serif; font-size: 18px;\">\n",
    "                <li>Représente des pays ayant une grande population active mais des difficultés économiques, souvent caractérisés par des niveaux très bas de capital et de productivité.</li>\n",
    "            </ul>\n",
    "        </li>\n",
    "    </ul>\n",
    "</li>\n",
    "\n",
    "<li><strong>Cluster 4 : Pays en développement avec capital et PIB faibles, mais une population active modérée</strong>\n",
    "    <ul style=\"line-height: 1.6; font-family: 'Serial', serif; font-size: 18px;\">\n",
    "        <li><strong>Caractéristiques principales :</strong>\n",
    "            <ul style=\"line-height: 1.6; font-family: 'Serial', serif; font-size: 18px;\">\n",
    "                <li>PIB par travailleur et capital par travailleur faibles : scores relativement faibles pour 'PIB_par_travailleur' et 'Capital_par_travailleur'.</li>\n",
    "                <li>Population active faible : score relativement bas pour 'Population_travailleur'.</li>\n",
    "                <li>Économie modeste avec un potentiel de croissance si les investissements en capital et la productivité augmentent.</li>\n",
    "            </ul>\n",
    "        </li>\n",
    "        <li><strong>Interprétation :</strong>\n",
    "            <ul style=\"line-height: 1.6; font-family: 'Serial', serif; font-size: 18px;\">\n",
    "                <li>Représente des pays en développement avec des niveaux modérés de capital et de population active, en attente d'une croissance future basée sur des réformes économiques et des investissements.</li>\n",
    "            </ul>\n",
    "        </li>\n",
    "    </ul>\n",
    "</li>\n",
    "\n"
   ]
  },
  {
   "cell_type": "markdown",
   "metadata": {},
   "source": [
    "<p style=\"line-height: 1.6; font-family: 'Serial', serif; font-size: 18px;\"> Notons clairement que ces interprétations sont faites uniquements sur la base des indicateurs qu'on a à savoir le PIB par tête de travailleur, le capital par tete de travailleur et la population active. Donc cela pourrait ne pas être exactement le vérité. Du moins, c'est à titre approximatif</p>"
   ]
  },
  {
   "cell_type": "code",
   "execution_count": 169,
   "metadata": {},
   "outputs": [
    {
     "name": "stdout",
     "output_type": "stream",
     "text": [
      "Le cluster 0 contient 23 pays\n",
      "Le cluster 1 contient 66 pays\n",
      "Le cluster 2 contient 3 pays\n",
      "Le cluster 3 contient 1 pays\n",
      "Le cluster 4 contient 24 pays\n"
     ]
    }
   ],
   "source": [
    "# obtenir la liste des pays\n",
    "countries_cluster_0 = df_labels[df_labels['predicted_label'] == 0]['Country'].tolist()\n",
    "countries_cluster_1 = df_labels[df_labels['predicted_label'] == 1]['Country'].tolist()\n",
    "countries_cluster_2 = df_labels[df_labels['predicted_label'] == 2]['Country'].tolist()\n",
    "countries_cluster_3 = df_labels[df_labels['predicted_label'] == 3]['Country'].tolist()\n",
    "countries_cluster_4 = df_labels[df_labels['predicted_label'] == 4]['Country'].tolist()\n",
    "\n",
    "print(f\"Le cluster 0 contient {len(countries_cluster_0)} pays\")\n",
    "print(f\"Le cluster 1 contient {len(countries_cluster_1)} pays\")\n",
    "print(f\"Le cluster 2 contient {len(countries_cluster_2)} pays\")\n",
    "print(f\"Le cluster 3 contient {len(countries_cluster_3)} pays\")\n",
    "print(f\"Le cluster 4 contient {len(countries_cluster_4)} pays\")"
   ]
  },
  {
   "cell_type": "markdown",
   "metadata": {},
   "source": [
    "<p style=\"line-height: 1.6; font-family: 'Serial', serif; font-size: 18px;\"> Le cluster 3 cotient un seul pays. Cela rend la regression impossible pour ce pays. Etant donné que pour ce pays, c'est la population active qui a le plus grand score, nous allons l'associer au 2è cluster qui a le plus grand score c'est-à-dire le cluster 0. <br> De même le cluster 2 contient uniquement 3 pays. Cela complique la regression il y a autant de variables que d'observations. Afin d'éviter cela, nous mettrons ces pays dans le cluster 0 dont les caractéristiques se rapprochent de celles du cluster 3.</p>"
   ]
  },
  {
   "cell_type": "code",
   "execution_count": 170,
   "metadata": {},
   "outputs": [
    {
     "name": "stdout",
     "output_type": "stream",
     "text": [
      "Le cluster 0 contient 27 pays\n"
     ]
    }
   ],
   "source": [
    "# Intégation du pays du cluster 3 dans le cluster 0\n",
    "countries_cluster_0.extend(countries_cluster_3)\n",
    "\n",
    "# Intégation du pays du cluster 2 dans le cluster 0\n",
    "countries_cluster_0.extend(countries_cluster_2)\n",
    "# Vérification\n",
    "print(f\"Le cluster 0 contient {len(countries_cluster_0)} pays\")"
   ]
  },
  {
   "cell_type": "markdown",
   "metadata": {},
   "source": [
    "<h2 style=\"font-family: 'Georgia', serif; text-align: center; font-size: 23px; color: #3498db;\">II.2- <u>Regression</u></h2>"
   ]
  },
  {
   "cell_type": "code",
   "execution_count": 171,
   "metadata": {},
   "outputs": [],
   "source": [
    "\n",
    "\n",
    "# Filter la base\n",
    "\n",
    "cluster0, cluster1 = d.former_echantillons(data_var, country_col='Country', liste1 = countries_cluster_0, liste2= countries_cluster_1)\n",
    "cluster1, cluster4 = d.former_echantillons(data_var, country_col='Country', liste1 = countries_cluster_1, liste2= countries_cluster_4)\n",
    "\n"
   ]
  },
  {
   "cell_type": "markdown",
   "metadata": {},
   "source": [
    "<h2 style=\"font-family: 'Georgia', serif; text-align: center; font-size: 20px; color: #3498db;\"> Cluster 0: Pays à revenu intermédiaire et capital relativement élevés</h2>"
   ]
  },
  {
   "cell_type": "code",
   "execution_count": 172,
   "metadata": {},
   "outputs": [
    {
     "data": {
      "text/html": [
       "<div>\n",
       "<style scoped>\n",
       "    .dataframe tbody tr th:only-of-type {\n",
       "        vertical-align: middle;\n",
       "    }\n",
       "\n",
       "    .dataframe tbody tr th {\n",
       "        vertical-align: top;\n",
       "    }\n",
       "\n",
       "    .dataframe thead th {\n",
       "        text-align: right;\n",
       "    }\n",
       "</style>\n",
       "<table border=\"1\" class=\"dataframe\">\n",
       "  <thead>\n",
       "    <tr style=\"text-align: right;\">\n",
       "      <th></th>\n",
       "      <th>Country</th>\n",
       "      <th>Country_Code</th>\n",
       "      <th>log_PIB_par_tete</th>\n",
       "      <th>log_s</th>\n",
       "      <th>log_n_g_sigma</th>\n",
       "    </tr>\n",
       "  </thead>\n",
       "  <tbody>\n",
       "    <tr>\n",
       "      <th>4</th>\n",
       "      <td>Australia</td>\n",
       "      <td>AUS</td>\n",
       "      <td>11.465333</td>\n",
       "      <td>-1.459503</td>\n",
       "      <td>-2.772157</td>\n",
       "    </tr>\n",
       "    <tr>\n",
       "      <th>5</th>\n",
       "      <td>Austria</td>\n",
       "      <td>AUT</td>\n",
       "      <td>11.166349</td>\n",
       "      <td>-1.410144</td>\n",
       "      <td>-2.912181</td>\n",
       "    </tr>\n",
       "    <tr>\n",
       "      <th>6</th>\n",
       "      <td>Bahamas, The</td>\n",
       "      <td>BHS</td>\n",
       "      <td>10.697672</td>\n",
       "      <td>-1.533763</td>\n",
       "      <td>-2.761060</td>\n",
       "    </tr>\n",
       "    <tr>\n",
       "      <th>9</th>\n",
       "      <td>Belgium</td>\n",
       "      <td>BEL</td>\n",
       "      <td>11.161546</td>\n",
       "      <td>-1.491199</td>\n",
       "      <td>-2.927780</td>\n",
       "    </tr>\n",
       "    <tr>\n",
       "      <th>15</th>\n",
       "      <td>Brunei Darussalam</td>\n",
       "      <td>BRN</td>\n",
       "      <td>10.587601</td>\n",
       "      <td>-1.288453</td>\n",
       "      <td>-2.627434</td>\n",
       "    </tr>\n",
       "    <tr>\n",
       "      <th>20</th>\n",
       "      <td>Canada</td>\n",
       "      <td>CAN</td>\n",
       "      <td>11.128148</td>\n",
       "      <td>-1.509221</td>\n",
       "      <td>-2.812781</td>\n",
       "    </tr>\n",
       "    <tr>\n",
       "      <th>32</th>\n",
       "      <td>Denmark</td>\n",
       "      <td>DNK</td>\n",
       "      <td>11.477082</td>\n",
       "      <td>-1.637918</td>\n",
       "      <td>-2.944132</td>\n",
       "    </tr>\n",
       "    <tr>\n",
       "      <th>38</th>\n",
       "      <td>Finland</td>\n",
       "      <td>FIN</td>\n",
       "      <td>11.213754</td>\n",
       "      <td>-1.488671</td>\n",
       "      <td>-2.981966</td>\n",
       "    </tr>\n",
       "    <tr>\n",
       "      <th>39</th>\n",
       "      <td>France</td>\n",
       "      <td>FRA</td>\n",
       "      <td>11.061010</td>\n",
       "      <td>-1.537683</td>\n",
       "      <td>-2.942866</td>\n",
       "    </tr>\n",
       "    <tr>\n",
       "      <th>41</th>\n",
       "      <td>Germany</td>\n",
       "      <td>DEU</td>\n",
       "      <td>11.156943</td>\n",
       "      <td>-1.591586</td>\n",
       "      <td>-3.020060</td>\n",
       "    </tr>\n",
       "    <tr>\n",
       "      <th>45</th>\n",
       "      <td>Hong Kong SAR, China</td>\n",
       "      <td>HKG</td>\n",
       "      <td>11.072930</td>\n",
       "      <td>-1.429330</td>\n",
       "      <td>-2.858409</td>\n",
       "    </tr>\n",
       "    <tr>\n",
       "      <th>47</th>\n",
       "      <td>Iceland</td>\n",
       "      <td>ISL</td>\n",
       "      <td>11.393458</td>\n",
       "      <td>-1.524990</td>\n",
       "      <td>-2.744748</td>\n",
       "    </tr>\n",
       "    <tr>\n",
       "      <th>48</th>\n",
       "      <td>India</td>\n",
       "      <td>IND</td>\n",
       "      <td>8.097936</td>\n",
       "      <td>-1.347162</td>\n",
       "      <td>-2.648446</td>\n",
       "    </tr>\n",
       "    <tr>\n",
       "      <th>51</th>\n",
       "      <td>Ireland</td>\n",
       "      <td>IRL</td>\n",
       "      <td>11.849725</td>\n",
       "      <td>-1.479629</td>\n",
       "      <td>-2.741428</td>\n",
       "    </tr>\n",
       "    <tr>\n",
       "      <th>52</th>\n",
       "      <td>Israel</td>\n",
       "      <td>ISR</td>\n",
       "      <td>11.176852</td>\n",
       "      <td>-1.462929</td>\n",
       "      <td>-2.618788</td>\n",
       "    </tr>\n",
       "    <tr>\n",
       "      <th>53</th>\n",
       "      <td>Italy</td>\n",
       "      <td>ITA</td>\n",
       "      <td>10.888682</td>\n",
       "      <td>-1.612036</td>\n",
       "      <td>-3.017393</td>\n",
       "    </tr>\n",
       "    <tr>\n",
       "      <th>54</th>\n",
       "      <td>Japan</td>\n",
       "      <td>JPN</td>\n",
       "      <td>11.049629</td>\n",
       "      <td>-1.282644</td>\n",
       "      <td>-3.099870</td>\n",
       "    </tr>\n",
       "    <tr>\n",
       "      <th>62</th>\n",
       "      <td>Luxembourg</td>\n",
       "      <td>LUX</td>\n",
       "      <td>11.944416</td>\n",
       "      <td>-1.752042</td>\n",
       "      <td>-2.704038</td>\n",
       "    </tr>\n",
       "    <tr>\n",
       "      <th>63</th>\n",
       "      <td>Macao SAR, China</td>\n",
       "      <td>MAC</td>\n",
       "      <td>11.318055</td>\n",
       "      <td>-1.602789</td>\n",
       "      <td>-2.618334</td>\n",
       "    </tr>\n",
       "    <tr>\n",
       "      <th>73</th>\n",
       "      <td>Netherlands</td>\n",
       "      <td>NLD</td>\n",
       "      <td>11.281398</td>\n",
       "      <td>-1.605314</td>\n",
       "      <td>-2.927854</td>\n",
       "    </tr>\n",
       "    <tr>\n",
       "      <th>74</th>\n",
       "      <td>New Zealand</td>\n",
       "      <td>NZL</td>\n",
       "      <td>11.073312</td>\n",
       "      <td>-1.595064</td>\n",
       "      <td>-2.759456</td>\n",
       "    </tr>\n",
       "    <tr>\n",
       "      <th>78</th>\n",
       "      <td>Norway</td>\n",
       "      <td>NOR</td>\n",
       "      <td>11.707501</td>\n",
       "      <td>-1.509943</td>\n",
       "      <td>-2.845357</td>\n",
       "    </tr>\n",
       "    <tr>\n",
       "      <th>93</th>\n",
       "      <td>Singapore</td>\n",
       "      <td>SGP</td>\n",
       "      <td>11.374742</td>\n",
       "      <td>-1.308724</td>\n",
       "      <td>-2.642250</td>\n",
       "    </tr>\n",
       "    <tr>\n",
       "      <th>99</th>\n",
       "      <td>Sweden</td>\n",
       "      <td>SWE</td>\n",
       "      <td>11.379628</td>\n",
       "      <td>-1.496975</td>\n",
       "      <td>-2.894598</td>\n",
       "    </tr>\n",
       "    <tr>\n",
       "      <th>100</th>\n",
       "      <td>Switzerland</td>\n",
       "      <td>CHE</td>\n",
       "      <td>11.827604</td>\n",
       "      <td>-1.354453</td>\n",
       "      <td>-2.861508</td>\n",
       "    </tr>\n",
       "    <tr>\n",
       "      <th>110</th>\n",
       "      <td>United Kingdom</td>\n",
       "      <td>GBR</td>\n",
       "      <td>11.221197</td>\n",
       "      <td>-1.772419</td>\n",
       "      <td>-2.907483</td>\n",
       "    </tr>\n",
       "    <tr>\n",
       "      <th>111</th>\n",
       "      <td>United States</td>\n",
       "      <td>USA</td>\n",
       "      <td>11.526707</td>\n",
       "      <td>-1.614939</td>\n",
       "      <td>-2.840240</td>\n",
       "    </tr>\n",
       "  </tbody>\n",
       "</table>\n",
       "</div>"
      ],
      "text/plain": [
       "                  Country Country_Code  log_PIB_par_tete     log_s  \\\n",
       "4               Australia          AUS         11.465333 -1.459503   \n",
       "5                 Austria          AUT         11.166349 -1.410144   \n",
       "6            Bahamas, The          BHS         10.697672 -1.533763   \n",
       "9                 Belgium          BEL         11.161546 -1.491199   \n",
       "15      Brunei Darussalam          BRN         10.587601 -1.288453   \n",
       "20                 Canada          CAN         11.128148 -1.509221   \n",
       "32                Denmark          DNK         11.477082 -1.637918   \n",
       "38                Finland          FIN         11.213754 -1.488671   \n",
       "39                 France          FRA         11.061010 -1.537683   \n",
       "41                Germany          DEU         11.156943 -1.591586   \n",
       "45   Hong Kong SAR, China          HKG         11.072930 -1.429330   \n",
       "47                Iceland          ISL         11.393458 -1.524990   \n",
       "48                  India          IND          8.097936 -1.347162   \n",
       "51                Ireland          IRL         11.849725 -1.479629   \n",
       "52                 Israel          ISR         11.176852 -1.462929   \n",
       "53                  Italy          ITA         10.888682 -1.612036   \n",
       "54                  Japan          JPN         11.049629 -1.282644   \n",
       "62             Luxembourg          LUX         11.944416 -1.752042   \n",
       "63       Macao SAR, China          MAC         11.318055 -1.602789   \n",
       "73            Netherlands          NLD         11.281398 -1.605314   \n",
       "74            New Zealand          NZL         11.073312 -1.595064   \n",
       "78                 Norway          NOR         11.707501 -1.509943   \n",
       "93              Singapore          SGP         11.374742 -1.308724   \n",
       "99                 Sweden          SWE         11.379628 -1.496975   \n",
       "100           Switzerland          CHE         11.827604 -1.354453   \n",
       "110        United Kingdom          GBR         11.221197 -1.772419   \n",
       "111         United States          USA         11.526707 -1.614939   \n",
       "\n",
       "     log_n_g_sigma  \n",
       "4        -2.772157  \n",
       "5        -2.912181  \n",
       "6        -2.761060  \n",
       "9        -2.927780  \n",
       "15       -2.627434  \n",
       "20       -2.812781  \n",
       "32       -2.944132  \n",
       "38       -2.981966  \n",
       "39       -2.942866  \n",
       "41       -3.020060  \n",
       "45       -2.858409  \n",
       "47       -2.744748  \n",
       "48       -2.648446  \n",
       "51       -2.741428  \n",
       "52       -2.618788  \n",
       "53       -3.017393  \n",
       "54       -3.099870  \n",
       "62       -2.704038  \n",
       "63       -2.618334  \n",
       "73       -2.927854  \n",
       "74       -2.759456  \n",
       "78       -2.845357  \n",
       "93       -2.642250  \n",
       "99       -2.894598  \n",
       "100      -2.861508  \n",
       "110      -2.907483  \n",
       "111      -2.840240  "
      ]
     },
     "execution_count": 172,
     "metadata": {},
     "output_type": "execute_result"
    }
   ],
   "source": [
    "cluster0"
   ]
  },
  {
   "cell_type": "code",
   "execution_count": 173,
   "metadata": {},
   "outputs": [
    {
     "name": "stdout",
     "output_type": "stream",
     "text": [
      "                            OLS Regression Results                            \n",
      "==============================================================================\n",
      "Dep. Variable:       log_PIB_par_tete   R-squared:                       0.124\n",
      "Model:                            OLS   Adj. R-squared:                  0.051\n",
      "Method:                 Least Squares   F-statistic:                     1.697\n",
      "Date:                Sun, 29 Dec 2024   Prob (F-statistic):              0.204\n",
      "Time:                        21:06:12   Log-Likelihood:                -26.009\n",
      "No. Observations:                  27   AIC:                             58.02\n",
      "Df Residuals:                      24   BIC:                             61.91\n",
      "Df Model:                           2                                         \n",
      "Covariance Type:            nonrobust                                         \n",
      "=================================================================================\n",
      "                    coef    std err          t      P>|t|      [0.025      0.975]\n",
      "---------------------------------------------------------------------------------\n",
      "const             6.6594      3.001      2.219      0.036       0.467      12.852\n",
      "log_s            -1.6581      1.059     -1.566      0.131      -3.844       0.528\n",
      "log_n_g_sigma    -0.7067      0.989     -0.715      0.482      -2.748       1.334\n",
      "==============================================================================\n",
      "Omnibus:                       36.429   Durbin-Watson:                   2.447\n",
      "Prob(Omnibus):                  0.000   Jarque-Bera (JB):              119.354\n",
      "Skew:                          -2.533   Prob(JB):                     1.21e-26\n",
      "Kurtosis:                      11.968   Cond. No.                         81.6\n",
      "==============================================================================\n",
      "\n",
      "Notes:\n",
      "[1] Standard Errors assume that the covariance matrix of the errors is correctly specified.\n"
     ]
    }
   ],
   "source": [
    "# Regression\n",
    "\n",
    "regression_summary = d.perform_regression(\n",
    "    data=cluster0,\n",
    "    dependent_var='log_PIB_par_tete',\n",
    "    independent_vars=['log_s', 'log_n_g_sigma']\n",
    ")\n",
    "print(regression_summary)"
   ]
  },
  {
   "cell_type": "markdown",
   "metadata": {},
   "source": [
    "<p style=\"line-height: 1.6; font-family: 'Serial', serif; font-size: 18px;\"> Le modèle explique 12,4% de la croissance. Cependant il n'est pas globalement significatif (pvalue = 0,20 > 0,05). De plus les coefficients ne sont pas significatifs.</p>"
   ]
  },
  {
   "cell_type": "markdown",
   "metadata": {},
   "source": [
    "<h2 style=\"font-family: 'Georgia', serif; text-align: center; font-size: 20px; color: #3498db;\"> Cluster 1: Pays à faibles capitals et PIB par travailleur.</h2>"
   ]
  },
  {
   "cell_type": "code",
   "execution_count": 174,
   "metadata": {},
   "outputs": [
    {
     "data": {
      "text/html": [
       "<div>\n",
       "<style scoped>\n",
       "    .dataframe tbody tr th:only-of-type {\n",
       "        vertical-align: middle;\n",
       "    }\n",
       "\n",
       "    .dataframe tbody tr th {\n",
       "        vertical-align: top;\n",
       "    }\n",
       "\n",
       "    .dataframe thead th {\n",
       "        text-align: right;\n",
       "    }\n",
       "</style>\n",
       "<table border=\"1\" class=\"dataframe\">\n",
       "  <thead>\n",
       "    <tr style=\"text-align: right;\">\n",
       "      <th></th>\n",
       "      <th>Country</th>\n",
       "      <th>Country_Code</th>\n",
       "      <th>log_PIB_par_tete</th>\n",
       "      <th>log_s</th>\n",
       "      <th>log_n_g_sigma</th>\n",
       "    </tr>\n",
       "  </thead>\n",
       "  <tbody>\n",
       "    <tr>\n",
       "      <th>0</th>\n",
       "      <td>Albania</td>\n",
       "      <td>ALB</td>\n",
       "      <td>9.003409</td>\n",
       "      <td>-1.078246</td>\n",
       "      <td>-3.062085</td>\n",
       "    </tr>\n",
       "    <tr>\n",
       "      <th>1</th>\n",
       "      <td>Algeria</td>\n",
       "      <td>DZA</td>\n",
       "      <td>8.909150</td>\n",
       "      <td>-1.149445</td>\n",
       "      <td>-2.622625</td>\n",
       "    </tr>\n",
       "    <tr>\n",
       "      <th>3</th>\n",
       "      <td>Armenia</td>\n",
       "      <td>ARM</td>\n",
       "      <td>8.943797</td>\n",
       "      <td>-1.304018</td>\n",
       "      <td>-3.078939</td>\n",
       "    </tr>\n",
       "    <tr>\n",
       "      <th>7</th>\n",
       "      <td>Bangladesh</td>\n",
       "      <td>BGD</td>\n",
       "      <td>7.967777</td>\n",
       "      <td>-1.434304</td>\n",
       "      <td>-2.672607</td>\n",
       "    </tr>\n",
       "    <tr>\n",
       "      <th>8</th>\n",
       "      <td>Belarus</td>\n",
       "      <td>BLR</td>\n",
       "      <td>9.188451</td>\n",
       "      <td>-1.414216</td>\n",
       "      <td>-3.061303</td>\n",
       "    </tr>\n",
       "    <tr>\n",
       "      <th>...</th>\n",
       "      <td>...</td>\n",
       "      <td>...</td>\n",
       "      <td>...</td>\n",
       "      <td>...</td>\n",
       "      <td>...</td>\n",
       "    </tr>\n",
       "    <tr>\n",
       "      <th>109</th>\n",
       "      <td>Ukraine</td>\n",
       "      <td>UKR</td>\n",
       "      <td>8.008340</td>\n",
       "      <td>-1.497733</td>\n",
       "      <td>-3.202495</td>\n",
       "    </tr>\n",
       "    <tr>\n",
       "      <th>113</th>\n",
       "      <td>Uzbekistan</td>\n",
       "      <td>UZB</td>\n",
       "      <td>8.678175</td>\n",
       "      <td>-1.617754</td>\n",
       "      <td>-2.652583</td>\n",
       "    </tr>\n",
       "    <tr>\n",
       "      <th>114</th>\n",
       "      <td>Viet Nam</td>\n",
       "      <td>VNM</td>\n",
       "      <td>8.621286</td>\n",
       "      <td>-1.019142</td>\n",
       "      <td>-2.675725</td>\n",
       "    </tr>\n",
       "    <tr>\n",
       "      <th>115</th>\n",
       "      <td>West Bank and Gaza</td>\n",
       "      <td>PSE</td>\n",
       "      <td>8.507293</td>\n",
       "      <td>-1.407949</td>\n",
       "      <td>-2.467170</td>\n",
       "    </tr>\n",
       "    <tr>\n",
       "      <th>116</th>\n",
       "      <td>Yemen, Rep.</td>\n",
       "      <td>YEM</td>\n",
       "      <td>7.557493</td>\n",
       "      <td>-1.909264</td>\n",
       "      <td>-2.426474</td>\n",
       "    </tr>\n",
       "  </tbody>\n",
       "</table>\n",
       "<p>66 rows × 5 columns</p>\n",
       "</div>"
      ],
      "text/plain": [
       "                Country Country_Code  log_PIB_par_tete     log_s  \\\n",
       "0               Albania          ALB          9.003409 -1.078246   \n",
       "1               Algeria          DZA          8.909150 -1.149445   \n",
       "3               Armenia          ARM          8.943797 -1.304018   \n",
       "7            Bangladesh          BGD          7.967777 -1.434304   \n",
       "8               Belarus          BLR          9.188451 -1.414216   \n",
       "..                  ...          ...               ...       ...   \n",
       "109             Ukraine          UKR          8.008340 -1.497733   \n",
       "113          Uzbekistan          UZB          8.678175 -1.617754   \n",
       "114            Viet Nam          VNM          8.621286 -1.019142   \n",
       "115  West Bank and Gaza          PSE          8.507293 -1.407949   \n",
       "116         Yemen, Rep.          YEM          7.557493 -1.909264   \n",
       "\n",
       "     log_n_g_sigma  \n",
       "0        -3.062085  \n",
       "1        -2.622625  \n",
       "3        -3.078939  \n",
       "7        -2.672607  \n",
       "8        -3.061303  \n",
       "..             ...  \n",
       "109      -3.202495  \n",
       "113      -2.652583  \n",
       "114      -2.675725  \n",
       "115      -2.467170  \n",
       "116      -2.426474  \n",
       "\n",
       "[66 rows x 5 columns]"
      ]
     },
     "execution_count": 174,
     "metadata": {},
     "output_type": "execute_result"
    }
   ],
   "source": [
    "cluster1"
   ]
  },
  {
   "cell_type": "code",
   "execution_count": 175,
   "metadata": {},
   "outputs": [
    {
     "name": "stdout",
     "output_type": "stream",
     "text": [
      "                            OLS Regression Results                            \n",
      "==============================================================================\n",
      "Dep. Variable:       log_PIB_par_tete   R-squared:                       0.360\n",
      "Model:                            OLS   Adj. R-squared:                  0.340\n",
      "Method:                 Least Squares   F-statistic:                     17.75\n",
      "Date:                Sun, 29 Dec 2024   Prob (F-statistic):           7.70e-07\n",
      "Time:                        21:07:04   Log-Likelihood:                -65.157\n",
      "No. Observations:                  66   AIC:                             136.3\n",
      "Df Residuals:                      63   BIC:                             142.9\n",
      "Df Model:                           2                                         \n",
      "Covariance Type:            nonrobust                                         \n",
      "=================================================================================\n",
      "                    coef    std err          t      P>|t|      [0.025      0.975]\n",
      "---------------------------------------------------------------------------------\n",
      "const             3.5579      1.171      3.037      0.003       1.217       5.899\n",
      "log_s             0.4483      0.274      1.639      0.106      -0.098       0.995\n",
      "log_n_g_sigma    -2.1036      0.383     -5.491      0.000      -2.869      -1.338\n",
      "==============================================================================\n",
      "Omnibus:                        1.065   Durbin-Watson:                   1.796\n",
      "Prob(Omnibus):                  0.587   Jarque-Bera (JB):                1.124\n",
      "Skew:                          -0.227   Prob(JB):                        0.570\n",
      "Kurtosis:                       2.550   Cond. No.                         49.6\n",
      "==============================================================================\n",
      "\n",
      "Notes:\n",
      "[1] Standard Errors assume that the covariance matrix of the errors is correctly specified.\n"
     ]
    }
   ],
   "source": [
    "# Regression\n",
    "\n",
    "regression_summary = d.perform_regression(\n",
    "    data=cluster1,\n",
    "    dependent_var='log_PIB_par_tete',\n",
    "    independent_vars=['log_s', 'log_n_g_sigma']\n",
    ")\n",
    "print(regression_summary)"
   ]
  },
  {
   "cell_type": "markdown",
   "metadata": {},
   "source": [
    "<p style=\"line-height: 1.6; font-family: 'Serial', serif; font-size: 18px;\"> Le modèle est globalement significatif au seuil de 1% et explique 36% de la croissance. Les coefficients de log(s) et log(n+g+sigma) présentent les signes attendus. Cependant le coefficient de log(s) n'est pas significatif aux seuils conventionnels contrairement au coefficient de log(n+g+sigma) qui l'est au seuil de 1%.</p>"
   ]
  },
  {
   "cell_type": "markdown",
   "metadata": {},
   "source": [
    "<h2 style=\"font-family: 'Georgia', serif; text-align: center; font-size: 20px; color: #3498db;\"> Cluster 4 : Pays en développement avec capital et PIB faibles, mais une population active modérée</h2>"
   ]
  },
  {
   "cell_type": "code",
   "execution_count": 176,
   "metadata": {},
   "outputs": [
    {
     "data": {
      "text/html": [
       "<div>\n",
       "<style scoped>\n",
       "    .dataframe tbody tr th:only-of-type {\n",
       "        vertical-align: middle;\n",
       "    }\n",
       "\n",
       "    .dataframe tbody tr th {\n",
       "        vertical-align: top;\n",
       "    }\n",
       "\n",
       "    .dataframe thead th {\n",
       "        text-align: right;\n",
       "    }\n",
       "</style>\n",
       "<table border=\"1\" class=\"dataframe\">\n",
       "  <thead>\n",
       "    <tr style=\"text-align: right;\">\n",
       "      <th></th>\n",
       "      <th>Country</th>\n",
       "      <th>Country_Code</th>\n",
       "      <th>log_PIB_par_tete</th>\n",
       "      <th>log_s</th>\n",
       "      <th>log_n_g_sigma</th>\n",
       "    </tr>\n",
       "  </thead>\n",
       "  <tbody>\n",
       "    <tr>\n",
       "      <th>2</th>\n",
       "      <td>Argentina</td>\n",
       "      <td>ARG</td>\n",
       "      <td>9.889055</td>\n",
       "      <td>-1.956921</td>\n",
       "      <td>-2.775967</td>\n",
       "    </tr>\n",
       "    <tr>\n",
       "      <th>21</th>\n",
       "      <td>Chile</td>\n",
       "      <td>CHL</td>\n",
       "      <td>9.935053</td>\n",
       "      <td>-1.562657</td>\n",
       "      <td>-2.752404</td>\n",
       "    </tr>\n",
       "    <tr>\n",
       "      <th>26</th>\n",
       "      <td>Costa Rica</td>\n",
       "      <td>CRI</td>\n",
       "      <td>9.941118</td>\n",
       "      <td>-1.726204</td>\n",
       "      <td>-2.665686</td>\n",
       "    </tr>\n",
       "    <tr>\n",
       "      <th>28</th>\n",
       "      <td>Croatia</td>\n",
       "      <td>HRV</td>\n",
       "      <td>10.210892</td>\n",
       "      <td>-1.555661</td>\n",
       "      <td>-3.193754</td>\n",
       "    </tr>\n",
       "    <tr>\n",
       "      <th>30</th>\n",
       "      <td>Cyprus</td>\n",
       "      <td>CYP</td>\n",
       "      <td>10.374112</td>\n",
       "      <td>-1.535668</td>\n",
       "      <td>-2.685159</td>\n",
       "    </tr>\n",
       "    <tr>\n",
       "      <th>31</th>\n",
       "      <td>Czechia</td>\n",
       "      <td>CZE</td>\n",
       "      <td>10.365419</td>\n",
       "      <td>-1.358416</td>\n",
       "      <td>-2.986342</td>\n",
       "    </tr>\n",
       "    <tr>\n",
       "      <th>37</th>\n",
       "      <td>Estonia</td>\n",
       "      <td>EST</td>\n",
       "      <td>10.369810</td>\n",
       "      <td>-1.351066</td>\n",
       "      <td>-3.112320</td>\n",
       "    </tr>\n",
       "    <tr>\n",
       "      <th>40</th>\n",
       "      <td>Gabon</td>\n",
       "      <td>GAB</td>\n",
       "      <td>9.308581</td>\n",
       "      <td>-1.287901</td>\n",
       "      <td>-2.493021</td>\n",
       "    </tr>\n",
       "    <tr>\n",
       "      <th>42</th>\n",
       "      <td>Greece</td>\n",
       "      <td>GRC</td>\n",
       "      <td>10.422028</td>\n",
       "      <td>-1.731876</td>\n",
       "      <td>-3.021350</td>\n",
       "    </tr>\n",
       "    <tr>\n",
       "      <th>46</th>\n",
       "      <td>Hungary</td>\n",
       "      <td>HUN</td>\n",
       "      <td>10.133346</td>\n",
       "      <td>-1.535025</td>\n",
       "      <td>-3.060622</td>\n",
       "    </tr>\n",
       "    <tr>\n",
       "      <th>57</th>\n",
       "      <td>Korea, Rep.</td>\n",
       "      <td>KOR</td>\n",
       "      <td>10.784476</td>\n",
       "      <td>-1.110393</td>\n",
       "      <td>-2.876850</td>\n",
       "    </tr>\n",
       "    <tr>\n",
       "      <th>58</th>\n",
       "      <td>Latvia</td>\n",
       "      <td>LVA</td>\n",
       "      <td>10.185816</td>\n",
       "      <td>-1.320322</td>\n",
       "      <td>-3.278294</td>\n",
       "    </tr>\n",
       "    <tr>\n",
       "      <th>61</th>\n",
       "      <td>Lithuania</td>\n",
       "      <td>LTU</td>\n",
       "      <td>10.262348</td>\n",
       "      <td>-1.549289</td>\n",
       "      <td>-3.175772</td>\n",
       "    </tr>\n",
       "    <tr>\n",
       "      <th>69</th>\n",
       "      <td>Mexico</td>\n",
       "      <td>MEX</td>\n",
       "      <td>9.633297</td>\n",
       "      <td>-1.544355</td>\n",
       "      <td>-2.676697</td>\n",
       "    </tr>\n",
       "    <tr>\n",
       "      <th>80</th>\n",
       "      <td>Panama</td>\n",
       "      <td>PAN</td>\n",
       "      <td>10.154035</td>\n",
       "      <td>-1.099199</td>\n",
       "      <td>-2.642009</td>\n",
       "    </tr>\n",
       "    <tr>\n",
       "      <th>83</th>\n",
       "      <td>Poland</td>\n",
       "      <td>POL</td>\n",
       "      <td>10.189247</td>\n",
       "      <td>-1.533453</td>\n",
       "      <td>-3.015065</td>\n",
       "    </tr>\n",
       "    <tr>\n",
       "      <th>84</th>\n",
       "      <td>Portugal</td>\n",
       "      <td>PRT</td>\n",
       "      <td>10.474119</td>\n",
       "      <td>-1.604803</td>\n",
       "      <td>-2.988981</td>\n",
       "    </tr>\n",
       "    <tr>\n",
       "      <th>85</th>\n",
       "      <td>Puerto Rico</td>\n",
       "      <td>PRI</td>\n",
       "      <td>10.763218</td>\n",
       "      <td>-2.218648</td>\n",
       "      <td>-3.053843</td>\n",
       "    </tr>\n",
       "    <tr>\n",
       "      <th>91</th>\n",
       "      <td>Seychelles</td>\n",
       "      <td>SYC</td>\n",
       "      <td>10.059138</td>\n",
       "      <td>-1.544961</td>\n",
       "      <td>-2.634984</td>\n",
       "    </tr>\n",
       "    <tr>\n",
       "      <th>94</th>\n",
       "      <td>Slovak Republic</td>\n",
       "      <td>SVK</td>\n",
       "      <td>10.279562</td>\n",
       "      <td>-1.371128</td>\n",
       "      <td>-2.967318</td>\n",
       "    </tr>\n",
       "    <tr>\n",
       "      <th>95</th>\n",
       "      <td>Slovenia</td>\n",
       "      <td>SVN</td>\n",
       "      <td>10.604983</td>\n",
       "      <td>-1.508541</td>\n",
       "      <td>-3.003817</td>\n",
       "    </tr>\n",
       "    <tr>\n",
       "      <th>98</th>\n",
       "      <td>Spain</td>\n",
       "      <td>ESP</td>\n",
       "      <td>10.674295</td>\n",
       "      <td>-1.567082</td>\n",
       "      <td>-2.875810</td>\n",
       "    </tr>\n",
       "    <tr>\n",
       "      <th>107</th>\n",
       "      <td>Turkiye</td>\n",
       "      <td>TUR</td>\n",
       "      <td>9.979849</td>\n",
       "      <td>-1.453851</td>\n",
       "      <td>-2.702435</td>\n",
       "    </tr>\n",
       "    <tr>\n",
       "      <th>112</th>\n",
       "      <td>Uruguay</td>\n",
       "      <td>URY</td>\n",
       "      <td>10.237526</td>\n",
       "      <td>-1.735915</td>\n",
       "      <td>-2.919807</td>\n",
       "    </tr>\n",
       "  </tbody>\n",
       "</table>\n",
       "</div>"
      ],
      "text/plain": [
       "             Country Country_Code  log_PIB_par_tete     log_s  log_n_g_sigma\n",
       "2          Argentina          ARG          9.889055 -1.956921      -2.775967\n",
       "21             Chile          CHL          9.935053 -1.562657      -2.752404\n",
       "26        Costa Rica          CRI          9.941118 -1.726204      -2.665686\n",
       "28           Croatia          HRV         10.210892 -1.555661      -3.193754\n",
       "30            Cyprus          CYP         10.374112 -1.535668      -2.685159\n",
       "31           Czechia          CZE         10.365419 -1.358416      -2.986342\n",
       "37           Estonia          EST         10.369810 -1.351066      -3.112320\n",
       "40             Gabon          GAB          9.308581 -1.287901      -2.493021\n",
       "42            Greece          GRC         10.422028 -1.731876      -3.021350\n",
       "46           Hungary          HUN         10.133346 -1.535025      -3.060622\n",
       "57       Korea, Rep.          KOR         10.784476 -1.110393      -2.876850\n",
       "58            Latvia          LVA         10.185816 -1.320322      -3.278294\n",
       "61         Lithuania          LTU         10.262348 -1.549289      -3.175772\n",
       "69            Mexico          MEX          9.633297 -1.544355      -2.676697\n",
       "80            Panama          PAN         10.154035 -1.099199      -2.642009\n",
       "83            Poland          POL         10.189247 -1.533453      -3.015065\n",
       "84          Portugal          PRT         10.474119 -1.604803      -2.988981\n",
       "85       Puerto Rico          PRI         10.763218 -2.218648      -3.053843\n",
       "91        Seychelles          SYC         10.059138 -1.544961      -2.634984\n",
       "94   Slovak Republic          SVK         10.279562 -1.371128      -2.967318\n",
       "95          Slovenia          SVN         10.604983 -1.508541      -3.003817\n",
       "98             Spain          ESP         10.674295 -1.567082      -2.875810\n",
       "107          Turkiye          TUR          9.979849 -1.453851      -2.702435\n",
       "112          Uruguay          URY         10.237526 -1.735915      -2.919807"
      ]
     },
     "execution_count": 176,
     "metadata": {},
     "output_type": "execute_result"
    }
   ],
   "source": [
    "cluster4"
   ]
  },
  {
   "cell_type": "code",
   "execution_count": 177,
   "metadata": {},
   "outputs": [
    {
     "name": "stdout",
     "output_type": "stream",
     "text": [
      "                            OLS Regression Results                            \n",
      "==============================================================================\n",
      "Dep. Variable:       log_PIB_par_tete   R-squared:                       0.306\n",
      "Model:                            OLS   Adj. R-squared:                  0.239\n",
      "Method:                 Least Squares   F-statistic:                     4.619\n",
      "Date:                Sun, 29 Dec 2024   Prob (F-statistic):             0.0218\n",
      "Time:                        21:07:55   Log-Likelihood:                -3.4067\n",
      "No. Observations:                  24   AIC:                             12.81\n",
      "Df Residuals:                      21   BIC:                             16.35\n",
      "Df Model:                           2                                         \n",
      "Covariance Type:            nonrobust                                         \n",
      "=================================================================================\n",
      "                    coef    std err          t      P>|t|      [0.025      0.975]\n",
      "---------------------------------------------------------------------------------\n",
      "const             7.5115      0.920      8.166      0.000       5.599       9.424\n",
      "log_s            -0.0662      0.259     -0.256      0.801      -0.604       0.472\n",
      "log_n_g_sigma    -0.8988      0.302     -2.980      0.007      -1.526      -0.272\n",
      "==============================================================================\n",
      "Omnibus:                        0.491   Durbin-Watson:                   2.150\n",
      "Prob(Omnibus):                  0.782   Jarque-Bera (JB):                0.560\n",
      "Skew:                           0.287   Prob(JB):                        0.756\n",
      "Kurtosis:                       2.520   Cond. No.                         54.3\n",
      "==============================================================================\n",
      "\n",
      "Notes:\n",
      "[1] Standard Errors assume that the covariance matrix of the errors is correctly specified.\n"
     ]
    }
   ],
   "source": [
    "# Regression\n",
    "\n",
    "regression_summary = d.perform_regression(\n",
    "    data=cluster4,\n",
    "    dependent_var='log_PIB_par_tete',\n",
    "    independent_vars=['log_s', 'log_n_g_sigma']\n",
    ")\n",
    "print(regression_summary)"
   ]
  },
  {
   "cell_type": "markdown",
   "metadata": {},
   "source": [
    "<p style=\"line-height: 1.6; font-family: 'Serial', serif; font-size: 18px;\"> Le modèle est globalement significatif au seuil de 5% et explique 30,6% de la croissance. Le coefficients de log(s) est négatif contairement au signe attendu et n'est pas significatif aux seuils conventionnels. Par contre le coefficient de log(n+g+sigma) est pas significatif au seuil de 1%.</p>"
   ]
  },
  {
   "cell_type": "markdown",
   "metadata": {},
   "source": [
    "<br/>\n",
    "<h1 style=\"font-family: 'Georgia', serif; text-align: center; font-size: 30px; color: #3498db;text-shadow: 2px 2px 5px rgba(0, 0, 0, 0.3);\">V- <u>CONCLUSION GENERALE</u></h1>\n",
    "<br/>\n"
   ]
  },
  {
   "cell_type": "markdown",
   "metadata": {},
   "source": [
    "<p style=\"line-height: 1.6; font-family: 'Serial', serif; font-size: 18px;\">\n",
    "    L’analyse des régressions effectuées sur les données globales, ainsi que pour les sous-groupes des pays de l'OCDE et de l'Union Africaine (UA), révèle des disparités significatives dans les facteurs influençant la croissance économique. On retient que l’effet du taux d’épargne sur le PIB par tête est significatif et que la croissance démographique, le progrès technologique et la dépréciation a un effet négatif marqué et statistiquement significatif.\n",
    "Pour les pays de l'OCDE, les résultats montrent des relations statistiquement non significatives. <br> Suite à une analyse plus poussée effectuée grâce au clustering, nous avons regroupés les pays en 3 groupes: Les pays à revenu et capital par tete relativement élevés, les pays à faible capital et revenu par tête et les pays en développement à faible revenu mais avec une forte population active. <br> La regression est significatif pour les deux dernières catégories et explique au moins 30% de la croissance tandis qu'elle ne l'est pas pour les pays de la 1ère catégorie. Cela souligne que dans des économies avancées, d’autres facteurs, comme l’innovation, la qualité institutionnelle ou les politiques économiques, peuvent jouer un rôle plus déterminant dans les différences de croissance. <br> Ces résultats confirment en partie les prédictions du modèle de Solow, tout en le contestant fortement pour les pays les plus avancés. mettant en lumière des divergences régionales importantes. Les pays de l’OCDE semblent avoir atteint un certain équilibre, tandis que les pays de l’UA restent visiblement influencés par des dynamiques démographiques et d’accumulation de capital. \n",
    "\n",
    "</p>"
   ]
  }
 ],
 "metadata": {
  "kernelspec": {
   "display_name": "Python 3",
   "language": "python",
   "name": "python3"
  },
  "language_info": {
   "codemirror_mode": {
    "name": "ipython",
    "version": 3
   },
   "file_extension": ".py",
   "mimetype": "text/x-python",
   "name": "python",
   "nbconvert_exporter": "python",
   "pygments_lexer": "ipython3",
   "version": "3.13.1"
  }
 },
 "nbformat": 4,
 "nbformat_minor": 2
}
