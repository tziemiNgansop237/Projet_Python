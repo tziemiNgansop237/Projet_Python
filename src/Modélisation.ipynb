{
 "cells": [
  {
   "cell_type": "markdown",
   "metadata": {},
   "source": [
    "<h1 style=\"font-family: 'Georgia', serif; text-align: center; font-size: 30px; color: #3498db;\">I- <u>Présentation du modèle </u></h1>\n",
    "<p style=\"line-height: 1.6; font-family: 'Serial', serif; font-size: 16px;  color:black;\">\n",
    "Le modèle de croissance économique proposé par Robert Solow (1956) repose sur une fonction de production néoclassique à deux facteurs, le capital physique (K) et le travail (L), avec progrès technologique exogène (A) pour expliquer les différences de revenus entre les pays.\n",
    "</p>\n",
    "<br/>\n",
    "<h2 style=\"font-family: 'Georgia', serif; text-align: center; font-size: 23px; color: #3498db;\">I.1- <u>Fonction de production</u></h2>\n",
    "<br/>\n",
    "<br/>\n",
    "<p style=\"line-height: 1.6; font-family: 'Serial', serif; font-size: 16px;  color:black;\">\n",
    "La production totale (Y) est décrite par une fonction de production Cobb-Douglas avec des rendements décroissants sur les facteurs capital et travail :\n",
    "\n",
    " <b><h2 style=\"font-family: 'Georgia', serif; text-align: center; font-size: 23px;\"> Y<sub>t</sub> = K<sub>t</sub><sup>α</sup>(A<sub>t</sub>L<sub>t</sub>)<sup>1-α</sup> </h2></b>\n",
    " <ul style=\"line-height: 1.6; font-family: 'Serial', serif; font-size: 16px;  color:black;\">\n",
    " <li>\n",
    "Y<sub>t</sub> : Produit total à l'instant t\n",
    "</li>\n",
    "<li>\n",
    "K<sub>t</sub> : Stock de capital à l'instant t\n",
    "</li>\n",
    "<li>\n",
    "L<sub>t</sub> : Quantité de travail à l'instant t\n",
    "</li>\n",
    "<li>\n",
    "A<sub>t</sub> : Niveau de technologie (progrès technique exogène).\n",
    "</li>\n",
    "<li>\n",
    "α : Part du capital dans le revenu.\n",
    "</li>\n",
    "</ul>\n",
    "\n",
    "</p>\n",
    "\n",
    "<br/>\n",
    "<br/>\n",
    "<h2 style=\"font-family: 'Georgia', serif; text-align: center; font-size: 23px; color: #3498db;\">I.2- <u>Hypothèses sur la dynamique des facteurs</u> </h2>\n",
    "<br/>\n",
    "<br/>\n",
    "<p style=\"line-height: 1.6; font-family: 'Serial', serif; font-size: 16px;  color:black;\">\n",
    "-Le capital évolue selon le taux d'épargne s et le taux de dépréciation 𝛿:\n",
    "<h3 style=\"text-align: center\"> K&#x0307;<sub>t</sub> = sY<sub>t</sub> - δK<sub>t</sub></h3>\n",
    " <p style=\"line-height: 1.6; font-family: 'Serial', serif; font-size: 16px;  color:black;\">\n",
    "-La population L<sub>t</sub> et la technologie A<sub>t</sub> croissent exogènement à des taux constants n et 𝑔 respectivement :\n",
    "<h3></h3>\n",
    "\n",
    "Le nombre d'unités de travail effectives est donné par A<sub>t</sub>L<sub>t</sub>, qui croît au taux n+g.\n",
    "</p>\n",
    "<br/>\n",
    "<br/>\n",
    "<h2 style=\"font-family: 'Georgia', serif; text-align: center; font-size: 23px; color: #3498db;\">I.3- <u>Variables par unité de travail effective</u></h2>\n",
    "<br/>\n",
    "<br/>\n",
    "\n",
    "<p style=\"line-height: 1.6; font-family: 'Serial', serif; font-size: 16px;  color:black;\">\n",
    "En divisant les termes par A(t)L(t), on exprime les variables en termes d'unités effectives :\n",
    "\n",
    "<b>k<sub>t</sub>=  K<sub>t</sub> / A<sub>t</sub>L<sub>t</sub> </b>: Capital par unité de travail effective.\n",
    "\n",
    "<b> y<sub>t</sub>= Y<sub>t</sub> / A<sub>t</sub>L<sub>t</sub></b> : Production par unité de travail effective.\n",
    "L'équation dynamique de k<sub>t</sub> devient :\n",
    "<h3 style=\"text-align: center\"> k&#x0307;<sub>t</sub> = sy<sub>t</sub> - (n+g+δ)k<sub>t</sub></h3>\n",
    "</p>\n",
    "\n",
    "<br/>\n",
    "<br/>\n",
    "<h2 style=\"font-family: 'Georgia', serif; text-align: center; font-size: 23px; color: #3498db;\">I.4- <u>État stationnaire</u></h2>\n",
    "<br/>\n",
    "<br/>\n",
    "\n",
    "\n",
    "<p style=\"line-height: 1.6; font-family: 'Serial', serif; font-size: 16px;  color:black;\">\n",
    "À l'état stationnaire , le capital par unité de travail effective, (k*) , est constant et donné par :\n",
    "</p>\n",
    "<h3 style=\"text-align: center\"> k* = (s/(n+g+δ)) <sup>1/(1-α) </sup> </h3>\n",
    " <p style=\"line-height: 1.6; font-family: 'Serial', serif; font-size: 16px;  color:black;\">\n",
    "La production par tête est alors donnée par: \n",
    "​</p>\n",
    "<h3 style=\"text-align: center\"> y* = A(0)e<sup>gt</sup>(s/(n+g+δ)) <sup>α/(1-α) </sup> </h3>\n",
    "\n",
    " \n",
    " <br/>\n",
    "<br/>\n",
    "<h2 style=\"font-family: 'Georgia', serif; text-align: center; font-size: 23px; color: #3498db;\">I.5- <u>Spécification empirique pour la régression</u></h2>\n",
    "<br/>\n",
    "<br/>\n",
    "\n",
    "\n",
    "<p style=\"line-height: 1.6; font-family: 'Serial', serif; font-size: 16px;  color:black;\">\n",
    "En prenant le logarithme, l'équation devient linéaire :\n",
    "<h3 style=\"text-align: center\"> ln(Y/L) = ln(A(0))+ gt + α/(1-α) ln(s) - α/(1-α) ln(n+g+δ) </h3>\n",
    "<br/>\n",
    "</p>\n",
    "Ainsi, le revenu par tête dépend de :\n",
    "<ul style=\"line-height: 1.6; font-family: 'Serial', serif; font-size: 16px;  color:black;\">\n",
    "<li>𝑠: le taus d'épargne </li>\n",
    "<li>n+g+δ : le Taux de croissance de la population, progrès technique et dépréciation. </li>\n",
    "</ul>\n",
    "La spécification à estimer avec une régression OLS est :\n",
    "\n",
    "<h3 style=\"text-align: center\"> ln(Y/L) = b<sub>0</sub> + b<sub>1</sub>ln(s) + b<sub>2</sub>ln(n+g+δ) + e </h3>\n",
    "\n",
    "<p style=\"line-height: 1.6; font-family: 'Serial', serif; font-size: 16px;  color:black;\">\n",
    "Avec les coefficients :\n",
    "</p>\n",
    "<h3 style=\"text-align: center\"> b<sub>1</sub> = α/(1-α) , b<sub>2</sub> = -α/(1-α) </h3>\n",
    "\n",
    "\n",
    "​\n",
    "\n",
    "\n",
    "<br>\n",
    "<h1 style=\"font-family: 'Georgia', serif; text-align: center; font-size: 30px; color: #3498db;\">II- <u>Transformation des variables </u></h1>\n",
    "<br/>\n",
    "<br/>\n",
    "\n",
    "<p style=\"line-height: 1.6; font-family: 'Serial', serif; font-size: 16px;  color:black;\">\n",
    "Pour estimer la spécification empirique du modèle de Solow, nous devons transformer les données brutes en variables prêtes pour la régression. Voici les étapes nécessaires :\n",
    "</p>\n",
    "<br/>\n",
    "<h2 style=\"font-family: 'Georgia', serif; text-align: center; font-size: 23px; color: #3498db;\">II.1- <u>Variables brutes dans la base de donnée</u></h2>\n",
    "<br/>\n",
    "<br/>\n",
    "\n",
    "<p style=\"line-height: 1.6; font-family: 'Serial', serif; font-size: 16px;  color:black;\">\n",
    "Les variables disponibles dans ta base sont :\n",
    "PIB : GDP (constant 2015 US$) → 𝑌\n",
    "Formation brute de capital fixe : Gross Fixed Capital Formation (constant 2015 US$) → utilisée pour calculer le taux d'épargne (s).\n",
    "Population en âge de travailler : Population ages 15-64 → 𝐿\n",
    "</p>\n",
    "\n",
    "<br/>\n",
    "<h2 style=\"font-family: 'Georgia', serif; text-align: center; font-size: 23px; color: #3498db;\">II.2- <u>Variables nécessaires pour la régression</u></h2>\n",
    "<br/>\n",
    "<br/>\n",
    "\n",
    "<p style=\"line-height: 1.6; font-family: 'Serial', serif; font-size: 16px;  color:black;\">\n",
    "Nous devons transformer les données brutes pour obtenir les variables suivantes :\n",
    "<ul style=\"line-height: 1.6; font-family: 'Serial', serif; font-size: 16px;  color:black;\">\n",
    "<li>\n",
    "Revenu par tête (𝑌/𝐿) : ln(𝑌/𝐿)\n",
    "</li>\n",
    "\n",
    "<li>\n",
    "Taux d'épargne (s) :\n",
    "Calculé comme le ratio de la formation brute de capital fixe (I) sur le PIB (Y).\n",
    "<h3>𝑠=Formation brute de capital fixe/PIB</h3>\n",
    "</li>\n",
    "​<li>\n",
    "Taux de croissance démographique (n) :\n",
    "Calculé comme la variation relative de la population entre deux années consécutives :\n",
    "<h3>𝑛<sub>t</sub>=(Population(𝑡) − Population(𝑡−1))/Population(𝑡−1)</h3>\n",
    "</li>\n",
    "​\n",
    " \n",
    "<li>Variable combinée (n+g+δ) :\n",
    "g (progrès technique) et δ (dépréciation) sont supposés constants. Une hypothèse classique est <b>g+δ=0.05</b>.\n",
    "n+g+δ=n+0.05</li>\n",
    "</ul>\n",
    "</p>\n",
    "<br/>\n",
    "<br/>\n",
    "<br/>\n"
   ]
  },
  {
   "cell_type": "code",
   "execution_count": null,
   "metadata": {},
   "outputs": [
    {
     "data": {
      "text/html": [
       "<div>\n",
       "<style scoped>\n",
       "    .dataframe tbody tr th:only-of-type {\n",
       "        vertical-align: middle;\n",
       "    }\n",
       "\n",
       "    .dataframe tbody tr th {\n",
       "        vertical-align: top;\n",
       "    }\n",
       "\n",
       "    .dataframe thead th {\n",
       "        text-align: right;\n",
       "    }\n",
       "</style>\n",
       "<table border=\"1\" class=\"dataframe\">\n",
       "  <thead>\n",
       "    <tr style=\"text-align: right;\">\n",
       "      <th></th>\n",
       "      <th>Country</th>\n",
       "      <th>Country_Code</th>\n",
       "      <th>Year</th>\n",
       "      <th>GDP (constant 2015 US$)</th>\n",
       "      <th>Population ages 15-64, total</th>\n",
       "      <th>Gross Fixed Capital Formation (constant 2015 US$)</th>\n",
       "    </tr>\n",
       "  </thead>\n",
       "  <tbody>\n",
       "    <tr>\n",
       "      <th>0</th>\n",
       "      <td>Albania</td>\n",
       "      <td>ALB</td>\n",
       "      <td>2023</td>\n",
       "      <td>1.488217e+10</td>\n",
       "      <td>1830356</td>\n",
       "      <td>3.677166e+09</td>\n",
       "    </tr>\n",
       "    <tr>\n",
       "      <th>1</th>\n",
       "      <td>Albania</td>\n",
       "      <td>ALB</td>\n",
       "      <td>2022</td>\n",
       "      <td>1.431851e+10</td>\n",
       "      <td>1861085</td>\n",
       "      <td>3.639207e+09</td>\n",
       "    </tr>\n",
       "    <tr>\n",
       "      <th>2</th>\n",
       "      <td>Albania</td>\n",
       "      <td>ALB</td>\n",
       "      <td>2021</td>\n",
       "      <td>1.365922e+10</td>\n",
       "      <td>1894123</td>\n",
       "      <td>3.581034e+09</td>\n",
       "    </tr>\n",
       "    <tr>\n",
       "      <th>3</th>\n",
       "      <td>Albania</td>\n",
       "      <td>ALB</td>\n",
       "      <td>2020</td>\n",
       "      <td>1.253490e+10</td>\n",
       "      <td>1921536</td>\n",
       "      <td>2.995235e+09</td>\n",
       "    </tr>\n",
       "    <tr>\n",
       "      <th>4</th>\n",
       "      <td>Albania</td>\n",
       "      <td>ALB</td>\n",
       "      <td>2019</td>\n",
       "      <td>1.296450e+10</td>\n",
       "      <td>1941067</td>\n",
       "      <td>3.021867e+09</td>\n",
       "    </tr>\n",
       "  </tbody>\n",
       "</table>\n",
       "</div>"
      ],
      "text/plain": [
       "   Country Country_Code  Year  GDP (constant 2015 US$)  \\\n",
       "0  Albania          ALB  2023             1.488217e+10   \n",
       "1  Albania          ALB  2022             1.431851e+10   \n",
       "2  Albania          ALB  2021             1.365922e+10   \n",
       "3  Albania          ALB  2020             1.253490e+10   \n",
       "4  Albania          ALB  2019             1.296450e+10   \n",
       "\n",
       "   Population ages 15-64, total  \\\n",
       "0                       1830356   \n",
       "1                       1861085   \n",
       "2                       1894123   \n",
       "3                       1921536   \n",
       "4                       1941067   \n",
       "\n",
       "   Gross Fixed Capital Formation (constant 2015 US$)  \n",
       "0                                       3.677166e+09  \n",
       "1                                       3.639207e+09  \n",
       "2                                       3.581034e+09  \n",
       "3                                       2.995235e+09  \n",
       "4                                       3.021867e+09  "
      ]
     },
     "execution_count": 97,
     "metadata": {},
     "output_type": "execute_result"
    }
   ],
   "source": [
    "# Importation nécessaire\n",
    "import Declarations as d \n",
    "# Importation de la base de données obtenue suite au nettoyage\n",
    "data = d.pd.read_csv('data.csv', encoding='latin-1')\n",
    "data.head()\n"
   ]
  },
  {
   "cell_type": "markdown",
   "metadata": {},
   "source": [
    "<br/>\n",
    "<p style=\"line-height: 1.6; font-family: 'Serial', serif; font-size: 20px;  color:black;\"> <b>\n",
    "Création de la variable PIB par tête (Y/L)</b>\n",
    "</p>\n",
    "<br/>\n",
    "<br/>"
   ]
  },
  {
   "cell_type": "code",
   "execution_count": 110,
   "metadata": {},
   "outputs": [],
   "source": [
    "def pib_par_tete_pour_annee(df,year, pib_col, population_col):\n",
    "    \"\"\"\n",
    "    Calcule le PIB par tête pour une année donnée.\n",
    "    Args:\n",
    "        df (pd.DataFrame): Le DataFrame contenant les données.\n",
    "        year (int): L'année pour laquelle calculer le PIB par tête.\n",
    "        pib_col (str): Nom de la colonne représentant le PIB total.\n",
    "        population_col (str): Nom de la colonne représentant la population en âge de travailler.\n",
    "    Returns:\n",
    "        pd.DataFrame: Le DataFrame avec les pays et leur PIB par tête pour l'année donnée.\n",
    "    \"\"\"\n",
    "    # Filtrer les données pour l'année donnée\n",
    "    df_annee = df[df['Year'] == year].copy()\n",
    "    \n",
    "    # Calculer le PIB par tête\n",
    "    df_annee['PIB_par_tête'] = df_annee[pib_col] / df_annee[population_col]\n",
    "    \n",
    "    # Retourner les colonnes nécessaires\n",
    "    return df_annee[['Country', 'PIB_par_tête']]\n",
    "\n"
   ]
  },
  {
   "cell_type": "markdown",
   "metadata": {},
   "source": [
    "\n",
    "<br/>\n",
    "<p style=\"line-height: 1.6; font-family: 'Serial', serif; font-size: 20px;  color:black;\"> \n",
    "Nous allons considérer dans notre étude le PIB par tête de chaque pays de l'année 2023.\n",
    "</p>\n",
    "<br/>\n",
    "<br/>\n"
   ]
  },
  {
   "cell_type": "code",
   "execution_count": 114,
   "metadata": {},
   "outputs": [
    {
     "data": {
      "text/html": [
       "<div>\n",
       "<style scoped>\n",
       "    .dataframe tbody tr th:only-of-type {\n",
       "        vertical-align: middle;\n",
       "    }\n",
       "\n",
       "    .dataframe tbody tr th {\n",
       "        vertical-align: top;\n",
       "    }\n",
       "\n",
       "    .dataframe thead th {\n",
       "        text-align: right;\n",
       "    }\n",
       "</style>\n",
       "<table border=\"1\" class=\"dataframe\">\n",
       "  <thead>\n",
       "    <tr style=\"text-align: right;\">\n",
       "      <th></th>\n",
       "      <th>Country</th>\n",
       "      <th>PIB_par_tête</th>\n",
       "    </tr>\n",
       "  </thead>\n",
       "  <tbody>\n",
       "    <tr>\n",
       "      <th>0</th>\n",
       "      <td>Albania</td>\n",
       "      <td>8130.753594</td>\n",
       "    </tr>\n",
       "    <tr>\n",
       "      <th>34</th>\n",
       "      <td>Algeria</td>\n",
       "      <td>7399.372277</td>\n",
       "    </tr>\n",
       "    <tr>\n",
       "      <th>68</th>\n",
       "      <td>Argentina</td>\n",
       "      <td>19713.420552</td>\n",
       "    </tr>\n",
       "    <tr>\n",
       "      <th>102</th>\n",
       "      <td>Armenia</td>\n",
       "      <td>7660.226850</td>\n",
       "    </tr>\n",
       "    <tr>\n",
       "      <th>136</th>\n",
       "      <td>Australia</td>\n",
       "      <td>95352.263249</td>\n",
       "    </tr>\n",
       "  </tbody>\n",
       "</table>\n",
       "</div>"
      ],
      "text/plain": [
       "       Country  PIB_par_tête\n",
       "0      Albania   8130.753594\n",
       "34     Algeria   7399.372277\n",
       "68   Argentina  19713.420552\n",
       "102    Armenia   7660.226850\n",
       "136  Australia  95352.263249"
      ]
     },
     "execution_count": 114,
     "metadata": {},
     "output_type": "execute_result"
    }
   ],
   "source": [
    "pib_par_tete_2023 = pib_par_tete_pour_annee(\n",
    "    data, \n",
    "    year=2023, \n",
    "    pib_col='GDP (constant 2015 US$)', \n",
    "    population_col='Population ages 15-64, total'\n",
    ")\n",
    "pib_par_tete_2023.head()"
   ]
  },
  {
   "cell_type": "markdown",
   "metadata": {},
   "source": [
    "\n",
    "<br/>\n",
    "<p style=\"line-height: 1.6; font-family: 'Serial', serif; font-size: 20px;  color:black;\"> \n",
    "La base pib_par_tete_2023 contient le pib par tête de chaque pays en 2023.</p>\n",
    "<p style=\"line-height: 1.6; font-family: 'Serial', serif; font-size: 20px;  color:black;\">\n",
    "-Création de la variable taux de croissance.\n",
    "Nous allons calculer le taux de croissance sur la période considérer 1990-2023 et prendre ensuite la moyenne pour obtenir le taux de croissance moyen de chaque pays sur la période considérer 1990-2023.\n",
    "\n",
    "</p>\n",
    "<br/>\n",
    "<br/>\n",
    "\n",
    "\n"
   ]
  },
  {
   "cell_type": "code",
   "execution_count": 115,
   "metadata": {},
   "outputs": [],
   "source": [
    "def calculer_taux_croissance_moyen_par_pays(df, year_col, country_col, population_col):\n",
    "    \"\"\"\n",
    "    Calcule le taux de croissance démographique moyen (n) pour chaque pays entre 1990 et 2023.\n",
    "    Args:\n",
    "        df (pd.DataFrame): Le DataFrame contenant les données.\n",
    "        year_col (str): Nom de la colonne représentant les années.\n",
    "        country_col (str): Nom de la colonne représentant les pays.\n",
    "        population_col (str): Nom de la colonne représentant la population en âge de travailler.\n",
    "    Returns:\n",
    "        pd.DataFrame: Un nouveau DataFrame avec le pays et son taux de croissance moyen (n).\n",
    "    \"\"\"\n",
    "    # Trier les données par pays et année\n",
    "    df = df.sort_values(by=[country_col, year_col]).copy()\n",
    "    \n",
    "    # Calculer la population décalée (année précédente) pour chaque pays\n",
    "    df['Population_lag'] = df.groupby(country_col)[population_col].shift(1)\n",
    "    \n",
    "    # Calculer le taux de croissance démographique pour chaque année\n",
    "    df['Taux_croissance_annuel'] = (df[population_col] - df['Population_lag']) / df['Population_lag']\n",
    "    \n",
    "    # Supprimer les lignes où le taux ne peut pas être calculé (première année pour chaque pays)\n",
    "    df = df.dropna(subset=['Taux_croissance_annuel']).copy()\n",
    "    \n",
    "    # Calculer le taux de croissance moyen par pays\n",
    "    taux_croissance_moyen = df.groupby(country_col)['Taux_croissance_annuel'].median().reset_index()\n",
    "    taux_croissance_moyen.rename(columns={'Taux_croissance_annuel': 'Taux_croissance_moyen'}, inplace=True)\n",
    "    \n",
    "    \n",
    "    return taux_croissance_moyen\n"
   ]
  },
  {
   "cell_type": "code",
   "execution_count": 116,
   "metadata": {},
   "outputs": [
    {
     "data": {
      "text/html": [
       "<div>\n",
       "<style scoped>\n",
       "    .dataframe tbody tr th:only-of-type {\n",
       "        vertical-align: middle;\n",
       "    }\n",
       "\n",
       "    .dataframe tbody tr th {\n",
       "        vertical-align: top;\n",
       "    }\n",
       "\n",
       "    .dataframe thead th {\n",
       "        text-align: right;\n",
       "    }\n",
       "</style>\n",
       "<table border=\"1\" class=\"dataframe\">\n",
       "  <thead>\n",
       "    <tr style=\"text-align: right;\">\n",
       "      <th></th>\n",
       "      <th>Country</th>\n",
       "      <th>Taux_croissance_moyen</th>\n",
       "    </tr>\n",
       "  </thead>\n",
       "  <tbody>\n",
       "    <tr>\n",
       "      <th>0</th>\n",
       "      <td>Albania</td>\n",
       "      <td>-0.003431</td>\n",
       "    </tr>\n",
       "    <tr>\n",
       "      <th>1</th>\n",
       "      <td>Algeria</td>\n",
       "      <td>0.022871</td>\n",
       "    </tr>\n",
       "    <tr>\n",
       "      <th>2</th>\n",
       "      <td>Argentina</td>\n",
       "      <td>0.013136</td>\n",
       "    </tr>\n",
       "    <tr>\n",
       "      <th>3</th>\n",
       "      <td>Armenia</td>\n",
       "      <td>-0.002799</td>\n",
       "    </tr>\n",
       "    <tr>\n",
       "      <th>4</th>\n",
       "      <td>Australia</td>\n",
       "      <td>0.012123</td>\n",
       "    </tr>\n",
       "  </tbody>\n",
       "</table>\n",
       "</div>"
      ],
      "text/plain": [
       "     Country  Taux_croissance_moyen\n",
       "0    Albania              -0.003431\n",
       "1    Algeria               0.022871\n",
       "2  Argentina               0.013136\n",
       "3    Armenia              -0.002799\n",
       "4  Australia               0.012123"
      ]
     },
     "execution_count": 116,
     "metadata": {},
     "output_type": "execute_result"
    }
   ],
   "source": [
    "taux_croissance_moyen = calculer_taux_croissance_moyen_par_pays(\n",
    "    data, \n",
    "    year_col='Year', \n",
    "    country_col='Country', \n",
    "    population_col='Population ages 15-64, total'\n",
    ")\n",
    "taux_croissance_moyen.head()"
   ]
  },
  {
   "cell_type": "markdown",
   "metadata": {},
   "source": [
    "\n",
    "<br/>\n",
    "<p style=\"line-height: 1.6; font-family: 'Serial', serif; font-size: 20px;  color:black;\"> \n",
    "-Création de la variable taux d'epargne\n",
    "Nous allons procéder de même comme précedemment. C'est-à-dire, calculer le taux d'epargne sur la période et fais ensuite la moyenne.\n",
    "</p>\n",
    "<br/>\n",
    "<br/>"
   ]
  },
  {
   "cell_type": "code",
   "execution_count": 117,
   "metadata": {},
   "outputs": [],
   "source": [
    "def calculer_taux_epargne_moyen_par_pays(df, year_col, country_col, gfcf_col, pib_col):\n",
    "    \"\"\"\n",
    "    Calcule le taux d'épargne moyen (s) pour chaque pays entre 1990 et 2023.\n",
    "    Args:\n",
    "        df (pd.DataFrame): Le DataFrame contenant les données.\n",
    "        year_col (str): Nom de la colonne représentant les années.\n",
    "        country_col (str): Nom de la colonne représentant les pays.\n",
    "        gfcf_col (str): Nom de la colonne représentant la formation brute de capital fixe (GFCF).\n",
    "        pib_col (str): Nom de la colonne représentant le PIB total.\n",
    "    Returns:\n",
    "        pd.DataFrame: Un nouveau DataFrame avec le pays et son taux d'épargne moyen (s).\n",
    "    \"\"\"\n",
    "    # Calculer le taux d'épargne pour chaque ligne\n",
    "    df['Taux_epargne'] = df[gfcf_col] / df[pib_col]\n",
    "    \n",
    "    # Calculer la moyenne du taux d'épargne par pays\n",
    "    taux_epargne_moyen = df.groupby(country_col)['Taux_epargne'].median().reset_index()\n",
    "    taux_epargne_moyen.rename(columns={'Taux_epargne': 'Taux_epargne_moyen'}, inplace=True)\n",
    "    \n",
    "    return taux_epargne_moyen\n"
   ]
  },
  {
   "cell_type": "code",
   "execution_count": 118,
   "metadata": {},
   "outputs": [
    {
     "data": {
      "text/html": [
       "<div>\n",
       "<style scoped>\n",
       "    .dataframe tbody tr th:only-of-type {\n",
       "        vertical-align: middle;\n",
       "    }\n",
       "\n",
       "    .dataframe tbody tr th {\n",
       "        vertical-align: top;\n",
       "    }\n",
       "\n",
       "    .dataframe thead th {\n",
       "        text-align: right;\n",
       "    }\n",
       "</style>\n",
       "<table border=\"1\" class=\"dataframe\">\n",
       "  <thead>\n",
       "    <tr style=\"text-align: right;\">\n",
       "      <th></th>\n",
       "      <th>Country</th>\n",
       "      <th>Taux_croissance_moyen</th>\n",
       "    </tr>\n",
       "  </thead>\n",
       "  <tbody>\n",
       "    <tr>\n",
       "      <th>0</th>\n",
       "      <td>Albania</td>\n",
       "      <td>-0.003431</td>\n",
       "    </tr>\n",
       "    <tr>\n",
       "      <th>1</th>\n",
       "      <td>Algeria</td>\n",
       "      <td>0.022871</td>\n",
       "    </tr>\n",
       "    <tr>\n",
       "      <th>2</th>\n",
       "      <td>Argentina</td>\n",
       "      <td>0.013136</td>\n",
       "    </tr>\n",
       "    <tr>\n",
       "      <th>3</th>\n",
       "      <td>Armenia</td>\n",
       "      <td>-0.002799</td>\n",
       "    </tr>\n",
       "    <tr>\n",
       "      <th>4</th>\n",
       "      <td>Australia</td>\n",
       "      <td>0.012123</td>\n",
       "    </tr>\n",
       "  </tbody>\n",
       "</table>\n",
       "</div>"
      ],
      "text/plain": [
       "     Country  Taux_croissance_moyen\n",
       "0    Albania              -0.003431\n",
       "1    Algeria               0.022871\n",
       "2  Argentina               0.013136\n",
       "3    Armenia              -0.002799\n",
       "4  Australia               0.012123"
      ]
     },
     "execution_count": 118,
     "metadata": {},
     "output_type": "execute_result"
    }
   ],
   "source": [
    "taux_epargne_moyen = calculer_taux_epargne_moyen_par_pays(\n",
    "    data, \n",
    "    year_col='Year', \n",
    "    country_col='Country', \n",
    "    gfcf_col='Gross Fixed Capital Formation (constant 2015 US$)', \n",
    "    pib_col='GDP (constant 2015 US$)'\n",
    ")\n",
    "taux_croissance_moyen.head()"
   ]
  },
  {
   "cell_type": "markdown",
   "metadata": {},
   "source": [
    "\n",
    "<br/>\n",
    "<p style=\"line-height: 1.6; font-family: 'Serial', serif; font-size: 20px;  color:black;\"> \n",
    "Ainsi, nous avons les trois variables néccessaire pour faire la régression. Nous allons cépendant fussionner les trois bases de données afin d'obtenir une base prête à utiliser.</p>\n",
    "<br/>\n",
    "<br/>"
   ]
  },
  {
   "cell_type": "code",
   "execution_count": 120,
   "metadata": {},
   "outputs": [
    {
     "data": {
      "text/html": [
       "<div>\n",
       "<style scoped>\n",
       "    .dataframe tbody tr th:only-of-type {\n",
       "        vertical-align: middle;\n",
       "    }\n",
       "\n",
       "    .dataframe tbody tr th {\n",
       "        vertical-align: top;\n",
       "    }\n",
       "\n",
       "    .dataframe thead th {\n",
       "        text-align: right;\n",
       "    }\n",
       "</style>\n",
       "<table border=\"1\" class=\"dataframe\">\n",
       "  <thead>\n",
       "    <tr style=\"text-align: right;\">\n",
       "      <th></th>\n",
       "      <th>Country</th>\n",
       "      <th>PIB_par_tête</th>\n",
       "      <th>Taux_croissance_moyen</th>\n",
       "      <th>Taux_epargne_moyen</th>\n",
       "    </tr>\n",
       "  </thead>\n",
       "  <tbody>\n",
       "    <tr>\n",
       "      <th>0</th>\n",
       "      <td>Albania</td>\n",
       "      <td>8130.753594</td>\n",
       "      <td>-0.003431</td>\n",
       "      <td>0.275196</td>\n",
       "    </tr>\n",
       "    <tr>\n",
       "      <th>1</th>\n",
       "      <td>Algeria</td>\n",
       "      <td>7399.372277</td>\n",
       "      <td>0.022871</td>\n",
       "      <td>0.289772</td>\n",
       "    </tr>\n",
       "    <tr>\n",
       "      <th>2</th>\n",
       "      <td>Argentina</td>\n",
       "      <td>19713.420552</td>\n",
       "      <td>0.013136</td>\n",
       "      <td>0.144830</td>\n",
       "    </tr>\n",
       "    <tr>\n",
       "      <th>3</th>\n",
       "      <td>Armenia</td>\n",
       "      <td>7660.226850</td>\n",
       "      <td>-0.002799</td>\n",
       "      <td>0.221381</td>\n",
       "    </tr>\n",
       "    <tr>\n",
       "      <th>4</th>\n",
       "      <td>Australia</td>\n",
       "      <td>95352.263249</td>\n",
       "      <td>0.012123</td>\n",
       "      <td>0.237320</td>\n",
       "    </tr>\n",
       "  </tbody>\n",
       "</table>\n",
       "</div>"
      ],
      "text/plain": [
       "     Country  PIB_par_tête  Taux_croissance_moyen  Taux_epargne_moyen\n",
       "0    Albania   8130.753594              -0.003431            0.275196\n",
       "1    Algeria   7399.372277               0.022871            0.289772\n",
       "2  Argentina  19713.420552               0.013136            0.144830\n",
       "3    Armenia   7660.226850              -0.002799            0.221381\n",
       "4  Australia  95352.263249               0.012123            0.237320"
      ]
     },
     "execution_count": 120,
     "metadata": {},
     "output_type": "execute_result"
    }
   ],
   "source": [
    "# Fusionner les bases successivement avec une jointure interne\n",
    "merged_data = pib_par_tete_2023.merge(taux_croissance_moyen, on=['Country'], how='inner')\n",
    "data_var = merged_data.merge(taux_epargne_moyen, on=['Country'], how='inner')\n",
    "data_var.head()\n"
   ]
  },
  {
   "cell_type": "markdown",
   "metadata": {},
   "source": [
    "\n",
    "<br/>\n",
    "<p style=\"line-height: 1.6; font-family: 'Serial', serif; font-size: 20px;  color:black;\"> \n",
    "Notre base de contient 117 pays du monde et en colonne le PIB par tête, taux de croissance, taux d'epargne pour chaque pays.</p>\n",
    "<br/>\n",
    "<h1 style=\"font-family: 'Georgia', serif; text-align: center; font-size: 30px; color: #3498db;\">III- <u>Formation des échantillons</u></h1>\n",
    "<br/>\n",
    "<br/>\n",
    "<p style=\"line-height: 1.6; font-family: 'Serial', serif; font-size: 20px;  color:black;\">\n",
    "Pour notre étude nous allons considérer trois échantillons. Le premier est celui que nous avons déjà, les 117 pays du monde de notre base de donnée. Le deuxième va contenir uniquement les pays de l'OCDE et le dernier contient uniquement les pays de l'Union Africaine.</p>"
   ]
  },
  {
   "cell_type": "code",
   "execution_count": 90,
   "metadata": {},
   "outputs": [],
   "source": [
    "def former_echantillons(df, country_col, liste_ocde, liste_ua):\n",
    "    \"\"\"\n",
    "    Sépare le jeu de données en deux échantillons : un pour les pays de l'OCDE et un pour les pays de l'Union Africaine.\n",
    "    Args:\n",
    "        df (pd.DataFrame): Le DataFrame contenant les données.\n",
    "        country_col (str): Nom de la colonne représentant les pays.\n",
    "        liste_ocde (list): Liste des pays appartenant à l'OCDE (codes ISO ou noms).\n",
    "        liste_ua (list): Liste des pays appartenant à l'Union Africaine (codes ISO ou noms).\n",
    "    Returns:\n",
    "        tuple: Deux DataFrames, l'un pour les pays de l'OCDE et l'autre pour les pays de l'UA.\n",
    "    \"\"\"\n",
    "    # Filtrer les données pour les pays de l'OCDE\n",
    "    df_ocde = df[df[country_col].isin(liste_ocde)].copy()\n",
    "    \n",
    "    # Filtrer les données pour les pays de l'Union Africaine\n",
    "    df_ua = df[df[country_col].isin(liste_ua)].copy()\n",
    "    \n",
    "    return df_ocde, df_ua\n"
   ]
  },
  {
   "cell_type": "code",
   "execution_count": 121,
   "metadata": {},
   "outputs": [],
   "source": [
    "# Liste des pays de l'OCDE et de l'Union Africaine (simplifiée pour l'exemple)\n",
    "liste_ocde = [\"United States\", \"Canada\", \"Mexico\", \"United Kingdom\", \"France\", \"Germany\", \"Italy\", \"Spain\", \"Portugal\", \"Greece\", \"Netherlands\", \"Belgium\", \"Luxembourg\", \"Ireland\", \"Denmark\", \"Sweden\", \"Finland\", \"Norway\", \"Switzerland\", \"Iceland\", \"Austria\", \"Hungary\", \"Poland\", \"Czech Republic\", \"Slovakia\", \"Slovenia\", \"Estonia\", \"Latvia\", \"Lithuania\", \"Turkey\", \"Japan\", \"South Korea\", \"Australia\", \"New Zealand\", \"Israel\", \"Chile\", \"Colombia\", \"Costa Rica\"\n",
    "]\n",
    "liste_ua = [\"Algeria\", \"Angola\", \"Benin\", \"Botswana\", \"Burkina Faso\", \"Burundi\", \"Cabo Verde\", \"Cameroon\", \"Central African Republic\", \"Chad\", \"Comoros\", \"Congo\", \"Democratic Republic of the Congo\", \"Cote d’Ivoire\", \"Djibouti\", \"Egypt\", \"Equatorial Guinea\", \"Eritrea\", \"Eswatini\", \"Ethiopia\", \"Gabon\", \"Gambia\", \"Ghana\", \"Guinea\", \"Guinea-Bissau\", \"Kenya\", \"Lesotho\", \"Liberia\", \"Libya\", \"Madagascar\", \"Malawi\", \"Mali\", \"Mauritania\", \"Mauritius\", \"Morocco\", \"Mozambique\", \"Namibia\", \"Niger\", \"Nigeria\", \"Rwanda\", \"Sao Tome and Principe\", \"Senegal\", \"Seychelles\", \"Sierra Leone\", \"Somalia\", \"South Africa\", \"South Sudan\", \"Sudan\", \"Tanzania\", \"Togo\", \"Tunisia\", \"Uganda\", \"Zambia\", \"Zimbabwe\"\n",
    "]\n",
    "\n",
    "# Former les échantillons\n",
    "data_ocde, data_ua = former_echantillons(data_var, country_col='Country', liste_ocde=liste_ocde, liste_ua=liste_ua)"
   ]
  },
  {
   "cell_type": "code",
   "execution_count": 124,
   "metadata": {},
   "outputs": [
    {
     "data": {
      "text/html": [
       "<div>\n",
       "<style scoped>\n",
       "    .dataframe tbody tr th:only-of-type {\n",
       "        vertical-align: middle;\n",
       "    }\n",
       "\n",
       "    .dataframe tbody tr th {\n",
       "        vertical-align: top;\n",
       "    }\n",
       "\n",
       "    .dataframe thead th {\n",
       "        text-align: right;\n",
       "    }\n",
       "</style>\n",
       "<table border=\"1\" class=\"dataframe\">\n",
       "  <thead>\n",
       "    <tr style=\"text-align: right;\">\n",
       "      <th></th>\n",
       "      <th>Country</th>\n",
       "      <th>PIB_par_tête</th>\n",
       "      <th>Taux_croissance_moyen</th>\n",
       "      <th>Taux_epargne_moyen</th>\n",
       "    </tr>\n",
       "  </thead>\n",
       "  <tbody>\n",
       "    <tr>\n",
       "      <th>4</th>\n",
       "      <td>Australia</td>\n",
       "      <td>95352.263249</td>\n",
       "      <td>0.012123</td>\n",
       "      <td>0.237320</td>\n",
       "    </tr>\n",
       "    <tr>\n",
       "      <th>5</th>\n",
       "      <td>Austria</td>\n",
       "      <td>70710.507052</td>\n",
       "      <td>0.003924</td>\n",
       "      <td>0.243029</td>\n",
       "    </tr>\n",
       "    <tr>\n",
       "      <th>9</th>\n",
       "      <td>Belgium</td>\n",
       "      <td>70371.684218</td>\n",
       "      <td>0.002511</td>\n",
       "      <td>0.222966</td>\n",
       "    </tr>\n",
       "    <tr>\n",
       "      <th>20</th>\n",
       "      <td>Canada</td>\n",
       "      <td>68060.239277</td>\n",
       "      <td>0.010675</td>\n",
       "      <td>0.222865</td>\n",
       "    </tr>\n",
       "    <tr>\n",
       "      <th>21</th>\n",
       "      <td>Chile</td>\n",
       "      <td>20641.372781</td>\n",
       "      <td>0.015369</td>\n",
       "      <td>0.222288</td>\n",
       "    </tr>\n",
       "  </tbody>\n",
       "</table>\n",
       "</div>"
      ],
      "text/plain": [
       "      Country  PIB_par_tête  Taux_croissance_moyen  Taux_epargne_moyen\n",
       "4   Australia  95352.263249               0.012123            0.237320\n",
       "5     Austria  70710.507052               0.003924            0.243029\n",
       "9     Belgium  70371.684218               0.002511            0.222966\n",
       "20     Canada  68060.239277               0.010675            0.222865\n",
       "21      Chile  20641.372781               0.015369            0.222288"
      ]
     },
     "execution_count": 124,
     "metadata": {},
     "output_type": "execute_result"
    }
   ],
   "source": [
    "data_ocde.head()"
   ]
  },
  {
   "cell_type": "code",
   "execution_count": 125,
   "metadata": {},
   "outputs": [
    {
     "data": {
      "text/plain": [
       "34"
      ]
     },
     "execution_count": 125,
     "metadata": {},
     "output_type": "execute_result"
    }
   ],
   "source": [
    "len(data_ocde)"
   ]
  },
  {
   "cell_type": "markdown",
   "metadata": {},
   "source": [
    "\n",
    "<br/>\n",
    "<p style=\"line-height: 1.6; font-family: 'Serial', serif; font-size: 20px;  color:black;\"> La base de l'ocde contient 34 pays.</p>"
   ]
  },
  {
   "cell_type": "code",
   "execution_count": 126,
   "metadata": {},
   "outputs": [
    {
     "data": {
      "text/html": [
       "<div>\n",
       "<style scoped>\n",
       "    .dataframe tbody tr th:only-of-type {\n",
       "        vertical-align: middle;\n",
       "    }\n",
       "\n",
       "    .dataframe tbody tr th {\n",
       "        vertical-align: top;\n",
       "    }\n",
       "\n",
       "    .dataframe thead th {\n",
       "        text-align: right;\n",
       "    }\n",
       "</style>\n",
       "<table border=\"1\" class=\"dataframe\">\n",
       "  <thead>\n",
       "    <tr style=\"text-align: right;\">\n",
       "      <th></th>\n",
       "      <th>Country</th>\n",
       "      <th>PIB_par_tête</th>\n",
       "      <th>Taux_croissance_moyen</th>\n",
       "      <th>Taux_epargne_moyen</th>\n",
       "    </tr>\n",
       "  </thead>\n",
       "  <tbody>\n",
       "    <tr>\n",
       "      <th>1</th>\n",
       "      <td>Algeria</td>\n",
       "      <td>7399.372277</td>\n",
       "      <td>0.022871</td>\n",
       "      <td>0.289772</td>\n",
       "    </tr>\n",
       "    <tr>\n",
       "      <th>11</th>\n",
       "      <td>Benin</td>\n",
       "      <td>2294.337061</td>\n",
       "      <td>0.032318</td>\n",
       "      <td>0.138693</td>\n",
       "    </tr>\n",
       "    <tr>\n",
       "      <th>13</th>\n",
       "      <td>Botswana</td>\n",
       "      <td>11350.638910</td>\n",
       "      <td>0.025093</td>\n",
       "      <td>0.170523</td>\n",
       "    </tr>\n",
       "    <tr>\n",
       "      <th>17</th>\n",
       "      <td>Burkina Faso</td>\n",
       "      <td>1353.569135</td>\n",
       "      <td>0.032396</td>\n",
       "      <td>0.151836</td>\n",
       "    </tr>\n",
       "    <tr>\n",
       "      <th>19</th>\n",
       "      <td>Cameroon</td>\n",
       "      <td>2644.513266</td>\n",
       "      <td>0.031103</td>\n",
       "      <td>0.160168</td>\n",
       "    </tr>\n",
       "  </tbody>\n",
       "</table>\n",
       "</div>"
      ],
      "text/plain": [
       "         Country  PIB_par_tête  Taux_croissance_moyen  Taux_epargne_moyen\n",
       "1        Algeria   7399.372277               0.022871            0.289772\n",
       "11         Benin   2294.337061               0.032318            0.138693\n",
       "13      Botswana  11350.638910               0.025093            0.170523\n",
       "17  Burkina Faso   1353.569135               0.032396            0.151836\n",
       "19      Cameroon   2644.513266               0.031103            0.160168"
      ]
     },
     "execution_count": 126,
     "metadata": {},
     "output_type": "execute_result"
    }
   ],
   "source": [
    "data_ua.head()"
   ]
  },
  {
   "cell_type": "code",
   "execution_count": 127,
   "metadata": {},
   "outputs": [
    {
     "data": {
      "text/plain": [
       "25"
      ]
     },
     "execution_count": 127,
     "metadata": {},
     "output_type": "execute_result"
    }
   ],
   "source": [
    "len(data_ua)"
   ]
  },
  {
   "cell_type": "markdown",
   "metadata": {},
   "source": [
    "\n",
    "<br/>\n",
    "<p style=\"line-height: 1.6; font-family: 'Serial', serif; font-size: 20px;  color:black;\"> \n",
    "La base de l'ua contient 25 pays.</p>"
   ]
  },
  {
   "cell_type": "markdown",
   "metadata": {},
   "source": [
    "<br/>\n",
    "<h1 style=\"font-family: 'Georgia', serif; text-align: center; font-size: 30px; color: #3498db;\">IV- <u>Résultats du modèle</u></h1>\n",
    "<br/>\n",
    "<br/>"
   ]
  },
  {
   "cell_type": "code",
   "execution_count": 128,
   "metadata": {},
   "outputs": [
    {
     "name": "stdout",
     "output_type": "stream",
     "text": [
      "Requirement already satisfied: statsmodels in c:\\users\\alex\\appdata\\local\\packages\\pythonsoftwarefoundation.python.3.11_qbz5n2kfra8p0\\localcache\\local-packages\\python311\\site-packages (0.14.4)\n",
      "Requirement already satisfied: numpy<3,>=1.22.3 in c:\\users\\alex\\appdata\\local\\packages\\pythonsoftwarefoundation.python.3.11_qbz5n2kfra8p0\\localcache\\local-packages\\python311\\site-packages (from statsmodels) (2.2.0)\n",
      "Requirement already satisfied: scipy!=1.9.2,>=1.8 in c:\\users\\alex\\appdata\\local\\packages\\pythonsoftwarefoundation.python.3.11_qbz5n2kfra8p0\\localcache\\local-packages\\python311\\site-packages (from statsmodels) (1.14.1)\n",
      "Requirement already satisfied: pandas!=2.1.0,>=1.4 in c:\\users\\alex\\appdata\\local\\packages\\pythonsoftwarefoundation.python.3.11_qbz5n2kfra8p0\\localcache\\local-packages\\python311\\site-packages (from statsmodels) (2.2.3)\n",
      "Requirement already satisfied: patsy>=0.5.6 in c:\\users\\alex\\appdata\\local\\packages\\pythonsoftwarefoundation.python.3.11_qbz5n2kfra8p0\\localcache\\local-packages\\python311\\site-packages (from statsmodels) (1.0.1)\n",
      "Requirement already satisfied: packaging>=21.3 in c:\\users\\alex\\appdata\\local\\packages\\pythonsoftwarefoundation.python.3.11_qbz5n2kfra8p0\\localcache\\local-packages\\python311\\site-packages (from statsmodels) (24.2)\n",
      "Requirement already satisfied: python-dateutil>=2.8.2 in c:\\users\\alex\\appdata\\local\\packages\\pythonsoftwarefoundation.python.3.11_qbz5n2kfra8p0\\localcache\\local-packages\\python311\\site-packages (from pandas!=2.1.0,>=1.4->statsmodels) (2.9.0.post0)\n",
      "Requirement already satisfied: pytz>=2020.1 in c:\\users\\alex\\appdata\\local\\packages\\pythonsoftwarefoundation.python.3.11_qbz5n2kfra8p0\\localcache\\local-packages\\python311\\site-packages (from pandas!=2.1.0,>=1.4->statsmodels) (2024.2)\n",
      "Requirement already satisfied: tzdata>=2022.7 in c:\\users\\alex\\appdata\\local\\packages\\pythonsoftwarefoundation.python.3.11_qbz5n2kfra8p0\\localcache\\local-packages\\python311\\site-packages (from pandas!=2.1.0,>=1.4->statsmodels) (2024.2)\n",
      "Requirement already satisfied: six>=1.5 in c:\\users\\alex\\appdata\\local\\packages\\pythonsoftwarefoundation.python.3.11_qbz5n2kfra8p0\\localcache\\local-packages\\python311\\site-packages (from python-dateutil>=2.8.2->pandas!=2.1.0,>=1.4->statsmodels) (1.17.0)\n"
     ]
    },
    {
     "name": "stderr",
     "output_type": "stream",
     "text": [
      "\n",
      "[notice] A new release of pip is available: 24.0 -> 24.3.1\n",
      "[notice] To update, run: C:\\Users\\ALEX\\AppData\\Local\\Microsoft\\WindowsApps\\PythonSoftwareFoundation.Python.3.11_qbz5n2kfra8p0\\python.exe -m pip install --upgrade pip\n"
     ]
    }
   ],
   "source": [
    "!pip install statsmodels\n",
    "import pandas as pd\n",
    "import numpy as np\n",
    "import statsmodels.api as sm\n",
    "import seaborn as sns\n",
    "import matplotlib.pyplot as plt"
   ]
  },
  {
   "cell_type": "code",
   "execution_count": 144,
   "metadata": {},
   "outputs": [],
   "source": [
    "def plot_correlation_matrix(data, pib_col, epargne_col, croissance_col, g_sigma=0.05):\n",
    "    \"\"\"\n",
    "    Génère une heatmap des corrélations pour les variables spécifiées.\n",
    "    \n",
    "    Arguments :\n",
    "    - data : DataFrame contenant les données\n",
    "    - pib_col : Nom de la colonne pour le PIB par tête\n",
    "    - epargne_col : Nom de la colonne pour le taux d'épargne\n",
    "    - croissance_col : Nom de la colonne pour le taux de croissance\n",
    "    - g_sigma : Constante ajoutée à la croissance (par défaut 0.05)\n",
    "    \n",
    "    Retourne :\n",
    "    - La matrice de corrélation\n",
    "    \"\"\"\n",
    "    # Ajouter les colonnes nécessaires pour la régression\n",
    "    data['log_PIB_par_tete'] = np.log(data[pib_col])\n",
    "    data['log_s'] = np.log(data[epargne_col])\n",
    "    data['log_n_g_sigma'] = np.log(data[croissance_col] + g_sigma)\n",
    "\n",
    "    # Calculer la matrice de corrélation\n",
    "    correlation_matrix = data[['log_PIB_par_tete', 'log_s', 'log_n_g_sigma']].corr()\n",
    "    \n",
    "    # Visualiser la heatmap des corrélations\n",
    "    sns.heatmap(correlation_matrix, annot=True, cmap=\"coolwarm\", fmt=\".2f\")\n",
    "    plt.title(\"Heatmap des corrélations\")\n",
    "    plt.show()\n",
    "    \n",
    "    return correlation_matrix"
   ]
  },
  {
   "cell_type": "markdown",
   "metadata": {},
   "source": [
    "<p style=\"line-height: 1.6; font-family: 'Serial', serif; font-size: 16px;  color:black;\">-Construction de la matrice de corrélation pour la base data_var</p>"
   ]
  },
  {
   "cell_type": "code",
   "execution_count": 153,
   "metadata": {},
   "outputs": [
    {
     "data": {
      "image/png": "[encoded data removed]",
      "text/plain": [
       "<Figure size 640x480 with 2 Axes>"
      ]
     },
     "metadata": {},
     "output_type": "display_data"
    }
   ],
   "source": [
    "correlation_matrix = plot_correlation_matrix(\n",
    "    data=data_var,\n",
    "    pib_col='PIB_par_tête',\n",
    "    epargne_col='Taux_epargne_moyen',\n",
    "    croissance_col='Taux_croissance_moyen'\n",
    ")"
   ]
  },
  {
   "cell_type": "markdown",
   "metadata": {},
   "source": [
    "<p style=\"line-height: 1.6; font-family: 'Serial', serif; font-size: 16px;  color:black;\">Les corrélations entre les prédicteurs (log_s et log_n_g_sigma) sont faibles (-0.18). Cela signifie qu'il n'y a pas de problème significatif de multicolinéarité entre les variables explicatives. Vous pouvez donc les utiliser ensemble dans la régression sans ajustements spécifiques.</p>"
   ]
  },
  {
   "cell_type": "code",
   "execution_count": 146,
   "metadata": {},
   "outputs": [],
   "source": [
    "def perform_regression(data, dependent_var, independent_vars):\n",
    "    \"\"\"\n",
    "    Effectue une régression linéaire OLS sur les données spécifiées.\n",
    "\n",
    "    Arguments :\n",
    "    - data : DataFrame contenant les données\n",
    "    - dependent_var : Nom de la colonne pour la variable dépendante (y)\n",
    "    - independent_vars : Liste des noms des colonnes pour les variables indépendantes (X)\n",
    "\n",
    "    Retourne :\n",
    "    - Un résumé du modèle de régression\n",
    "    \"\"\"\n",
    "    # Extraire la variable dépendante (y) et les variables indépendantes (X)\n",
    "    y = data[[dependent_var]]\n",
    "    X = data[independent_vars]\n",
    "\n",
    "    # Ajouter une constante pour inclure l'intercept dans le modèle\n",
    "    X = sm.add_constant(X)\n",
    "\n",
    "    # Effectuer la régression linéaire\n",
    "    model = sm.OLS(y, X).fit()\n",
    "\n",
    "    # Afficher le résumé des résultats\n",
    "    return model.summary()"
   ]
  },
  {
   "cell_type": "markdown",
   "metadata": {},
   "source": [
    "<p style=\"line-height: 1.6; font-family: 'Serial', serif; font-size: 16px;  color:black;\"> -Regression sur la base data_var</p>"
   ]
  },
  {
   "cell_type": "code",
   "execution_count": 148,
   "metadata": {},
   "outputs": [
    {
     "name": "stdout",
     "output_type": "stream",
     "text": [
      "                            OLS Regression Results                            \n",
      "==============================================================================\n",
      "Dep. Variable:       log_PIB_par_tete   R-squared:                       0.354\n",
      "Model:                            OLS   Adj. R-squared:                  0.343\n",
      "Method:                 Least Squares   F-statistic:                     31.29\n",
      "Date:                Sun, 22 Dec 2024   Prob (F-statistic):           1.48e-11\n",
      "Time:                        19:25:28   Log-Likelihood:                -175.19\n",
      "No. Observations:                 117   AIC:                             356.4\n",
      "Df Residuals:                     114   BIC:                             364.7\n",
      "Df Model:                           2                                         \n",
      "Covariance Type:            nonrobust                                         \n",
      "=================================================================================\n",
      "                    coef    std err          t      P>|t|      [0.025      0.975]\n",
      "---------------------------------------------------------------------------------\n",
      "const             1.7136      1.592      1.076      0.284      -1.440       4.867\n",
      "log_s             0.9867      0.372      2.653      0.009       0.250       1.724\n",
      "log_n_g_sigma    -3.3892      0.496     -6.834      0.000      -4.372      -2.407\n",
      "==============================================================================\n",
      "Omnibus:                        1.825   Durbin-Watson:                   1.714\n",
      "Prob(Omnibus):                  0.402   Jarque-Bera (JB):                1.827\n",
      "Skew:                           0.240   Prob(JB):                        0.401\n",
      "Kurtosis:                       2.620   Cond. No.                         55.1\n",
      "==============================================================================\n",
      "\n",
      "Notes:\n",
      "[1] Standard Errors assume that the covariance matrix of the errors is correctly specified.\n"
     ]
    }
   ],
   "source": [
    "regression_summary = perform_regression(\n",
    "    data=data_var,\n",
    "    dependent_var='log_PIB_par_tete',\n",
    "    independent_vars=['log_s', 'log_n_g_sigma']\n",
    ")\n",
    "print(regression_summary)"
   ]
  },
  {
   "cell_type": "markdown",
   "metadata": {},
   "source": [
    "<p style=\"line-height: 1.6; font-family: 'Serial', serif; font-size: 16px;  color:black;\">-Construction de la matrice de corrélation pour la base data_ocde pour les pays ocde</p>"
   ]
  },
  {
   "cell_type": "code",
   "execution_count": 149,
   "metadata": {},
   "outputs": [
    {
     "data": {
      "image/png": "[encoded data removed]",
      "text/plain": [
       "<Figure size 640x480 with 2 Axes>"
      ]
     },
     "metadata": {},
     "output_type": "display_data"
    }
   ],
   "source": [
    "correlation_matrix = plot_correlation_matrix(\n",
    "    data=data_ocde,\n",
    "    pib_col='PIB_par_tête',\n",
    "    epargne_col='Taux_epargne_moyen',\n",
    "    croissance_col='Taux_croissance_moyen'\n",
    ")"
   ]
  },
  {
   "cell_type": "markdown",
   "metadata": {},
   "source": [
    "<p style=\"line-height: 1.6; font-family: 'Serial', serif; font-size: 16px;  color:black;\">\n",
    "Les corrélations entre les prédicteurs (log_s et log_n_g_sigma) sont faibles (-0.23). Cela signifie qu'il n'y a pas de problème significatif de multicolinéarité entre les variables explicatives. Vous pouvez donc les utiliser ensemble dans la régression sans ajustements spécifiques.\n",
    "</p>"
   ]
  },
  {
   "cell_type": "markdown",
   "metadata": {},
   "source": [
    "<p style=\"line-height: 1.6; font-family: 'Serial', serif; font-size: 18px;  color:black;\"><b>\n",
    "Regression sur la base data_ocde</b>\n",
    "</p>"
   ]
  },
  {
   "cell_type": "code",
   "execution_count": 150,
   "metadata": {},
   "outputs": [
    {
     "name": "stdout",
     "output_type": "stream",
     "text": [
      "                            OLS Regression Results                            \n",
      "==============================================================================\n",
      "Dep. Variable:       log_PIB_par_tete   R-squared:                       0.032\n",
      "Model:                            OLS   Adj. R-squared:                 -0.031\n",
      "Method:                 Least Squares   F-statistic:                    0.5042\n",
      "Date:                Sun, 22 Dec 2024   Prob (F-statistic):              0.609\n",
      "Time:                        20:08:28   Log-Likelihood:                -33.808\n",
      "No. Observations:                  34   AIC:                             73.62\n",
      "Df Residuals:                      31   BIC:                             78.19\n",
      "Df Model:                           2                                         \n",
      "Covariance Type:            nonrobust                                         \n",
      "=================================================================================\n",
      "                    coef    std err          t      P>|t|      [0.025      0.975]\n",
      "---------------------------------------------------------------------------------\n",
      "const            13.9739      3.262      4.284      0.000       7.321      20.627\n",
      "log_s             1.0369      1.141      0.909      0.371      -1.290       3.364\n",
      "log_n_g_sigma     0.5117      0.815      0.628      0.535      -1.150       2.174\n",
      "==============================================================================\n",
      "Omnibus:                        3.580   Durbin-Watson:                   1.805\n",
      "Prob(Omnibus):                  0.167   Jarque-Bera (JB):                2.744\n",
      "Skew:                          -0.695   Prob(JB):                        0.254\n",
      "Kurtosis:                       3.067   Cond. No.                         100.\n",
      "==============================================================================\n",
      "\n",
      "Notes:\n",
      "[1] Standard Errors assume that the covariance matrix of the errors is correctly specified.\n"
     ]
    }
   ],
   "source": [
    "regression_summary = perform_regression(\n",
    "    data=data_ocde,\n",
    "    dependent_var='log_PIB_par_tete',\n",
    "    independent_vars=['log_s', 'log_n_g_sigma']\n",
    ")\n",
    "print(regression_summary)"
   ]
  },
  {
   "cell_type": "markdown",
   "metadata": {},
   "source": [
    "<p style=\"line-height: 1.6; font-family: 'Serial', serif; font-size: 16px;  color:black;\">-Construction de la matrice de corrélation pour la base data_ua pour les pays ua</p>"
   ]
  },
  {
   "cell_type": "code",
   "execution_count": 151,
   "metadata": {},
   "outputs": [
    {
     "data": {
      "image/png": "[encoded data removed]",
      "text/plain": [
       "<Figure size 640x480 with 2 Axes>"
      ]
     },
     "metadata": {},
     "output_type": "display_data"
    }
   ],
   "source": [
    "correlation_matrix = plot_correlation_matrix(\n",
    "    data=data_ua,\n",
    "    pib_col='PIB_par_tête',\n",
    "    epargne_col='Taux_epargne_moyen',\n",
    "    croissance_col='Taux_croissance_moyen'\n",
    ")"
   ]
  },
  {
   "cell_type": "markdown",
   "metadata": {},
   "source": [
    "<p style=\"line-height: 1.6; font-family: 'Serial', serif; font-size: 16px;  color:black;\">\n",
    "Les corrélations entre les prédicteurs (log_s et log_n_g_sigma) sont faibles (-0.21). Cela signifie qu'il n'y a pas de problème significatif de multicolinéarité entre les variables explicatives. Vous pouvez donc les utiliser ensemble dans la régression sans ajustements spécifiques.\n",
    "</p>"
   ]
  },
  {
   "cell_type": "markdown",
   "metadata": {},
   "source": [
    "<p style=\"line-height: 1.6; font-family: 'Serial', serif; font-size: 20px;  color:black;\"><b>\n",
    "Regression sur la base data_ua</b></p>"
   ]
  },
  {
   "cell_type": "code",
   "execution_count": 152,
   "metadata": {},
   "outputs": [
    {
     "name": "stdout",
     "output_type": "stream",
     "text": [
      "                            OLS Regression Results                            \n",
      "==============================================================================\n",
      "Dep. Variable:       log_PIB_par_tete   R-squared:                       0.329\n",
      "Model:                            OLS   Adj. R-squared:                  0.268\n",
      "Method:                 Least Squares   F-statistic:                     5.396\n",
      "Date:                Sun, 22 Dec 2024   Prob (F-statistic):             0.0124\n",
      "Time:                        20:14:15   Log-Likelihood:                -27.333\n",
      "No. Observations:                  25   AIC:                             60.67\n",
      "Df Residuals:                      22   BIC:                             64.32\n",
      "Df Model:                           2                                         \n",
      "Covariance Type:            nonrobust                                         \n",
      "=================================================================================\n",
      "                    coef    std err          t      P>|t|      [0.025      0.975]\n",
      "---------------------------------------------------------------------------------\n",
      "const            -3.4638      4.411     -0.785      0.441     -12.612       5.684\n",
      "log_s             0.3878      0.452      0.859      0.400      -0.549       1.325\n",
      "log_n_g_sigma    -4.7537      1.625     -2.926      0.008      -8.123      -1.384\n",
      "==============================================================================\n",
      "Omnibus:                        1.228   Durbin-Watson:                   1.746\n",
      "Prob(Omnibus):                  0.541   Jarque-Bera (JB):                0.258\n",
      "Skew:                           0.007   Prob(JB):                        0.879\n",
      "Kurtosis:                       3.497   Cond. No.                         99.4\n",
      "==============================================================================\n",
      "\n",
      "Notes:\n",
      "[1] Standard Errors assume that the covariance matrix of the errors is correctly specified.\n"
     ]
    }
   ],
   "source": [
    "regression_summary = perform_regression(\n",
    "    data=data_ua,\n",
    "    dependent_var='log_PIB_par_tete',\n",
    "    independent_vars=['log_s', 'log_n_g_sigma']\n",
    ")\n",
    "print(regression_summary)"
   ]
  }
 ],
 "metadata": {
  "kernelspec": {
   "display_name": "Python 3",
   "language": "python",
   "name": "python3"
  },
  "language_info": {
   "codemirror_mode": {
    "name": "ipython",
    "version": 3
   },
   "file_extension": ".py",
   "mimetype": "text/x-python",
   "name": "python",
   "nbconvert_exporter": "python",
   "pygments_lexer": "ipython3",
   "version": "3.11.9"
  }
 },
 "nbformat": 4,
 "nbformat_minor": 2
}
